{
  "cells": [
    {
      "cell_type": "markdown",
      "metadata": {
        "id": "goua7aDHJVFQ"
      },
      "source": [
        "## Descrição\n",
        "\n",
        "Esse notebook foi construído para realizar os desafios propostos no final de cada aula do curso **Pandas: conhecendo a biblioteca**"
      ]
    },
    {
      "cell_type": "markdown",
      "metadata": {
        "id": "2osVQB21Jkl0"
      },
      "source": [
        "## Aula 1: Conhecendo a base de dados"
      ]
    },
    {
      "cell_type": "markdown",
      "metadata": {
        "id": "MvoEQ0djJ4zz"
      },
      "source": [
        "### Desafio 1\n",
        "Importe o arquivo [**alunos.csv**](https://raw.githubusercontent.com/alura-cursos/pandas-conhecendo-a-biblioteca/main/desafios/alunos.csv) e armazene seu conteúdo em um DataFrame Pandas"
      ]
    },
    {
      "cell_type": "code",
      "execution_count": 1,
      "metadata": {
        "id": "vGH2QKP6JL-f"
      },
      "outputs": [],
      "source": [
        "import pandas as pd\n",
        "import matplotlib.pyplot as plt"
      ]
    },
    {
      "cell_type": "code",
      "execution_count": 93,
      "metadata": {
        "id": "woFmZUEwKDjH"
      },
      "outputs": [
        {
          "name": "stdout",
          "output_type": "stream",
          "text": [
            "<class 'pandas.core.frame.DataFrame'>\n",
            "RangeIndex: 18 entries, 0 to 17\n",
            "Data columns (total 4 columns):\n",
            " #   Column    Non-Null Count  Dtype  \n",
            "---  ------    --------------  -----  \n",
            " 0   Nome      18 non-null     object \n",
            " 1   Idade     18 non-null     int64  \n",
            " 2   Notas     12 non-null     float64\n",
            " 3   Aprovado  18 non-null     bool   \n",
            "dtypes: bool(1), float64(1), int64(1), object(1)\n",
            "memory usage: 582.0+ bytes\n"
          ]
        }
      ],
      "source": [
        "students_url = 'https://raw.githubusercontent.com/alura-cursos/pandas-conhecendo-a-biblioteca/main/desafios/alunos.csv'\n",
        "\n",
        "df_students = pd.read_csv(students_url)\n",
        "df_students.info()"
      ]
    },
    {
      "cell_type": "markdown",
      "metadata": {
        "id": "_Clm9OC8KEzn"
      },
      "source": [
        "### Desafio 2\n",
        "Visualize as primeiras 7 linhas do DataFrame e as 5 últimas"
      ]
    },
    {
      "cell_type": "code",
      "execution_count": 94,
      "metadata": {
        "id": "dGnHtl0CKVBj"
      },
      "outputs": [
        {
          "data": {
            "text/html": [
              "<div>\n",
              "<style scoped>\n",
              "    .dataframe tbody tr th:only-of-type {\n",
              "        vertical-align: middle;\n",
              "    }\n",
              "\n",
              "    .dataframe tbody tr th {\n",
              "        vertical-align: top;\n",
              "    }\n",
              "\n",
              "    .dataframe thead th {\n",
              "        text-align: right;\n",
              "    }\n",
              "</style>\n",
              "<table border=\"1\" class=\"dataframe\">\n",
              "  <thead>\n",
              "    <tr style=\"text-align: right;\">\n",
              "      <th></th>\n",
              "      <th>Nome</th>\n",
              "      <th>Idade</th>\n",
              "      <th>Notas</th>\n",
              "      <th>Aprovado</th>\n",
              "    </tr>\n",
              "  </thead>\n",
              "  <tbody>\n",
              "    <tr>\n",
              "      <th>0</th>\n",
              "      <td>Ary</td>\n",
              "      <td>20</td>\n",
              "      <td>7.5</td>\n",
              "      <td>True</td>\n",
              "    </tr>\n",
              "    <tr>\n",
              "      <th>1</th>\n",
              "      <td>Ana</td>\n",
              "      <td>18</td>\n",
              "      <td>NaN</td>\n",
              "      <td>False</td>\n",
              "    </tr>\n",
              "    <tr>\n",
              "      <th>2</th>\n",
              "      <td>Cátia</td>\n",
              "      <td>27</td>\n",
              "      <td>2.5</td>\n",
              "      <td>False</td>\n",
              "    </tr>\n",
              "    <tr>\n",
              "      <th>3</th>\n",
              "      <td>Denis</td>\n",
              "      <td>18</td>\n",
              "      <td>5.0</td>\n",
              "      <td>False</td>\n",
              "    </tr>\n",
              "    <tr>\n",
              "      <th>4</th>\n",
              "      <td>Beto</td>\n",
              "      <td>21</td>\n",
              "      <td>10.0</td>\n",
              "      <td>True</td>\n",
              "    </tr>\n",
              "    <tr>\n",
              "      <th>5</th>\n",
              "      <td>Bruna</td>\n",
              "      <td>23</td>\n",
              "      <td>NaN</td>\n",
              "      <td>False</td>\n",
              "    </tr>\n",
              "    <tr>\n",
              "      <th>6</th>\n",
              "      <td>Dara</td>\n",
              "      <td>21</td>\n",
              "      <td>7.0</td>\n",
              "      <td>True</td>\n",
              "    </tr>\n",
              "  </tbody>\n",
              "</table>\n",
              "</div>"
            ],
            "text/plain": [
              "    Nome  Idade  Notas  Aprovado\n",
              "0    Ary     20    7.5      True\n",
              "1    Ana     18    NaN     False\n",
              "2  Cátia     27    2.5     False\n",
              "3  Denis     18    5.0     False\n",
              "4   Beto     21   10.0      True\n",
              "5  Bruna     23    NaN     False\n",
              "6   Dara     21    7.0      True"
            ]
          },
          "execution_count": 94,
          "metadata": {},
          "output_type": "execute_result"
        }
      ],
      "source": [
        "df_students.head(7)"
      ]
    },
    {
      "cell_type": "code",
      "execution_count": 95,
      "metadata": {
        "id": "hksDPBjjKY27"
      },
      "outputs": [
        {
          "data": {
            "text/html": [
              "<div>\n",
              "<style scoped>\n",
              "    .dataframe tbody tr th:only-of-type {\n",
              "        vertical-align: middle;\n",
              "    }\n",
              "\n",
              "    .dataframe tbody tr th {\n",
              "        vertical-align: top;\n",
              "    }\n",
              "\n",
              "    .dataframe thead th {\n",
              "        text-align: right;\n",
              "    }\n",
              "</style>\n",
              "<table border=\"1\" class=\"dataframe\">\n",
              "  <thead>\n",
              "    <tr style=\"text-align: right;\">\n",
              "      <th></th>\n",
              "      <th>Nome</th>\n",
              "      <th>Idade</th>\n",
              "      <th>Notas</th>\n",
              "      <th>Aprovado</th>\n",
              "    </tr>\n",
              "  </thead>\n",
              "  <tbody>\n",
              "    <tr>\n",
              "      <th>13</th>\n",
              "      <td>Mirla</td>\n",
              "      <td>25</td>\n",
              "      <td>9.0</td>\n",
              "      <td>True</td>\n",
              "    </tr>\n",
              "    <tr>\n",
              "      <th>14</th>\n",
              "      <td>Paulo</td>\n",
              "      <td>37</td>\n",
              "      <td>NaN</td>\n",
              "      <td>False</td>\n",
              "    </tr>\n",
              "    <tr>\n",
              "      <th>15</th>\n",
              "      <td>Mylena</td>\n",
              "      <td>29</td>\n",
              "      <td>7.0</td>\n",
              "      <td>True</td>\n",
              "    </tr>\n",
              "    <tr>\n",
              "      <th>16</th>\n",
              "      <td>Lucas</td>\n",
              "      <td>33</td>\n",
              "      <td>NaN</td>\n",
              "      <td>False</td>\n",
              "    </tr>\n",
              "    <tr>\n",
              "      <th>17</th>\n",
              "      <td>Nadia</td>\n",
              "      <td>34</td>\n",
              "      <td>8.0</td>\n",
              "      <td>True</td>\n",
              "    </tr>\n",
              "  </tbody>\n",
              "</table>\n",
              "</div>"
            ],
            "text/plain": [
              "      Nome  Idade  Notas  Aprovado\n",
              "13   Mirla     25    9.0      True\n",
              "14   Paulo     37    NaN     False\n",
              "15  Mylena     29    7.0      True\n",
              "16   Lucas     33    NaN     False\n",
              "17   Nadia     34    8.0      True"
            ]
          },
          "execution_count": 95,
          "metadata": {},
          "output_type": "execute_result"
        }
      ],
      "source": [
        "df_students.tail()"
      ]
    },
    {
      "cell_type": "markdown",
      "metadata": {
        "id": "5h6GhVJJKZZn"
      },
      "source": [
        "### Desafio 3\n",
        "Confira a quantidade de linhas e colunas do DataFrame"
      ]
    },
    {
      "cell_type": "code",
      "execution_count": 96,
      "metadata": {
        "id": "Na2Hb-rlKfBy"
      },
      "outputs": [
        {
          "data": {
            "text/plain": [
              "'Linhas: 18, Colunas: 4'"
            ]
          },
          "execution_count": 96,
          "metadata": {},
          "output_type": "execute_result"
        }
      ],
      "source": [
        "rows, columns = df_students.shape\n",
        "f'Linhas: {rows}, Colunas: {columns}'"
      ]
    },
    {
      "cell_type": "markdown",
      "metadata": {
        "id": "ci0j5pcMKgbr"
      },
      "source": [
        "### Desafio 4\n",
        "Explore as colunas do DataFrame e analise os tipos dos dados presentes em cada coluna"
      ]
    },
    {
      "cell_type": "code",
      "execution_count": 97,
      "metadata": {
        "id": "BcZUf6dwKjk7"
      },
      "outputs": [
        {
          "data": {
            "text/plain": [
              "Nome         object\n",
              "Idade         int64\n",
              "Notas       float64\n",
              "Aprovado       bool\n",
              "dtype: object"
            ]
          },
          "execution_count": 97,
          "metadata": {},
          "output_type": "execute_result"
        }
      ],
      "source": [
        "df_students.dtypes"
      ]
    },
    {
      "cell_type": "code",
      "execution_count": 98,
      "metadata": {
        "id": "QHCBKee6Kkj7"
      },
      "outputs": [
        {
          "name": "stdout",
          "output_type": "stream",
          "text": [
            "<class 'pandas.core.frame.DataFrame'>\n",
            "RangeIndex: 18 entries, 0 to 17\n",
            "Data columns (total 4 columns):\n",
            " #   Column    Non-Null Count  Dtype  \n",
            "---  ------    --------------  -----  \n",
            " 0   Nome      18 non-null     object \n",
            " 1   Idade     18 non-null     int64  \n",
            " 2   Notas     12 non-null     float64\n",
            " 3   Aprovado  18 non-null     bool   \n",
            "dtypes: bool(1), float64(1), int64(1), object(1)\n",
            "memory usage: 582.0+ bytes\n"
          ]
        }
      ],
      "source": [
        "df_students.info()"
      ]
    },
    {
      "cell_type": "code",
      "execution_count": 99,
      "metadata": {
        "id": "xPQMDDaVKlLB"
      },
      "outputs": [
        {
          "data": {
            "text/html": [
              "<div>\n",
              "<style scoped>\n",
              "    .dataframe tbody tr th:only-of-type {\n",
              "        vertical-align: middle;\n",
              "    }\n",
              "\n",
              "    .dataframe tbody tr th {\n",
              "        vertical-align: top;\n",
              "    }\n",
              "\n",
              "    .dataframe thead th {\n",
              "        text-align: right;\n",
              "    }\n",
              "</style>\n",
              "<table border=\"1\" class=\"dataframe\">\n",
              "  <thead>\n",
              "    <tr style=\"text-align: right;\">\n",
              "      <th></th>\n",
              "      <th>Nome</th>\n",
              "      <th>Idade</th>\n",
              "      <th>Notas</th>\n",
              "      <th>Aprovado</th>\n",
              "    </tr>\n",
              "  </thead>\n",
              "  <tbody>\n",
              "    <tr>\n",
              "      <th>0</th>\n",
              "      <td>Ary</td>\n",
              "      <td>20</td>\n",
              "      <td>7.5</td>\n",
              "      <td>True</td>\n",
              "    </tr>\n",
              "    <tr>\n",
              "      <th>1</th>\n",
              "      <td>Ana</td>\n",
              "      <td>18</td>\n",
              "      <td>NaN</td>\n",
              "      <td>False</td>\n",
              "    </tr>\n",
              "    <tr>\n",
              "      <th>2</th>\n",
              "      <td>Cátia</td>\n",
              "      <td>27</td>\n",
              "      <td>2.5</td>\n",
              "      <td>False</td>\n",
              "    </tr>\n",
              "    <tr>\n",
              "      <th>3</th>\n",
              "      <td>Denis</td>\n",
              "      <td>18</td>\n",
              "      <td>5.0</td>\n",
              "      <td>False</td>\n",
              "    </tr>\n",
              "    <tr>\n",
              "      <th>4</th>\n",
              "      <td>Beto</td>\n",
              "      <td>21</td>\n",
              "      <td>10.0</td>\n",
              "      <td>True</td>\n",
              "    </tr>\n",
              "  </tbody>\n",
              "</table>\n",
              "</div>"
            ],
            "text/plain": [
              "    Nome  Idade  Notas  Aprovado\n",
              "0    Ary     20    7.5      True\n",
              "1    Ana     18    NaN     False\n",
              "2  Cátia     27    2.5     False\n",
              "3  Denis     18    5.0     False\n",
              "4   Beto     21   10.0      True"
            ]
          },
          "execution_count": 99,
          "metadata": {},
          "output_type": "execute_result"
        }
      ],
      "source": [
        "df_students.head()"
      ]
    },
    {
      "cell_type": "code",
      "execution_count": null,
      "metadata": {
        "id": "SFHoqZvlKldl"
      },
      "outputs": [],
      "source": []
    },
    {
      "cell_type": "markdown",
      "metadata": {
        "id": "jR8mayuIKl0m"
      },
      "source": [
        "### **Extra**\n",
        "Calcule algumas estatísticas descritivas básicas dos dados do DataFrame (média, desvio padrão, etc) - Dica: pesquise pelo método **describe**"
      ]
    },
    {
      "cell_type": "code",
      "execution_count": 100,
      "metadata": {
        "id": "tE07xd72KrE1"
      },
      "outputs": [
        {
          "data": {
            "text/html": [
              "<div>\n",
              "<style scoped>\n",
              "    .dataframe tbody tr th:only-of-type {\n",
              "        vertical-align: middle;\n",
              "    }\n",
              "\n",
              "    .dataframe tbody tr th {\n",
              "        vertical-align: top;\n",
              "    }\n",
              "\n",
              "    .dataframe thead th {\n",
              "        text-align: right;\n",
              "    }\n",
              "</style>\n",
              "<table border=\"1\" class=\"dataframe\">\n",
              "  <thead>\n",
              "    <tr style=\"text-align: right;\">\n",
              "      <th></th>\n",
              "      <th>Idade</th>\n",
              "      <th>Notas</th>\n",
              "    </tr>\n",
              "  </thead>\n",
              "  <tbody>\n",
              "    <tr>\n",
              "      <th>count</th>\n",
              "      <td>18.000000</td>\n",
              "      <td>12.000000</td>\n",
              "    </tr>\n",
              "    <tr>\n",
              "      <th>mean</th>\n",
              "      <td>25.500000</td>\n",
              "      <td>6.800000</td>\n",
              "    </tr>\n",
              "    <tr>\n",
              "      <th>std</th>\n",
              "      <td>6.070662</td>\n",
              "      <td>2.204953</td>\n",
              "    </tr>\n",
              "    <tr>\n",
              "      <th>min</th>\n",
              "      <td>18.000000</td>\n",
              "      <td>2.500000</td>\n",
              "    </tr>\n",
              "    <tr>\n",
              "      <th>25%</th>\n",
              "      <td>21.000000</td>\n",
              "      <td>5.450000</td>\n",
              "    </tr>\n",
              "    <tr>\n",
              "      <th>50%</th>\n",
              "      <td>24.500000</td>\n",
              "      <td>7.000000</td>\n",
              "    </tr>\n",
              "    <tr>\n",
              "      <th>75%</th>\n",
              "      <td>28.750000</td>\n",
              "      <td>8.250000</td>\n",
              "    </tr>\n",
              "    <tr>\n",
              "      <th>max</th>\n",
              "      <td>37.000000</td>\n",
              "      <td>10.000000</td>\n",
              "    </tr>\n",
              "  </tbody>\n",
              "</table>\n",
              "</div>"
            ],
            "text/plain": [
              "           Idade      Notas\n",
              "count  18.000000  12.000000\n",
              "mean   25.500000   6.800000\n",
              "std     6.070662   2.204953\n",
              "min    18.000000   2.500000\n",
              "25%    21.000000   5.450000\n",
              "50%    24.500000   7.000000\n",
              "75%    28.750000   8.250000\n",
              "max    37.000000  10.000000"
            ]
          },
          "execution_count": 100,
          "metadata": {},
          "output_type": "execute_result"
        }
      ],
      "source": [
        "df_students.describe()"
      ]
    },
    {
      "cell_type": "markdown",
      "metadata": {
        "id": "uMA6kKxSKtZ6"
      },
      "source": [
        "## Aula 2: Análise exploratória dos dados"
      ]
    },
    {
      "cell_type": "markdown",
      "metadata": {
        "id": "eQ6g_wYOiHSM"
      },
      "source": [
        "Para os desafios dessa aula, vamos utilizar a mesma base de dados que estamos utilizando para o desenvolvimento do nosso projeto. Sendo assim, na célula abaixo vamos realizar a importação dessa base de dados e aplicar as transformações já realizadas até o momento da aula 2."
      ]
    },
    {
      "cell_type": "code",
      "execution_count": 101,
      "metadata": {
        "id": "dUODdE3QidZ_"
      },
      "outputs": [],
      "source": [
        "# importando a base de dados\n",
        "url = 'https://raw.githubusercontent.com/alura-cursos/pandas-conhecendo-a-biblioteca/main/base-de-dados/aluguel.csv'\n",
        "dados = pd.read_csv(url, sep=';')"
      ]
    },
    {
      "cell_type": "code",
      "execution_count": 102,
      "metadata": {
        "colab": {
          "base_uri": "https://localhost:8080/",
          "height": 206
        },
        "id": "y-FDJ89Fi444",
        "outputId": "bab8f8c8-4740-4c68-d405-bd2d77a88dd0"
      },
      "outputs": [
        {
          "data": {
            "text/html": [
              "<div>\n",
              "<style scoped>\n",
              "    .dataframe tbody tr th:only-of-type {\n",
              "        vertical-align: middle;\n",
              "    }\n",
              "\n",
              "    .dataframe tbody tr th {\n",
              "        vertical-align: top;\n",
              "    }\n",
              "\n",
              "    .dataframe thead th {\n",
              "        text-align: right;\n",
              "    }\n",
              "</style>\n",
              "<table border=\"1\" class=\"dataframe\">\n",
              "  <thead>\n",
              "    <tr style=\"text-align: right;\">\n",
              "      <th></th>\n",
              "      <th>Tipo</th>\n",
              "      <th>Bairro</th>\n",
              "      <th>Quartos</th>\n",
              "      <th>Vagas</th>\n",
              "      <th>Suites</th>\n",
              "      <th>Area</th>\n",
              "      <th>Valor</th>\n",
              "      <th>Condominio</th>\n",
              "      <th>IPTU</th>\n",
              "    </tr>\n",
              "  </thead>\n",
              "  <tbody>\n",
              "    <tr>\n",
              "      <th>3</th>\n",
              "      <td>Apartamento</td>\n",
              "      <td>Centro</td>\n",
              "      <td>1</td>\n",
              "      <td>0</td>\n",
              "      <td>0</td>\n",
              "      <td>15</td>\n",
              "      <td>800.0</td>\n",
              "      <td>390.0</td>\n",
              "      <td>20.0</td>\n",
              "    </tr>\n",
              "    <tr>\n",
              "      <th>4</th>\n",
              "      <td>Apartamento</td>\n",
              "      <td>Higienópolis</td>\n",
              "      <td>1</td>\n",
              "      <td>0</td>\n",
              "      <td>0</td>\n",
              "      <td>48</td>\n",
              "      <td>800.0</td>\n",
              "      <td>230.0</td>\n",
              "      <td>NaN</td>\n",
              "    </tr>\n",
              "    <tr>\n",
              "      <th>5</th>\n",
              "      <td>Apartamento</td>\n",
              "      <td>Vista Alegre</td>\n",
              "      <td>3</td>\n",
              "      <td>1</td>\n",
              "      <td>0</td>\n",
              "      <td>70</td>\n",
              "      <td>1200.0</td>\n",
              "      <td>NaN</td>\n",
              "      <td>NaN</td>\n",
              "    </tr>\n",
              "    <tr>\n",
              "      <th>6</th>\n",
              "      <td>Apartamento</td>\n",
              "      <td>Cachambi</td>\n",
              "      <td>2</td>\n",
              "      <td>0</td>\n",
              "      <td>0</td>\n",
              "      <td>50</td>\n",
              "      <td>1300.0</td>\n",
              "      <td>301.0</td>\n",
              "      <td>17.0</td>\n",
              "    </tr>\n",
              "    <tr>\n",
              "      <th>10</th>\n",
              "      <td>Apartamento</td>\n",
              "      <td>Centro</td>\n",
              "      <td>1</td>\n",
              "      <td>0</td>\n",
              "      <td>0</td>\n",
              "      <td>36</td>\n",
              "      <td>1200.0</td>\n",
              "      <td>NaN</td>\n",
              "      <td>NaN</td>\n",
              "    </tr>\n",
              "  </tbody>\n",
              "</table>\n",
              "</div>"
            ],
            "text/plain": [
              "           Tipo        Bairro  Quartos  Vagas  Suites  Area   Valor  \\\n",
              "3   Apartamento        Centro        1      0       0    15   800.0   \n",
              "4   Apartamento  Higienópolis        1      0       0    48   800.0   \n",
              "5   Apartamento  Vista Alegre        3      1       0    70  1200.0   \n",
              "6   Apartamento      Cachambi        2      0       0    50  1300.0   \n",
              "10  Apartamento        Centro        1      0       0    36  1200.0   \n",
              "\n",
              "    Condominio  IPTU  \n",
              "3        390.0  20.0  \n",
              "4        230.0   NaN  \n",
              "5          NaN   NaN  \n",
              "6        301.0  17.0  \n",
              "10         NaN   NaN  "
            ]
          },
          "execution_count": 102,
          "metadata": {},
          "output_type": "execute_result"
        }
      ],
      "source": [
        "imoveis_comerciais = ['Conjunto Comercial/Sala', \n",
        "                      'Prédio Inteiro', 'Loja/Salão', \n",
        "                      'Galpão/Depósito/Armazém', \n",
        "                      'Casa Comercial', 'Terreno Padrão',\n",
        "                      'Loja Shopping/ Ct Comercial',\n",
        "                      'Box/Garagem', 'Chácara',\n",
        "                      'Loteamento/Condomínio', 'Sítio',\n",
        "                      'Pousada/Chalé', 'Hotel', 'Indústria']\n",
        "                      \n",
        "# removendo imóveis comerciais\n",
        "df_apartamento = dados.query('@imoveis_comerciais not in Tipo')\n",
        "\n",
        "# selecionando apenas imóveis do tipo apartamento\n",
        "df_apartamento = df_apartamento.query('Tipo == \"Apartamento\"')\n",
        "\n",
        "# visualizando a base de dados\n",
        "df_apartamento.head()"
      ]
    },
    {
      "cell_type": "markdown",
      "metadata": {
        "id": "0UIfl11Th0em"
      },
      "source": [
        "### Desafio 1\n",
        "Calcular a média de quartos por apartamento"
      ]
    },
    {
      "cell_type": "code",
      "execution_count": 103,
      "metadata": {
        "id": "VqilmozQKxyM"
      },
      "outputs": [
        {
          "data": {
            "text/plain": [
              "np.float64(2.481568707761622)"
            ]
          },
          "execution_count": 103,
          "metadata": {},
          "output_type": "execute_result"
        }
      ],
      "source": [
        "df_apartamento.Quartos.mean()"
      ]
    },
    {
      "cell_type": "markdown",
      "metadata": {
        "id": "QHOiAeNKh3eZ"
      },
      "source": [
        "### Desafio 2\n",
        "Conferir quantos bairros únicos existem na nossa base de dados"
      ]
    },
    {
      "cell_type": "code",
      "execution_count": 104,
      "metadata": {
        "id": "OC5iNZ1NjF15"
      },
      "outputs": [
        {
          "data": {
            "text/plain": [
              "149"
            ]
          },
          "execution_count": 104,
          "metadata": {},
          "output_type": "execute_result"
        }
      ],
      "source": [
        "len(df_apartamento.Bairro.unique())"
      ]
    },
    {
      "cell_type": "code",
      "execution_count": 105,
      "metadata": {
        "id": "op-9fs_4h7Zk"
      },
      "outputs": [
        {
          "data": {
            "text/plain": [
              "Index(['Tipo', 'Bairro', 'Quartos', 'Vagas', 'Suites', 'Area', 'Valor',\n",
              "       'Condominio', 'IPTU'],\n",
              "      dtype='object')"
            ]
          },
          "execution_count": 105,
          "metadata": {},
          "output_type": "execute_result"
        }
      ],
      "source": [
        "df_apartamento.columns"
      ]
    },
    {
      "cell_type": "markdown",
      "metadata": {
        "id": "TXHm9F56h73J"
      },
      "source": [
        "### Desafio 3\n",
        "Analisar quais bairros possuem a média de valor de aluguel mais elevadas"
      ]
    },
    {
      "cell_type": "code",
      "execution_count": 106,
      "metadata": {},
      "outputs": [
        {
          "data": {
            "text/html": [
              "<div>\n",
              "<style scoped>\n",
              "    .dataframe tbody tr th:only-of-type {\n",
              "        vertical-align: middle;\n",
              "    }\n",
              "\n",
              "    .dataframe tbody tr th {\n",
              "        vertical-align: top;\n",
              "    }\n",
              "\n",
              "    .dataframe thead th {\n",
              "        text-align: right;\n",
              "    }\n",
              "</style>\n",
              "<table border=\"1\" class=\"dataframe\">\n",
              "  <thead>\n",
              "    <tr style=\"text-align: right;\">\n",
              "      <th></th>\n",
              "      <th>Bairro</th>\n",
              "      <th>Valor</th>\n",
              "    </tr>\n",
              "  </thead>\n",
              "  <tbody>\n",
              "    <tr>\n",
              "      <th>0</th>\n",
              "      <td>Joá</td>\n",
              "      <td>15500.000000</td>\n",
              "    </tr>\n",
              "    <tr>\n",
              "      <th>1</th>\n",
              "      <td>Arpoador</td>\n",
              "      <td>12429.769231</td>\n",
              "    </tr>\n",
              "    <tr>\n",
              "      <th>2</th>\n",
              "      <td>Cidade Jardim</td>\n",
              "      <td>12000.000000</td>\n",
              "    </tr>\n",
              "    <tr>\n",
              "      <th>3</th>\n",
              "      <td>Ipanema</td>\n",
              "      <td>9487.205317</td>\n",
              "    </tr>\n",
              "    <tr>\n",
              "      <th>4</th>\n",
              "      <td>Botafogo</td>\n",
              "      <td>9369.207116</td>\n",
              "    </tr>\n",
              "    <tr>\n",
              "      <th>...</th>\n",
              "      <td>...</td>\n",
              "      <td>...</td>\n",
              "    </tr>\n",
              "    <tr>\n",
              "      <th>144</th>\n",
              "      <td>Inhoaíba</td>\n",
              "      <td>650.000000</td>\n",
              "    </tr>\n",
              "    <tr>\n",
              "      <th>145</th>\n",
              "      <td>Cosmos</td>\n",
              "      <td>610.000000</td>\n",
              "    </tr>\n",
              "    <tr>\n",
              "      <th>146</th>\n",
              "      <td>Santa Cruz</td>\n",
              "      <td>590.000000</td>\n",
              "    </tr>\n",
              "    <tr>\n",
              "      <th>147</th>\n",
              "      <td>Paciência</td>\n",
              "      <td>510.000000</td>\n",
              "    </tr>\n",
              "    <tr>\n",
              "      <th>148</th>\n",
              "      <td>Ricardo de Albuquerque</td>\n",
              "      <td>340.000000</td>\n",
              "    </tr>\n",
              "  </tbody>\n",
              "</table>\n",
              "<p>149 rows × 2 columns</p>\n",
              "</div>"
            ],
            "text/plain": [
              "                     Bairro         Valor\n",
              "0                       Joá  15500.000000\n",
              "1                  Arpoador  12429.769231\n",
              "2             Cidade Jardim  12000.000000\n",
              "3                   Ipanema   9487.205317\n",
              "4                  Botafogo   9369.207116\n",
              "..                      ...           ...\n",
              "144                Inhoaíba    650.000000\n",
              "145                  Cosmos    610.000000\n",
              "146              Santa Cruz    590.000000\n",
              "147               Paciência    510.000000\n",
              "148  Ricardo de Albuquerque    340.000000\n",
              "\n",
              "[149 rows x 2 columns]"
            ]
          },
          "execution_count": 106,
          "metadata": {},
          "output_type": "execute_result"
        }
      ],
      "source": [
        "df_apartamento.groupby('Bairro')['Valor'].mean().sort_values(ascending=False).reset_index()"
      ]
    },
    {
      "cell_type": "code",
      "execution_count": 107,
      "metadata": {},
      "outputs": [
        {
          "data": {
            "text/html": [
              "<div>\n",
              "<style scoped>\n",
              "    .dataframe tbody tr th:only-of-type {\n",
              "        vertical-align: middle;\n",
              "    }\n",
              "\n",
              "    .dataframe tbody tr th {\n",
              "        vertical-align: top;\n",
              "    }\n",
              "\n",
              "    .dataframe thead th {\n",
              "        text-align: right;\n",
              "    }\n",
              "</style>\n",
              "<table border=\"1\" class=\"dataframe\">\n",
              "  <thead>\n",
              "    <tr style=\"text-align: right;\">\n",
              "      <th></th>\n",
              "      <th>Bairro</th>\n",
              "      <th>Valor</th>\n",
              "    </tr>\n",
              "  </thead>\n",
              "  <tbody>\n",
              "    <tr>\n",
              "      <th>23491</th>\n",
              "      <td>Botafogo</td>\n",
              "      <td>4500000.0</td>\n",
              "    </tr>\n",
              "    <tr>\n",
              "      <th>21024</th>\n",
              "      <td>Recreio dos Bandeirantes</td>\n",
              "      <td>1250000.0</td>\n",
              "    </tr>\n",
              "    <tr>\n",
              "      <th>11712</th>\n",
              "      <td>Barra da Tijuca</td>\n",
              "      <td>600000.0</td>\n",
              "    </tr>\n",
              "    <tr>\n",
              "      <th>19256</th>\n",
              "      <td>Freguesia (Jacarepaguá)</td>\n",
              "      <td>550000.0</td>\n",
              "    </tr>\n",
              "    <tr>\n",
              "      <th>32357</th>\n",
              "      <td>Barra da Tijuca</td>\n",
              "      <td>160000.0</td>\n",
              "    </tr>\n",
              "  </tbody>\n",
              "</table>\n",
              "</div>"
            ],
            "text/plain": [
              "                         Bairro      Valor\n",
              "23491                  Botafogo  4500000.0\n",
              "21024  Recreio dos Bandeirantes  1250000.0\n",
              "11712           Barra da Tijuca   600000.0\n",
              "19256   Freguesia (Jacarepaguá)   550000.0\n",
              "32357           Barra da Tijuca   160000.0"
            ]
          },
          "execution_count": 107,
          "metadata": {},
          "output_type": "execute_result"
        }
      ],
      "source": [
        "#5 maiores alugues por bairro\n",
        "df_apartamento.nlargest(5, 'Valor')[['Bairro', 'Valor']]"
      ]
    },
    {
      "cell_type": "markdown",
      "metadata": {
        "id": "hosuaZ-aiBHB"
      },
      "source": [
        "### Desafio 4\n",
        "Criar um gráfico de barras verticais que apresente os 5 bairros com a média de valor de aluguel mais elevadas"
      ]
    },
    {
      "cell_type": "code",
      "execution_count": 108,
      "metadata": {
        "id": "M7UR4aTBl2nR"
      },
      "outputs": [
        {
          "data": {
            "image/png": "[encoded data removed]",
            "text/plain": [
              "<Figure size 640x480 with 1 Axes>"
            ]
          },
          "metadata": {},
          "output_type": "display_data"
        }
      ],
      "source": [
        "five_biggest_rent = df_apartamento.groupby('Bairro')['Valor'].mean().sort_values(ascending=False).reset_index().head()\n",
        "five_biggest_rent\n",
        "\n",
        "plt.bar(five_biggest_rent['Bairro'], five_biggest_rent['Valor'])\n",
        "plt.show()"
      ]
    },
    {
      "cell_type": "code",
      "execution_count": null,
      "metadata": {
        "id": "u-HoqFKTiESM"
      },
      "outputs": [],
      "source": []
    },
    {
      "cell_type": "code",
      "execution_count": null,
      "metadata": {
        "id": "7j3wyG0ZklNE"
      },
      "outputs": [],
      "source": []
    },
    {
      "cell_type": "markdown",
      "metadata": {
        "id": "uS2xqXtlZ6wK"
      },
      "source": [
        "## Aula 3\n",
        "\n",
        "Importe novamente o arquivo [**alunos.csv**](https://raw.githubusercontent.com/alura-cursos/pandas-conhecendo-a-biblioteca/main/desafios/alunos.csv) para realizar os desafios abaixo."
      ]
    },
    {
      "cell_type": "code",
      "execution_count": 109,
      "metadata": {
        "id": "YqltopXyZ-Zf"
      },
      "outputs": [
        {
          "data": {
            "text/html": [
              "<div>\n",
              "<style scoped>\n",
              "    .dataframe tbody tr th:only-of-type {\n",
              "        vertical-align: middle;\n",
              "    }\n",
              "\n",
              "    .dataframe tbody tr th {\n",
              "        vertical-align: top;\n",
              "    }\n",
              "\n",
              "    .dataframe thead th {\n",
              "        text-align: right;\n",
              "    }\n",
              "</style>\n",
              "<table border=\"1\" class=\"dataframe\">\n",
              "  <thead>\n",
              "    <tr style=\"text-align: right;\">\n",
              "      <th></th>\n",
              "      <th>Nome</th>\n",
              "      <th>Idade</th>\n",
              "      <th>Notas</th>\n",
              "      <th>Aprovado</th>\n",
              "    </tr>\n",
              "  </thead>\n",
              "  <tbody>\n",
              "    <tr>\n",
              "      <th>0</th>\n",
              "      <td>Ary</td>\n",
              "      <td>20</td>\n",
              "      <td>7.5</td>\n",
              "      <td>True</td>\n",
              "    </tr>\n",
              "    <tr>\n",
              "      <th>1</th>\n",
              "      <td>Ana</td>\n",
              "      <td>18</td>\n",
              "      <td>NaN</td>\n",
              "      <td>False</td>\n",
              "    </tr>\n",
              "    <tr>\n",
              "      <th>2</th>\n",
              "      <td>Cátia</td>\n",
              "      <td>27</td>\n",
              "      <td>2.5</td>\n",
              "      <td>False</td>\n",
              "    </tr>\n",
              "    <tr>\n",
              "      <th>3</th>\n",
              "      <td>Denis</td>\n",
              "      <td>18</td>\n",
              "      <td>5.0</td>\n",
              "      <td>False</td>\n",
              "    </tr>\n",
              "    <tr>\n",
              "      <th>4</th>\n",
              "      <td>Beto</td>\n",
              "      <td>21</td>\n",
              "      <td>10.0</td>\n",
              "      <td>True</td>\n",
              "    </tr>\n",
              "    <tr>\n",
              "      <th>5</th>\n",
              "      <td>Bruna</td>\n",
              "      <td>23</td>\n",
              "      <td>NaN</td>\n",
              "      <td>False</td>\n",
              "    </tr>\n",
              "    <tr>\n",
              "      <th>6</th>\n",
              "      <td>Dara</td>\n",
              "      <td>21</td>\n",
              "      <td>7.0</td>\n",
              "      <td>True</td>\n",
              "    </tr>\n",
              "    <tr>\n",
              "      <th>7</th>\n",
              "      <td>Carlos</td>\n",
              "      <td>19</td>\n",
              "      <td>6.0</td>\n",
              "      <td>True</td>\n",
              "    </tr>\n",
              "    <tr>\n",
              "      <th>8</th>\n",
              "      <td>Alice</td>\n",
              "      <td>35</td>\n",
              "      <td>5.6</td>\n",
              "      <td>False</td>\n",
              "    </tr>\n",
              "    <tr>\n",
              "      <th>9</th>\n",
              "      <td>Vitor</td>\n",
              "      <td>28</td>\n",
              "      <td>NaN</td>\n",
              "      <td>False</td>\n",
              "    </tr>\n",
              "    <tr>\n",
              "      <th>10</th>\n",
              "      <td>Daniel</td>\n",
              "      <td>21</td>\n",
              "      <td>NaN</td>\n",
              "      <td>False</td>\n",
              "    </tr>\n",
              "    <tr>\n",
              "      <th>11</th>\n",
              "      <td>Igor</td>\n",
              "      <td>24</td>\n",
              "      <td>4.5</td>\n",
              "      <td>False</td>\n",
              "    </tr>\n",
              "    <tr>\n",
              "      <th>12</th>\n",
              "      <td>Sthefanie</td>\n",
              "      <td>26</td>\n",
              "      <td>9.5</td>\n",
              "      <td>True</td>\n",
              "    </tr>\n",
              "    <tr>\n",
              "      <th>13</th>\n",
              "      <td>Mirla</td>\n",
              "      <td>25</td>\n",
              "      <td>9.0</td>\n",
              "      <td>True</td>\n",
              "    </tr>\n",
              "    <tr>\n",
              "      <th>14</th>\n",
              "      <td>Paulo</td>\n",
              "      <td>37</td>\n",
              "      <td>NaN</td>\n",
              "      <td>False</td>\n",
              "    </tr>\n",
              "    <tr>\n",
              "      <th>15</th>\n",
              "      <td>Mylena</td>\n",
              "      <td>29</td>\n",
              "      <td>7.0</td>\n",
              "      <td>True</td>\n",
              "    </tr>\n",
              "    <tr>\n",
              "      <th>16</th>\n",
              "      <td>Lucas</td>\n",
              "      <td>33</td>\n",
              "      <td>NaN</td>\n",
              "      <td>False</td>\n",
              "    </tr>\n",
              "    <tr>\n",
              "      <th>17</th>\n",
              "      <td>Nadia</td>\n",
              "      <td>34</td>\n",
              "      <td>8.0</td>\n",
              "      <td>True</td>\n",
              "    </tr>\n",
              "  </tbody>\n",
              "</table>\n",
              "</div>"
            ],
            "text/plain": [
              "         Nome  Idade  Notas  Aprovado\n",
              "0         Ary     20    7.5      True\n",
              "1         Ana     18    NaN     False\n",
              "2       Cátia     27    2.5     False\n",
              "3       Denis     18    5.0     False\n",
              "4        Beto     21   10.0      True\n",
              "5       Bruna     23    NaN     False\n",
              "6        Dara     21    7.0      True\n",
              "7      Carlos     19    6.0      True\n",
              "8       Alice     35    5.6     False\n",
              "9       Vitor     28    NaN     False\n",
              "10     Daniel     21    NaN     False\n",
              "11       Igor     24    4.5     False\n",
              "12  Sthefanie     26    9.5      True\n",
              "13      Mirla     25    9.0      True\n",
              "14      Paulo     37    NaN     False\n",
              "15     Mylena     29    7.0      True\n",
              "16      Lucas     33    NaN     False\n",
              "17      Nadia     34    8.0      True"
            ]
          },
          "execution_count": 109,
          "metadata": {},
          "output_type": "execute_result"
        }
      ],
      "source": [
        "df_students\n"
      ]
    },
    {
      "cell_type": "markdown",
      "metadata": {
        "id": "Yni8_fbgaGnE"
      },
      "source": [
        "### Desafio 1\n",
        "Verifique se a base de dados possui dados nulos e caso tenha, realize o tratamento desses dados nulos"
      ]
    },
    {
      "cell_type": "code",
      "execution_count": 110,
      "metadata": {
        "id": "RJVGbJt6aFfe"
      },
      "outputs": [
        {
          "name": "stdout",
          "output_type": "stream",
          "text": [
            "float64\n"
          ]
        },
        {
          "data": {
            "text/html": [
              "<div>\n",
              "<style scoped>\n",
              "    .dataframe tbody tr th:only-of-type {\n",
              "        vertical-align: middle;\n",
              "    }\n",
              "\n",
              "    .dataframe tbody tr th {\n",
              "        vertical-align: top;\n",
              "    }\n",
              "\n",
              "    .dataframe thead th {\n",
              "        text-align: right;\n",
              "    }\n",
              "</style>\n",
              "<table border=\"1\" class=\"dataframe\">\n",
              "  <thead>\n",
              "    <tr style=\"text-align: right;\">\n",
              "      <th></th>\n",
              "      <th>Nome</th>\n",
              "      <th>Idade</th>\n",
              "      <th>Notas</th>\n",
              "      <th>Aprovado</th>\n",
              "    </tr>\n",
              "  </thead>\n",
              "  <tbody>\n",
              "    <tr>\n",
              "      <th>1</th>\n",
              "      <td>Ana</td>\n",
              "      <td>18</td>\n",
              "      <td>NaN</td>\n",
              "      <td>False</td>\n",
              "    </tr>\n",
              "    <tr>\n",
              "      <th>5</th>\n",
              "      <td>Bruna</td>\n",
              "      <td>23</td>\n",
              "      <td>NaN</td>\n",
              "      <td>False</td>\n",
              "    </tr>\n",
              "    <tr>\n",
              "      <th>9</th>\n",
              "      <td>Vitor</td>\n",
              "      <td>28</td>\n",
              "      <td>NaN</td>\n",
              "      <td>False</td>\n",
              "    </tr>\n",
              "    <tr>\n",
              "      <th>10</th>\n",
              "      <td>Daniel</td>\n",
              "      <td>21</td>\n",
              "      <td>NaN</td>\n",
              "      <td>False</td>\n",
              "    </tr>\n",
              "    <tr>\n",
              "      <th>14</th>\n",
              "      <td>Paulo</td>\n",
              "      <td>37</td>\n",
              "      <td>NaN</td>\n",
              "      <td>False</td>\n",
              "    </tr>\n",
              "    <tr>\n",
              "      <th>16</th>\n",
              "      <td>Lucas</td>\n",
              "      <td>33</td>\n",
              "      <td>NaN</td>\n",
              "      <td>False</td>\n",
              "    </tr>\n",
              "  </tbody>\n",
              "</table>\n",
              "</div>"
            ],
            "text/plain": [
              "      Nome  Idade  Notas  Aprovado\n",
              "1      Ana     18    NaN     False\n",
              "5    Bruna     23    NaN     False\n",
              "9    Vitor     28    NaN     False\n",
              "10  Daniel     21    NaN     False\n",
              "14   Paulo     37    NaN     False\n",
              "16   Lucas     33    NaN     False"
            ]
          },
          "execution_count": 110,
          "metadata": {},
          "output_type": "execute_result"
        }
      ],
      "source": [
        "df_students.isna().sum() # 6 valores nulos na coluna notas\n",
        "print(df_students.Notas.dtype) # Verificando o tipo da coluna\n",
        "df_students[df_students.isna().any(axis=1)] #Exibindo os valores NaN"
      ]
    },
    {
      "cell_type": "code",
      "execution_count": 111,
      "metadata": {
        "id": "JMRvNgXWa277"
      },
      "outputs": [],
      "source": [
        "# Como todo aluno com nota NaN esta reprovado, substitui NaN por 0\n",
        "df_students.fillna(0, inplace=True)"
      ]
    },
    {
      "cell_type": "code",
      "execution_count": 112,
      "metadata": {
        "id": "zCXdr4-8a75S"
      },
      "outputs": [
        {
          "data": {
            "text/html": [
              "<div>\n",
              "<style scoped>\n",
              "    .dataframe tbody tr th:only-of-type {\n",
              "        vertical-align: middle;\n",
              "    }\n",
              "\n",
              "    .dataframe tbody tr th {\n",
              "        vertical-align: top;\n",
              "    }\n",
              "\n",
              "    .dataframe thead th {\n",
              "        text-align: right;\n",
              "    }\n",
              "</style>\n",
              "<table border=\"1\" class=\"dataframe\">\n",
              "  <thead>\n",
              "    <tr style=\"text-align: right;\">\n",
              "      <th></th>\n",
              "      <th>Nome</th>\n",
              "      <th>Idade</th>\n",
              "      <th>Notas</th>\n",
              "      <th>Aprovado</th>\n",
              "    </tr>\n",
              "  </thead>\n",
              "  <tbody>\n",
              "    <tr>\n",
              "      <th>0</th>\n",
              "      <td>Ary</td>\n",
              "      <td>20</td>\n",
              "      <td>7.5</td>\n",
              "      <td>True</td>\n",
              "    </tr>\n",
              "    <tr>\n",
              "      <th>1</th>\n",
              "      <td>Ana</td>\n",
              "      <td>18</td>\n",
              "      <td>0.0</td>\n",
              "      <td>False</td>\n",
              "    </tr>\n",
              "    <tr>\n",
              "      <th>2</th>\n",
              "      <td>Cátia</td>\n",
              "      <td>27</td>\n",
              "      <td>2.5</td>\n",
              "      <td>False</td>\n",
              "    </tr>\n",
              "    <tr>\n",
              "      <th>3</th>\n",
              "      <td>Denis</td>\n",
              "      <td>18</td>\n",
              "      <td>5.0</td>\n",
              "      <td>False</td>\n",
              "    </tr>\n",
              "    <tr>\n",
              "      <th>4</th>\n",
              "      <td>Beto</td>\n",
              "      <td>21</td>\n",
              "      <td>10.0</td>\n",
              "      <td>True</td>\n",
              "    </tr>\n",
              "    <tr>\n",
              "      <th>5</th>\n",
              "      <td>Bruna</td>\n",
              "      <td>23</td>\n",
              "      <td>0.0</td>\n",
              "      <td>False</td>\n",
              "    </tr>\n",
              "    <tr>\n",
              "      <th>6</th>\n",
              "      <td>Dara</td>\n",
              "      <td>21</td>\n",
              "      <td>7.0</td>\n",
              "      <td>True</td>\n",
              "    </tr>\n",
              "    <tr>\n",
              "      <th>7</th>\n",
              "      <td>Carlos</td>\n",
              "      <td>19</td>\n",
              "      <td>6.0</td>\n",
              "      <td>True</td>\n",
              "    </tr>\n",
              "    <tr>\n",
              "      <th>8</th>\n",
              "      <td>Alice</td>\n",
              "      <td>35</td>\n",
              "      <td>5.6</td>\n",
              "      <td>False</td>\n",
              "    </tr>\n",
              "    <tr>\n",
              "      <th>9</th>\n",
              "      <td>Vitor</td>\n",
              "      <td>28</td>\n",
              "      <td>0.0</td>\n",
              "      <td>False</td>\n",
              "    </tr>\n",
              "    <tr>\n",
              "      <th>10</th>\n",
              "      <td>Daniel</td>\n",
              "      <td>21</td>\n",
              "      <td>0.0</td>\n",
              "      <td>False</td>\n",
              "    </tr>\n",
              "    <tr>\n",
              "      <th>11</th>\n",
              "      <td>Igor</td>\n",
              "      <td>24</td>\n",
              "      <td>4.5</td>\n",
              "      <td>False</td>\n",
              "    </tr>\n",
              "    <tr>\n",
              "      <th>12</th>\n",
              "      <td>Sthefanie</td>\n",
              "      <td>26</td>\n",
              "      <td>9.5</td>\n",
              "      <td>True</td>\n",
              "    </tr>\n",
              "    <tr>\n",
              "      <th>13</th>\n",
              "      <td>Mirla</td>\n",
              "      <td>25</td>\n",
              "      <td>9.0</td>\n",
              "      <td>True</td>\n",
              "    </tr>\n",
              "    <tr>\n",
              "      <th>14</th>\n",
              "      <td>Paulo</td>\n",
              "      <td>37</td>\n",
              "      <td>0.0</td>\n",
              "      <td>False</td>\n",
              "    </tr>\n",
              "    <tr>\n",
              "      <th>15</th>\n",
              "      <td>Mylena</td>\n",
              "      <td>29</td>\n",
              "      <td>7.0</td>\n",
              "      <td>True</td>\n",
              "    </tr>\n",
              "    <tr>\n",
              "      <th>16</th>\n",
              "      <td>Lucas</td>\n",
              "      <td>33</td>\n",
              "      <td>0.0</td>\n",
              "      <td>False</td>\n",
              "    </tr>\n",
              "    <tr>\n",
              "      <th>17</th>\n",
              "      <td>Nadia</td>\n",
              "      <td>34</td>\n",
              "      <td>8.0</td>\n",
              "      <td>True</td>\n",
              "    </tr>\n",
              "  </tbody>\n",
              "</table>\n",
              "</div>"
            ],
            "text/plain": [
              "         Nome  Idade  Notas  Aprovado\n",
              "0         Ary     20    7.5      True\n",
              "1         Ana     18    0.0     False\n",
              "2       Cátia     27    2.5     False\n",
              "3       Denis     18    5.0     False\n",
              "4        Beto     21   10.0      True\n",
              "5       Bruna     23    0.0     False\n",
              "6        Dara     21    7.0      True\n",
              "7      Carlos     19    6.0      True\n",
              "8       Alice     35    5.6     False\n",
              "9       Vitor     28    0.0     False\n",
              "10     Daniel     21    0.0     False\n",
              "11       Igor     24    4.5     False\n",
              "12  Sthefanie     26    9.5      True\n",
              "13      Mirla     25    9.0      True\n",
              "14      Paulo     37    0.0     False\n",
              "15     Mylena     29    7.0      True\n",
              "16      Lucas     33    0.0     False\n",
              "17      Nadia     34    8.0      True"
            ]
          },
          "execution_count": 112,
          "metadata": {},
          "output_type": "execute_result"
        }
      ],
      "source": [
        "df_students"
      ]
    },
    {
      "cell_type": "markdown",
      "metadata": {
        "id": "EEyzMqp2aZDl"
      },
      "source": [
        "### Desafio 2\n",
        "Os alunos \"Alice\" e \"Carlos\", não fazem mais parte da turma. Sendo assim, remova-os da base de dados"
      ]
    },
    {
      "cell_type": "code",
      "execution_count": 113,
      "metadata": {
        "id": "gcnTcLGeaflO"
      },
      "outputs": [
        {
          "name": "stdout",
          "output_type": "stream",
          "text": [
            "Index([7, 8], dtype='int64')\n"
          ]
        }
      ],
      "source": [
        "filter = df_students.query('Nome == \"Alice\" or Nome == \"Carlos\"').index # Seleciona os candidatos e recupera os indices.\n",
        "print(filter)"
      ]
    },
    {
      "cell_type": "code",
      "execution_count": 114,
      "metadata": {
        "id": "7fQ5RIs8bLf2"
      },
      "outputs": [
        {
          "data": {
            "text/html": [
              "<div>\n",
              "<style scoped>\n",
              "    .dataframe tbody tr th:only-of-type {\n",
              "        vertical-align: middle;\n",
              "    }\n",
              "\n",
              "    .dataframe tbody tr th {\n",
              "        vertical-align: top;\n",
              "    }\n",
              "\n",
              "    .dataframe thead th {\n",
              "        text-align: right;\n",
              "    }\n",
              "</style>\n",
              "<table border=\"1\" class=\"dataframe\">\n",
              "  <thead>\n",
              "    <tr style=\"text-align: right;\">\n",
              "      <th></th>\n",
              "      <th>Nome</th>\n",
              "      <th>Idade</th>\n",
              "      <th>Notas</th>\n",
              "      <th>Aprovado</th>\n",
              "    </tr>\n",
              "  </thead>\n",
              "  <tbody>\n",
              "    <tr>\n",
              "      <th>0</th>\n",
              "      <td>Ary</td>\n",
              "      <td>20</td>\n",
              "      <td>7.5</td>\n",
              "      <td>True</td>\n",
              "    </tr>\n",
              "    <tr>\n",
              "      <th>1</th>\n",
              "      <td>Ana</td>\n",
              "      <td>18</td>\n",
              "      <td>0.0</td>\n",
              "      <td>False</td>\n",
              "    </tr>\n",
              "    <tr>\n",
              "      <th>2</th>\n",
              "      <td>Cátia</td>\n",
              "      <td>27</td>\n",
              "      <td>2.5</td>\n",
              "      <td>False</td>\n",
              "    </tr>\n",
              "    <tr>\n",
              "      <th>3</th>\n",
              "      <td>Denis</td>\n",
              "      <td>18</td>\n",
              "      <td>5.0</td>\n",
              "      <td>False</td>\n",
              "    </tr>\n",
              "    <tr>\n",
              "      <th>4</th>\n",
              "      <td>Beto</td>\n",
              "      <td>21</td>\n",
              "      <td>10.0</td>\n",
              "      <td>True</td>\n",
              "    </tr>\n",
              "    <tr>\n",
              "      <th>5</th>\n",
              "      <td>Bruna</td>\n",
              "      <td>23</td>\n",
              "      <td>0.0</td>\n",
              "      <td>False</td>\n",
              "    </tr>\n",
              "    <tr>\n",
              "      <th>6</th>\n",
              "      <td>Dara</td>\n",
              "      <td>21</td>\n",
              "      <td>7.0</td>\n",
              "      <td>True</td>\n",
              "    </tr>\n",
              "    <tr>\n",
              "      <th>9</th>\n",
              "      <td>Vitor</td>\n",
              "      <td>28</td>\n",
              "      <td>0.0</td>\n",
              "      <td>False</td>\n",
              "    </tr>\n",
              "    <tr>\n",
              "      <th>10</th>\n",
              "      <td>Daniel</td>\n",
              "      <td>21</td>\n",
              "      <td>0.0</td>\n",
              "      <td>False</td>\n",
              "    </tr>\n",
              "    <tr>\n",
              "      <th>11</th>\n",
              "      <td>Igor</td>\n",
              "      <td>24</td>\n",
              "      <td>4.5</td>\n",
              "      <td>False</td>\n",
              "    </tr>\n",
              "    <tr>\n",
              "      <th>12</th>\n",
              "      <td>Sthefanie</td>\n",
              "      <td>26</td>\n",
              "      <td>9.5</td>\n",
              "      <td>True</td>\n",
              "    </tr>\n",
              "    <tr>\n",
              "      <th>13</th>\n",
              "      <td>Mirla</td>\n",
              "      <td>25</td>\n",
              "      <td>9.0</td>\n",
              "      <td>True</td>\n",
              "    </tr>\n",
              "    <tr>\n",
              "      <th>14</th>\n",
              "      <td>Paulo</td>\n",
              "      <td>37</td>\n",
              "      <td>0.0</td>\n",
              "      <td>False</td>\n",
              "    </tr>\n",
              "    <tr>\n",
              "      <th>15</th>\n",
              "      <td>Mylena</td>\n",
              "      <td>29</td>\n",
              "      <td>7.0</td>\n",
              "      <td>True</td>\n",
              "    </tr>\n",
              "    <tr>\n",
              "      <th>16</th>\n",
              "      <td>Lucas</td>\n",
              "      <td>33</td>\n",
              "      <td>0.0</td>\n",
              "      <td>False</td>\n",
              "    </tr>\n",
              "    <tr>\n",
              "      <th>17</th>\n",
              "      <td>Nadia</td>\n",
              "      <td>34</td>\n",
              "      <td>8.0</td>\n",
              "      <td>True</td>\n",
              "    </tr>\n",
              "  </tbody>\n",
              "</table>\n",
              "</div>"
            ],
            "text/plain": [
              "         Nome  Idade  Notas  Aprovado\n",
              "0         Ary     20    7.5      True\n",
              "1         Ana     18    0.0     False\n",
              "2       Cátia     27    2.5     False\n",
              "3       Denis     18    5.0     False\n",
              "4        Beto     21   10.0      True\n",
              "5       Bruna     23    0.0     False\n",
              "6        Dara     21    7.0      True\n",
              "9       Vitor     28    0.0     False\n",
              "10     Daniel     21    0.0     False\n",
              "11       Igor     24    4.5     False\n",
              "12  Sthefanie     26    9.5      True\n",
              "13      Mirla     25    9.0      True\n",
              "14      Paulo     37    0.0     False\n",
              "15     Mylena     29    7.0      True\n",
              "16      Lucas     33    0.0     False\n",
              "17      Nadia     34    8.0      True"
            ]
          },
          "execution_count": 114,
          "metadata": {},
          "output_type": "execute_result"
        }
      ],
      "source": [
        "df_students = df_students.drop(filter) # exclui as linhas apartir do indices selecionados\n",
        "df_students"
      ]
    },
    {
      "cell_type": "code",
      "execution_count": null,
      "metadata": {
        "id": "h2rhaQaNbNG6"
      },
      "outputs": [],
      "source": []
    },
    {
      "cell_type": "code",
      "execution_count": null,
      "metadata": {
        "id": "lOUcnaHybYSt"
      },
      "outputs": [],
      "source": []
    },
    {
      "cell_type": "markdown",
      "metadata": {
        "id": "OrRUJuutagFZ"
      },
      "source": [
        "### Desafio 3\n",
        "Aplique um filtro que selecione apenas os alunos que foram aprovados"
      ]
    },
    {
      "cell_type": "code",
      "execution_count": 115,
      "metadata": {
        "id": "mmF03BpwalK1"
      },
      "outputs": [
        {
          "data": {
            "text/html": [
              "<div>\n",
              "<style scoped>\n",
              "    .dataframe tbody tr th:only-of-type {\n",
              "        vertical-align: middle;\n",
              "    }\n",
              "\n",
              "    .dataframe tbody tr th {\n",
              "        vertical-align: top;\n",
              "    }\n",
              "\n",
              "    .dataframe thead th {\n",
              "        text-align: right;\n",
              "    }\n",
              "</style>\n",
              "<table border=\"1\" class=\"dataframe\">\n",
              "  <thead>\n",
              "    <tr style=\"text-align: right;\">\n",
              "      <th></th>\n",
              "      <th>Nome</th>\n",
              "      <th>Idade</th>\n",
              "      <th>Notas</th>\n",
              "      <th>Aprovado</th>\n",
              "    </tr>\n",
              "  </thead>\n",
              "  <tbody>\n",
              "    <tr>\n",
              "      <th>0</th>\n",
              "      <td>Ary</td>\n",
              "      <td>20</td>\n",
              "      <td>7.5</td>\n",
              "      <td>True</td>\n",
              "    </tr>\n",
              "    <tr>\n",
              "      <th>4</th>\n",
              "      <td>Beto</td>\n",
              "      <td>21</td>\n",
              "      <td>10.0</td>\n",
              "      <td>True</td>\n",
              "    </tr>\n",
              "    <tr>\n",
              "      <th>6</th>\n",
              "      <td>Dara</td>\n",
              "      <td>21</td>\n",
              "      <td>7.0</td>\n",
              "      <td>True</td>\n",
              "    </tr>\n",
              "    <tr>\n",
              "      <th>12</th>\n",
              "      <td>Sthefanie</td>\n",
              "      <td>26</td>\n",
              "      <td>9.5</td>\n",
              "      <td>True</td>\n",
              "    </tr>\n",
              "    <tr>\n",
              "      <th>13</th>\n",
              "      <td>Mirla</td>\n",
              "      <td>25</td>\n",
              "      <td>9.0</td>\n",
              "      <td>True</td>\n",
              "    </tr>\n",
              "    <tr>\n",
              "      <th>15</th>\n",
              "      <td>Mylena</td>\n",
              "      <td>29</td>\n",
              "      <td>7.0</td>\n",
              "      <td>True</td>\n",
              "    </tr>\n",
              "    <tr>\n",
              "      <th>17</th>\n",
              "      <td>Nadia</td>\n",
              "      <td>34</td>\n",
              "      <td>8.0</td>\n",
              "      <td>True</td>\n",
              "    </tr>\n",
              "  </tbody>\n",
              "</table>\n",
              "</div>"
            ],
            "text/plain": [
              "         Nome  Idade  Notas  Aprovado\n",
              "0         Ary     20    7.5      True\n",
              "4        Beto     21   10.0      True\n",
              "6        Dara     21    7.0      True\n",
              "12  Sthefanie     26    9.5      True\n",
              "13      Mirla     25    9.0      True\n",
              "15     Mylena     29    7.0      True\n",
              "17      Nadia     34    8.0      True"
            ]
          },
          "execution_count": 115,
          "metadata": {},
          "output_type": "execute_result"
        }
      ],
      "source": [
        "df_students[df_students[\"Aprovado\"] == True]"
      ]
    },
    {
      "cell_type": "code",
      "execution_count": 116,
      "metadata": {
        "id": "RiSIxMl2bo3-"
      },
      "outputs": [
        {
          "data": {
            "text/html": [
              "<div>\n",
              "<style scoped>\n",
              "    .dataframe tbody tr th:only-of-type {\n",
              "        vertical-align: middle;\n",
              "    }\n",
              "\n",
              "    .dataframe tbody tr th {\n",
              "        vertical-align: top;\n",
              "    }\n",
              "\n",
              "    .dataframe thead th {\n",
              "        text-align: right;\n",
              "    }\n",
              "</style>\n",
              "<table border=\"1\" class=\"dataframe\">\n",
              "  <thead>\n",
              "    <tr style=\"text-align: right;\">\n",
              "      <th></th>\n",
              "      <th>Nome</th>\n",
              "      <th>Idade</th>\n",
              "      <th>Notas</th>\n",
              "      <th>Aprovado</th>\n",
              "    </tr>\n",
              "  </thead>\n",
              "  <tbody>\n",
              "    <tr>\n",
              "      <th>0</th>\n",
              "      <td>Ary</td>\n",
              "      <td>20</td>\n",
              "      <td>7.5</td>\n",
              "      <td>True</td>\n",
              "    </tr>\n",
              "    <tr>\n",
              "      <th>4</th>\n",
              "      <td>Beto</td>\n",
              "      <td>21</td>\n",
              "      <td>10.0</td>\n",
              "      <td>True</td>\n",
              "    </tr>\n",
              "    <tr>\n",
              "      <th>6</th>\n",
              "      <td>Dara</td>\n",
              "      <td>21</td>\n",
              "      <td>7.0</td>\n",
              "      <td>True</td>\n",
              "    </tr>\n",
              "    <tr>\n",
              "      <th>12</th>\n",
              "      <td>Sthefanie</td>\n",
              "      <td>26</td>\n",
              "      <td>9.5</td>\n",
              "      <td>True</td>\n",
              "    </tr>\n",
              "    <tr>\n",
              "      <th>13</th>\n",
              "      <td>Mirla</td>\n",
              "      <td>25</td>\n",
              "      <td>9.0</td>\n",
              "      <td>True</td>\n",
              "    </tr>\n",
              "    <tr>\n",
              "      <th>15</th>\n",
              "      <td>Mylena</td>\n",
              "      <td>29</td>\n",
              "      <td>7.0</td>\n",
              "      <td>True</td>\n",
              "    </tr>\n",
              "    <tr>\n",
              "      <th>17</th>\n",
              "      <td>Nadia</td>\n",
              "      <td>34</td>\n",
              "      <td>8.0</td>\n",
              "      <td>True</td>\n",
              "    </tr>\n",
              "  </tbody>\n",
              "</table>\n",
              "</div>"
            ],
            "text/plain": [
              "         Nome  Idade  Notas  Aprovado\n",
              "0         Ary     20    7.5      True\n",
              "4        Beto     21   10.0      True\n",
              "6        Dara     21    7.0      True\n",
              "12  Sthefanie     26    9.5      True\n",
              "13      Mirla     25    9.0      True\n",
              "15     Mylena     29    7.0      True\n",
              "17      Nadia     34    8.0      True"
            ]
          },
          "execution_count": 116,
          "metadata": {},
          "output_type": "execute_result"
        }
      ],
      "source": [
        "df_students.query('Aprovado == True')"
      ]
    },
    {
      "cell_type": "markdown",
      "metadata": {
        "id": "tXgoKLW_dMQe"
      },
      "source": [
        "### Desafio 4\n",
        "Salve o DataFrame que possui apenas os alunos aprovados em um arquivo csv chamado \"alunos_aprovados.csv\""
      ]
    },
    {
      "cell_type": "code",
      "execution_count": 117,
      "metadata": {
        "id": "f_6HGPUwdQNm"
      },
      "outputs": [],
      "source": [
        "approved_students = df_students.query('Aprovado == True')\n",
        "\n",
        "df_students.to_csv('alunos_aprovados.csv')"
      ]
    },
    {
      "cell_type": "code",
      "execution_count": null,
      "metadata": {
        "id": "KuIG4ZisdULa"
      },
      "outputs": [],
      "source": []
    },
    {
      "cell_type": "code",
      "execution_count": null,
      "metadata": {
        "id": "Q0LAb9-KdZXF"
      },
      "outputs": [],
      "source": []
    },
    {
      "cell_type": "markdown",
      "metadata": {
        "id": "duXAyzYscJFU"
      },
      "source": [
        "### **Extra**\n",
        "Ao conferir as notas dos alunos aprovados, notamos que algumas notas estavam incorretas. As alunas que tiraram nota 7.0, na verdade tinham um ponto extra que não foi contabilizado. Sendo assim, substitua as notas 7.0 da base de dados por 8.0. **Dica**: pesquise pelo método **replace**"
      ]
    },
    {
      "cell_type": "code",
      "execution_count": 147,
      "metadata": {},
      "outputs": [
        {
          "data": {
            "text/plain": [
              "['Dara', 'Mylena']"
            ]
          },
          "execution_count": 147,
          "metadata": {},
          "output_type": "execute_result"
        }
      ],
      "source": [
        "# Nomes das estudantes com nota 7\n",
        "students_to_change_grade = df_students.query('Notas == 7')['Nome'].tolist()\n",
        "students_to_change_grade"
      ]
    },
    {
      "cell_type": "code",
      "execution_count": null,
      "metadata": {},
      "outputs": [],
      "source": [
        "# alterando as notas\n",
        "df_students.loc[df_students['Notas']== 7, 'Notas'] = 8"
      ]
    },
    {
      "cell_type": "code",
      "execution_count": null,
      "metadata": {},
      "outputs": [
        {
          "data": {
            "text/html": [
              "<div>\n",
              "<style scoped>\n",
              "    .dataframe tbody tr th:only-of-type {\n",
              "        vertical-align: middle;\n",
              "    }\n",
              "\n",
              "    .dataframe tbody tr th {\n",
              "        vertical-align: top;\n",
              "    }\n",
              "\n",
              "    .dataframe thead th {\n",
              "        text-align: right;\n",
              "    }\n",
              "</style>\n",
              "<table border=\"1\" class=\"dataframe\">\n",
              "  <thead>\n",
              "    <tr style=\"text-align: right;\">\n",
              "      <th></th>\n",
              "      <th>Nome</th>\n",
              "      <th>Idade</th>\n",
              "      <th>Notas</th>\n",
              "      <th>Aprovado</th>\n",
              "    </tr>\n",
              "  </thead>\n",
              "  <tbody>\n",
              "    <tr>\n",
              "      <th>6</th>\n",
              "      <td>Dara</td>\n",
              "      <td>21</td>\n",
              "      <td>8.0</td>\n",
              "      <td>True</td>\n",
              "    </tr>\n",
              "    <tr>\n",
              "      <th>15</th>\n",
              "      <td>Mylena</td>\n",
              "      <td>29</td>\n",
              "      <td>8.0</td>\n",
              "      <td>True</td>\n",
              "    </tr>\n",
              "  </tbody>\n",
              "</table>\n",
              "</div>"
            ],
            "text/plain": [
              "      Nome  Idade  Notas  Aprovado\n",
              "6     Dara     21    8.0      True\n",
              "15  Mylena     29    8.0      True"
            ]
          },
          "execution_count": 154,
          "metadata": {},
          "output_type": "execute_result"
        }
      ],
      "source": [
        "# Verificando Mudanca\n",
        "df_students[df_students['Nome'].isin(students_to_change_grade)]"
      ]
    },
    {
      "cell_type": "code",
      "execution_count": 156,
      "metadata": {},
      "outputs": [
        {
          "data": {
            "text/html": [
              "<div>\n",
              "<style scoped>\n",
              "    .dataframe tbody tr th:only-of-type {\n",
              "        vertical-align: middle;\n",
              "    }\n",
              "\n",
              "    .dataframe tbody tr th {\n",
              "        vertical-align: top;\n",
              "    }\n",
              "\n",
              "    .dataframe thead th {\n",
              "        text-align: right;\n",
              "    }\n",
              "</style>\n",
              "<table border=\"1\" class=\"dataframe\">\n",
              "  <thead>\n",
              "    <tr style=\"text-align: right;\">\n",
              "      <th></th>\n",
              "      <th>Nome</th>\n",
              "      <th>Idade</th>\n",
              "      <th>Notas</th>\n",
              "      <th>Aprovado</th>\n",
              "    </tr>\n",
              "  </thead>\n",
              "  <tbody>\n",
              "    <tr>\n",
              "      <th>6</th>\n",
              "      <td>Dara</td>\n",
              "      <td>21</td>\n",
              "      <td>7.0</td>\n",
              "      <td>True</td>\n",
              "    </tr>\n",
              "    <tr>\n",
              "      <th>15</th>\n",
              "      <td>Mylena</td>\n",
              "      <td>29</td>\n",
              "      <td>7.0</td>\n",
              "      <td>True</td>\n",
              "    </tr>\n",
              "  </tbody>\n",
              "</table>\n",
              "</div>"
            ],
            "text/plain": [
              "      Nome  Idade  Notas  Aprovado\n",
              "6     Dara     21    7.0      True\n",
              "15  Mylena     29    7.0      True"
            ]
          },
          "execution_count": 156,
          "metadata": {},
          "output_type": "execute_result"
        }
      ],
      "source": [
        "df[df['Nome'].isin(students_to_change_grade)]"
      ]
    },
    {
      "cell_type": "code",
      "execution_count": 157,
      "metadata": {},
      "outputs": [],
      "source": [
        "# Com replace\n",
        "df['Notas'] = df['Notas'].replace({7: 8})"
      ]
    },
    {
      "cell_type": "code",
      "execution_count": 158,
      "metadata": {},
      "outputs": [
        {
          "data": {
            "text/html": [
              "<div>\n",
              "<style scoped>\n",
              "    .dataframe tbody tr th:only-of-type {\n",
              "        vertical-align: middle;\n",
              "    }\n",
              "\n",
              "    .dataframe tbody tr th {\n",
              "        vertical-align: top;\n",
              "    }\n",
              "\n",
              "    .dataframe thead th {\n",
              "        text-align: right;\n",
              "    }\n",
              "</style>\n",
              "<table border=\"1\" class=\"dataframe\">\n",
              "  <thead>\n",
              "    <tr style=\"text-align: right;\">\n",
              "      <th></th>\n",
              "      <th>Nome</th>\n",
              "      <th>Idade</th>\n",
              "      <th>Notas</th>\n",
              "      <th>Aprovado</th>\n",
              "    </tr>\n",
              "  </thead>\n",
              "  <tbody>\n",
              "    <tr>\n",
              "      <th>6</th>\n",
              "      <td>Dara</td>\n",
              "      <td>21</td>\n",
              "      <td>8.0</td>\n",
              "      <td>True</td>\n",
              "    </tr>\n",
              "    <tr>\n",
              "      <th>15</th>\n",
              "      <td>Mylena</td>\n",
              "      <td>29</td>\n",
              "      <td>8.0</td>\n",
              "      <td>True</td>\n",
              "    </tr>\n",
              "  </tbody>\n",
              "</table>\n",
              "</div>"
            ],
            "text/plain": [
              "      Nome  Idade  Notas  Aprovado\n",
              "6     Dara     21    8.0      True\n",
              "15  Mylena     29    8.0      True"
            ]
          },
          "execution_count": 158,
          "metadata": {},
          "output_type": "execute_result"
        }
      ],
      "source": [
        "df[df['Nome'].isin(students_to_change_grade)]"
      ]
    },
    {
      "cell_type": "markdown",
      "metadata": {
        "id": "jUHA6Z_cy5vc"
      },
      "source": [
        "## Aula 4\n",
        "\n",
        "Importe novamente o arquivo [**alunos.csv**](https://raw.githubusercontent.com/alura-cursos/pandas-conhecendo-a-biblioteca/main/desafios/alunos.csv) para realizar os desafios abaixo."
      ]
    },
    {
      "cell_type": "code",
      "execution_count": null,
      "metadata": {
        "id": "TRLTBVThxo1g"
      },
      "outputs": [],
      "source": [
        "# Importando novamente os dados\n"
      ]
    },
    {
      "cell_type": "markdown",
      "metadata": {
        "id": "-nX3fxz7y8P9"
      },
      "source": [
        "### Desafio 1\n",
        "Os alunos participaram de uma atividade extracurricular e ganharam pontos extras. Esses pontos extras correspondem a 40% da nota atual de cada um deles. Com base nisso, crie uma coluna chamada \"Pontos_extras\" que contenha os pontos extras de cada aluno, ou seja, 40% da nota atual deles"
      ]
    },
    {
      "cell_type": "code",
      "execution_count": 159,
      "metadata": {
        "id": "34CKCvGmy7J9"
      },
      "outputs": [],
      "source": [
        "df_students['Pontos_extras'] = df_students['Notas'] * 0.4"
      ]
    },
    {
      "cell_type": "code",
      "execution_count": 160,
      "metadata": {},
      "outputs": [
        {
          "data": {
            "text/html": [
              "<div>\n",
              "<style scoped>\n",
              "    .dataframe tbody tr th:only-of-type {\n",
              "        vertical-align: middle;\n",
              "    }\n",
              "\n",
              "    .dataframe tbody tr th {\n",
              "        vertical-align: top;\n",
              "    }\n",
              "\n",
              "    .dataframe thead th {\n",
              "        text-align: right;\n",
              "    }\n",
              "</style>\n",
              "<table border=\"1\" class=\"dataframe\">\n",
              "  <thead>\n",
              "    <tr style=\"text-align: right;\">\n",
              "      <th></th>\n",
              "      <th>Nome</th>\n",
              "      <th>Idade</th>\n",
              "      <th>Notas</th>\n",
              "      <th>Aprovado</th>\n",
              "      <th>Pontos_extras</th>\n",
              "    </tr>\n",
              "  </thead>\n",
              "  <tbody>\n",
              "    <tr>\n",
              "      <th>0</th>\n",
              "      <td>Ary</td>\n",
              "      <td>20</td>\n",
              "      <td>7.5</td>\n",
              "      <td>True</td>\n",
              "      <td>3.0</td>\n",
              "    </tr>\n",
              "    <tr>\n",
              "      <th>1</th>\n",
              "      <td>Ana</td>\n",
              "      <td>18</td>\n",
              "      <td>0.0</td>\n",
              "      <td>False</td>\n",
              "      <td>0.0</td>\n",
              "    </tr>\n",
              "    <tr>\n",
              "      <th>2</th>\n",
              "      <td>Cátia</td>\n",
              "      <td>27</td>\n",
              "      <td>2.5</td>\n",
              "      <td>False</td>\n",
              "      <td>1.0</td>\n",
              "    </tr>\n",
              "    <tr>\n",
              "      <th>3</th>\n",
              "      <td>Denis</td>\n",
              "      <td>18</td>\n",
              "      <td>5.0</td>\n",
              "      <td>False</td>\n",
              "      <td>2.0</td>\n",
              "    </tr>\n",
              "    <tr>\n",
              "      <th>4</th>\n",
              "      <td>Beto</td>\n",
              "      <td>21</td>\n",
              "      <td>10.0</td>\n",
              "      <td>True</td>\n",
              "      <td>4.0</td>\n",
              "    </tr>\n",
              "    <tr>\n",
              "      <th>5</th>\n",
              "      <td>Bruna</td>\n",
              "      <td>23</td>\n",
              "      <td>0.0</td>\n",
              "      <td>False</td>\n",
              "      <td>0.0</td>\n",
              "    </tr>\n",
              "    <tr>\n",
              "      <th>6</th>\n",
              "      <td>Dara</td>\n",
              "      <td>21</td>\n",
              "      <td>8.0</td>\n",
              "      <td>True</td>\n",
              "      <td>3.2</td>\n",
              "    </tr>\n",
              "    <tr>\n",
              "      <th>9</th>\n",
              "      <td>Vitor</td>\n",
              "      <td>28</td>\n",
              "      <td>0.0</td>\n",
              "      <td>False</td>\n",
              "      <td>0.0</td>\n",
              "    </tr>\n",
              "    <tr>\n",
              "      <th>10</th>\n",
              "      <td>Daniel</td>\n",
              "      <td>21</td>\n",
              "      <td>0.0</td>\n",
              "      <td>False</td>\n",
              "      <td>0.0</td>\n",
              "    </tr>\n",
              "    <tr>\n",
              "      <th>11</th>\n",
              "      <td>Igor</td>\n",
              "      <td>24</td>\n",
              "      <td>4.5</td>\n",
              "      <td>False</td>\n",
              "      <td>1.8</td>\n",
              "    </tr>\n",
              "    <tr>\n",
              "      <th>12</th>\n",
              "      <td>Sthefanie</td>\n",
              "      <td>26</td>\n",
              "      <td>9.5</td>\n",
              "      <td>True</td>\n",
              "      <td>3.8</td>\n",
              "    </tr>\n",
              "    <tr>\n",
              "      <th>13</th>\n",
              "      <td>Mirla</td>\n",
              "      <td>25</td>\n",
              "      <td>9.0</td>\n",
              "      <td>True</td>\n",
              "      <td>3.6</td>\n",
              "    </tr>\n",
              "    <tr>\n",
              "      <th>14</th>\n",
              "      <td>Paulo</td>\n",
              "      <td>37</td>\n",
              "      <td>0.0</td>\n",
              "      <td>False</td>\n",
              "      <td>0.0</td>\n",
              "    </tr>\n",
              "    <tr>\n",
              "      <th>15</th>\n",
              "      <td>Mylena</td>\n",
              "      <td>29</td>\n",
              "      <td>8.0</td>\n",
              "      <td>True</td>\n",
              "      <td>3.2</td>\n",
              "    </tr>\n",
              "    <tr>\n",
              "      <th>16</th>\n",
              "      <td>Lucas</td>\n",
              "      <td>33</td>\n",
              "      <td>0.0</td>\n",
              "      <td>False</td>\n",
              "      <td>0.0</td>\n",
              "    </tr>\n",
              "    <tr>\n",
              "      <th>17</th>\n",
              "      <td>Nadia</td>\n",
              "      <td>34</td>\n",
              "      <td>8.0</td>\n",
              "      <td>True</td>\n",
              "      <td>3.2</td>\n",
              "    </tr>\n",
              "  </tbody>\n",
              "</table>\n",
              "</div>"
            ],
            "text/plain": [
              "         Nome  Idade  Notas  Aprovado  Pontos_extras\n",
              "0         Ary     20    7.5      True            3.0\n",
              "1         Ana     18    0.0     False            0.0\n",
              "2       Cátia     27    2.5     False            1.0\n",
              "3       Denis     18    5.0     False            2.0\n",
              "4        Beto     21   10.0      True            4.0\n",
              "5       Bruna     23    0.0     False            0.0\n",
              "6        Dara     21    8.0      True            3.2\n",
              "9       Vitor     28    0.0     False            0.0\n",
              "10     Daniel     21    0.0     False            0.0\n",
              "11       Igor     24    4.5     False            1.8\n",
              "12  Sthefanie     26    9.5      True            3.8\n",
              "13      Mirla     25    9.0      True            3.6\n",
              "14      Paulo     37    0.0     False            0.0\n",
              "15     Mylena     29    8.0      True            3.2\n",
              "16      Lucas     33    0.0     False            0.0\n",
              "17      Nadia     34    8.0      True            3.2"
            ]
          },
          "execution_count": 160,
          "metadata": {},
          "output_type": "execute_result"
        }
      ],
      "source": [
        "df_students"
      ]
    },
    {
      "cell_type": "markdown",
      "metadata": {
        "id": "LPbOAgiRzvnf"
      },
      "source": [
        "### Desafio 2\n",
        "Crie mais uma coluna, chamada \"Notas_finais\" que possua as notas de cada aluno somada com os pontos extras"
      ]
    },
    {
      "cell_type": "code",
      "execution_count": 161,
      "metadata": {
        "id": "T4wuC339zw_p"
      },
      "outputs": [],
      "source": [
        "df_students['Notas_finais'] = df_students['Notas'] + df_students['Pontos_extras']"
      ]
    },
    {
      "cell_type": "code",
      "execution_count": 162,
      "metadata": {},
      "outputs": [
        {
          "data": {
            "text/html": [
              "<div>\n",
              "<style scoped>\n",
              "    .dataframe tbody tr th:only-of-type {\n",
              "        vertical-align: middle;\n",
              "    }\n",
              "\n",
              "    .dataframe tbody tr th {\n",
              "        vertical-align: top;\n",
              "    }\n",
              "\n",
              "    .dataframe thead th {\n",
              "        text-align: right;\n",
              "    }\n",
              "</style>\n",
              "<table border=\"1\" class=\"dataframe\">\n",
              "  <thead>\n",
              "    <tr style=\"text-align: right;\">\n",
              "      <th></th>\n",
              "      <th>Nome</th>\n",
              "      <th>Idade</th>\n",
              "      <th>Notas</th>\n",
              "      <th>Aprovado</th>\n",
              "      <th>Pontos_extras</th>\n",
              "      <th>Notas_finais</th>\n",
              "    </tr>\n",
              "  </thead>\n",
              "  <tbody>\n",
              "    <tr>\n",
              "      <th>0</th>\n",
              "      <td>Ary</td>\n",
              "      <td>20</td>\n",
              "      <td>7.5</td>\n",
              "      <td>True</td>\n",
              "      <td>3.0</td>\n",
              "      <td>10.5</td>\n",
              "    </tr>\n",
              "    <tr>\n",
              "      <th>1</th>\n",
              "      <td>Ana</td>\n",
              "      <td>18</td>\n",
              "      <td>0.0</td>\n",
              "      <td>False</td>\n",
              "      <td>0.0</td>\n",
              "      <td>0.0</td>\n",
              "    </tr>\n",
              "    <tr>\n",
              "      <th>2</th>\n",
              "      <td>Cátia</td>\n",
              "      <td>27</td>\n",
              "      <td>2.5</td>\n",
              "      <td>False</td>\n",
              "      <td>1.0</td>\n",
              "      <td>3.5</td>\n",
              "    </tr>\n",
              "    <tr>\n",
              "      <th>3</th>\n",
              "      <td>Denis</td>\n",
              "      <td>18</td>\n",
              "      <td>5.0</td>\n",
              "      <td>False</td>\n",
              "      <td>2.0</td>\n",
              "      <td>7.0</td>\n",
              "    </tr>\n",
              "    <tr>\n",
              "      <th>4</th>\n",
              "      <td>Beto</td>\n",
              "      <td>21</td>\n",
              "      <td>10.0</td>\n",
              "      <td>True</td>\n",
              "      <td>4.0</td>\n",
              "      <td>14.0</td>\n",
              "    </tr>\n",
              "    <tr>\n",
              "      <th>5</th>\n",
              "      <td>Bruna</td>\n",
              "      <td>23</td>\n",
              "      <td>0.0</td>\n",
              "      <td>False</td>\n",
              "      <td>0.0</td>\n",
              "      <td>0.0</td>\n",
              "    </tr>\n",
              "    <tr>\n",
              "      <th>6</th>\n",
              "      <td>Dara</td>\n",
              "      <td>21</td>\n",
              "      <td>8.0</td>\n",
              "      <td>True</td>\n",
              "      <td>3.2</td>\n",
              "      <td>11.2</td>\n",
              "    </tr>\n",
              "    <tr>\n",
              "      <th>9</th>\n",
              "      <td>Vitor</td>\n",
              "      <td>28</td>\n",
              "      <td>0.0</td>\n",
              "      <td>False</td>\n",
              "      <td>0.0</td>\n",
              "      <td>0.0</td>\n",
              "    </tr>\n",
              "    <tr>\n",
              "      <th>10</th>\n",
              "      <td>Daniel</td>\n",
              "      <td>21</td>\n",
              "      <td>0.0</td>\n",
              "      <td>False</td>\n",
              "      <td>0.0</td>\n",
              "      <td>0.0</td>\n",
              "    </tr>\n",
              "    <tr>\n",
              "      <th>11</th>\n",
              "      <td>Igor</td>\n",
              "      <td>24</td>\n",
              "      <td>4.5</td>\n",
              "      <td>False</td>\n",
              "      <td>1.8</td>\n",
              "      <td>6.3</td>\n",
              "    </tr>\n",
              "    <tr>\n",
              "      <th>12</th>\n",
              "      <td>Sthefanie</td>\n",
              "      <td>26</td>\n",
              "      <td>9.5</td>\n",
              "      <td>True</td>\n",
              "      <td>3.8</td>\n",
              "      <td>13.3</td>\n",
              "    </tr>\n",
              "    <tr>\n",
              "      <th>13</th>\n",
              "      <td>Mirla</td>\n",
              "      <td>25</td>\n",
              "      <td>9.0</td>\n",
              "      <td>True</td>\n",
              "      <td>3.6</td>\n",
              "      <td>12.6</td>\n",
              "    </tr>\n",
              "    <tr>\n",
              "      <th>14</th>\n",
              "      <td>Paulo</td>\n",
              "      <td>37</td>\n",
              "      <td>0.0</td>\n",
              "      <td>False</td>\n",
              "      <td>0.0</td>\n",
              "      <td>0.0</td>\n",
              "    </tr>\n",
              "    <tr>\n",
              "      <th>15</th>\n",
              "      <td>Mylena</td>\n",
              "      <td>29</td>\n",
              "      <td>8.0</td>\n",
              "      <td>True</td>\n",
              "      <td>3.2</td>\n",
              "      <td>11.2</td>\n",
              "    </tr>\n",
              "    <tr>\n",
              "      <th>16</th>\n",
              "      <td>Lucas</td>\n",
              "      <td>33</td>\n",
              "      <td>0.0</td>\n",
              "      <td>False</td>\n",
              "      <td>0.0</td>\n",
              "      <td>0.0</td>\n",
              "    </tr>\n",
              "    <tr>\n",
              "      <th>17</th>\n",
              "      <td>Nadia</td>\n",
              "      <td>34</td>\n",
              "      <td>8.0</td>\n",
              "      <td>True</td>\n",
              "      <td>3.2</td>\n",
              "      <td>11.2</td>\n",
              "    </tr>\n",
              "  </tbody>\n",
              "</table>\n",
              "</div>"
            ],
            "text/plain": [
              "         Nome  Idade  Notas  Aprovado  Pontos_extras  Notas_finais\n",
              "0         Ary     20    7.5      True            3.0          10.5\n",
              "1         Ana     18    0.0     False            0.0           0.0\n",
              "2       Cátia     27    2.5     False            1.0           3.5\n",
              "3       Denis     18    5.0     False            2.0           7.0\n",
              "4        Beto     21   10.0      True            4.0          14.0\n",
              "5       Bruna     23    0.0     False            0.0           0.0\n",
              "6        Dara     21    8.0      True            3.2          11.2\n",
              "9       Vitor     28    0.0     False            0.0           0.0\n",
              "10     Daniel     21    0.0     False            0.0           0.0\n",
              "11       Igor     24    4.5     False            1.8           6.3\n",
              "12  Sthefanie     26    9.5      True            3.8          13.3\n",
              "13      Mirla     25    9.0      True            3.6          12.6\n",
              "14      Paulo     37    0.0     False            0.0           0.0\n",
              "15     Mylena     29    8.0      True            3.2          11.2\n",
              "16      Lucas     33    0.0     False            0.0           0.0\n",
              "17      Nadia     34    8.0      True            3.2          11.2"
            ]
          },
          "execution_count": 162,
          "metadata": {},
          "output_type": "execute_result"
        }
      ],
      "source": [
        "df_students"
      ]
    },
    {
      "cell_type": "markdown",
      "metadata": {
        "id": "8L-b9Hxfz8fo"
      },
      "source": [
        "### Desafio 3\n",
        "Como os alunos ganharam pontos extras, alguns que não tinham sido aprovados antes podem ter sido aprovados agora. Com base nisso, crie uma coluna chamada \"Aprovado_final\" com os seguintes valores:\n",
        "\n",
        "* True: caso o aluno esteja aprovado (nota final deve ser maior ou igual a 6);\n",
        "* False: caso o aluno esteja reprovado (nota final deve ser menor que 6).\n"
      ]
    },
    {
      "cell_type": "code",
      "execution_count": null,
      "metadata": {},
      "outputs": [],
      "source": [
        "# Usando numpy where para criar uma nova coluna atraves de um filtro\n",
        "import numpy as np\n",
        "\n",
        "df_students['Aprovado_final'] = np.where(df_students['Notas_finais'] >= 6, True, False)"
      ]
    },
    {
      "cell_type": "code",
      "execution_count": 168,
      "metadata": {},
      "outputs": [
        {
          "data": {
            "text/html": [
              "<div>\n",
              "<style scoped>\n",
              "    .dataframe tbody tr th:only-of-type {\n",
              "        vertical-align: middle;\n",
              "    }\n",
              "\n",
              "    .dataframe tbody tr th {\n",
              "        vertical-align: top;\n",
              "    }\n",
              "\n",
              "    .dataframe thead th {\n",
              "        text-align: right;\n",
              "    }\n",
              "</style>\n",
              "<table border=\"1\" class=\"dataframe\">\n",
              "  <thead>\n",
              "    <tr style=\"text-align: right;\">\n",
              "      <th></th>\n",
              "      <th>Nome</th>\n",
              "      <th>Idade</th>\n",
              "      <th>Notas</th>\n",
              "      <th>Aprovado</th>\n",
              "      <th>Pontos_extras</th>\n",
              "      <th>Notas_finais</th>\n",
              "      <th>Aprovado_final</th>\n",
              "    </tr>\n",
              "  </thead>\n",
              "  <tbody>\n",
              "    <tr>\n",
              "      <th>0</th>\n",
              "      <td>Ary</td>\n",
              "      <td>20</td>\n",
              "      <td>7.5</td>\n",
              "      <td>True</td>\n",
              "      <td>3.0</td>\n",
              "      <td>10.5</td>\n",
              "      <td>True</td>\n",
              "    </tr>\n",
              "    <tr>\n",
              "      <th>1</th>\n",
              "      <td>Ana</td>\n",
              "      <td>18</td>\n",
              "      <td>0.0</td>\n",
              "      <td>False</td>\n",
              "      <td>0.0</td>\n",
              "      <td>0.0</td>\n",
              "      <td>False</td>\n",
              "    </tr>\n",
              "    <tr>\n",
              "      <th>2</th>\n",
              "      <td>Cátia</td>\n",
              "      <td>27</td>\n",
              "      <td>2.5</td>\n",
              "      <td>False</td>\n",
              "      <td>1.0</td>\n",
              "      <td>3.5</td>\n",
              "      <td>False</td>\n",
              "    </tr>\n",
              "    <tr>\n",
              "      <th>3</th>\n",
              "      <td>Denis</td>\n",
              "      <td>18</td>\n",
              "      <td>5.0</td>\n",
              "      <td>False</td>\n",
              "      <td>2.0</td>\n",
              "      <td>7.0</td>\n",
              "      <td>True</td>\n",
              "    </tr>\n",
              "    <tr>\n",
              "      <th>4</th>\n",
              "      <td>Beto</td>\n",
              "      <td>21</td>\n",
              "      <td>10.0</td>\n",
              "      <td>True</td>\n",
              "      <td>4.0</td>\n",
              "      <td>14.0</td>\n",
              "      <td>True</td>\n",
              "    </tr>\n",
              "    <tr>\n",
              "      <th>5</th>\n",
              "      <td>Bruna</td>\n",
              "      <td>23</td>\n",
              "      <td>0.0</td>\n",
              "      <td>False</td>\n",
              "      <td>0.0</td>\n",
              "      <td>0.0</td>\n",
              "      <td>False</td>\n",
              "    </tr>\n",
              "    <tr>\n",
              "      <th>6</th>\n",
              "      <td>Dara</td>\n",
              "      <td>21</td>\n",
              "      <td>8.0</td>\n",
              "      <td>True</td>\n",
              "      <td>3.2</td>\n",
              "      <td>11.2</td>\n",
              "      <td>True</td>\n",
              "    </tr>\n",
              "    <tr>\n",
              "      <th>9</th>\n",
              "      <td>Vitor</td>\n",
              "      <td>28</td>\n",
              "      <td>0.0</td>\n",
              "      <td>False</td>\n",
              "      <td>0.0</td>\n",
              "      <td>0.0</td>\n",
              "      <td>False</td>\n",
              "    </tr>\n",
              "    <tr>\n",
              "      <th>10</th>\n",
              "      <td>Daniel</td>\n",
              "      <td>21</td>\n",
              "      <td>0.0</td>\n",
              "      <td>False</td>\n",
              "      <td>0.0</td>\n",
              "      <td>0.0</td>\n",
              "      <td>False</td>\n",
              "    </tr>\n",
              "    <tr>\n",
              "      <th>11</th>\n",
              "      <td>Igor</td>\n",
              "      <td>24</td>\n",
              "      <td>4.5</td>\n",
              "      <td>False</td>\n",
              "      <td>1.8</td>\n",
              "      <td>6.3</td>\n",
              "      <td>True</td>\n",
              "    </tr>\n",
              "    <tr>\n",
              "      <th>12</th>\n",
              "      <td>Sthefanie</td>\n",
              "      <td>26</td>\n",
              "      <td>9.5</td>\n",
              "      <td>True</td>\n",
              "      <td>3.8</td>\n",
              "      <td>13.3</td>\n",
              "      <td>True</td>\n",
              "    </tr>\n",
              "    <tr>\n",
              "      <th>13</th>\n",
              "      <td>Mirla</td>\n",
              "      <td>25</td>\n",
              "      <td>9.0</td>\n",
              "      <td>True</td>\n",
              "      <td>3.6</td>\n",
              "      <td>12.6</td>\n",
              "      <td>True</td>\n",
              "    </tr>\n",
              "    <tr>\n",
              "      <th>14</th>\n",
              "      <td>Paulo</td>\n",
              "      <td>37</td>\n",
              "      <td>0.0</td>\n",
              "      <td>False</td>\n",
              "      <td>0.0</td>\n",
              "      <td>0.0</td>\n",
              "      <td>False</td>\n",
              "    </tr>\n",
              "    <tr>\n",
              "      <th>15</th>\n",
              "      <td>Mylena</td>\n",
              "      <td>29</td>\n",
              "      <td>8.0</td>\n",
              "      <td>True</td>\n",
              "      <td>3.2</td>\n",
              "      <td>11.2</td>\n",
              "      <td>True</td>\n",
              "    </tr>\n",
              "    <tr>\n",
              "      <th>16</th>\n",
              "      <td>Lucas</td>\n",
              "      <td>33</td>\n",
              "      <td>0.0</td>\n",
              "      <td>False</td>\n",
              "      <td>0.0</td>\n",
              "      <td>0.0</td>\n",
              "      <td>False</td>\n",
              "    </tr>\n",
              "    <tr>\n",
              "      <th>17</th>\n",
              "      <td>Nadia</td>\n",
              "      <td>34</td>\n",
              "      <td>8.0</td>\n",
              "      <td>True</td>\n",
              "      <td>3.2</td>\n",
              "      <td>11.2</td>\n",
              "      <td>True</td>\n",
              "    </tr>\n",
              "  </tbody>\n",
              "</table>\n",
              "</div>"
            ],
            "text/plain": [
              "         Nome  Idade  Notas  Aprovado  Pontos_extras  Notas_finais  \\\n",
              "0         Ary     20    7.5      True            3.0          10.5   \n",
              "1         Ana     18    0.0     False            0.0           0.0   \n",
              "2       Cátia     27    2.5     False            1.0           3.5   \n",
              "3       Denis     18    5.0     False            2.0           7.0   \n",
              "4        Beto     21   10.0      True            4.0          14.0   \n",
              "5       Bruna     23    0.0     False            0.0           0.0   \n",
              "6        Dara     21    8.0      True            3.2          11.2   \n",
              "9       Vitor     28    0.0     False            0.0           0.0   \n",
              "10     Daniel     21    0.0     False            0.0           0.0   \n",
              "11       Igor     24    4.5     False            1.8           6.3   \n",
              "12  Sthefanie     26    9.5      True            3.8          13.3   \n",
              "13      Mirla     25    9.0      True            3.6          12.6   \n",
              "14      Paulo     37    0.0     False            0.0           0.0   \n",
              "15     Mylena     29    8.0      True            3.2          11.2   \n",
              "16      Lucas     33    0.0     False            0.0           0.0   \n",
              "17      Nadia     34    8.0      True            3.2          11.2   \n",
              "\n",
              "    Aprovado_final  \n",
              "0             True  \n",
              "1            False  \n",
              "2            False  \n",
              "3             True  \n",
              "4             True  \n",
              "5            False  \n",
              "6             True  \n",
              "9            False  \n",
              "10           False  \n",
              "11            True  \n",
              "12            True  \n",
              "13            True  \n",
              "14           False  \n",
              "15            True  \n",
              "16           False  \n",
              "17            True  "
            ]
          },
          "execution_count": 168,
          "metadata": {},
          "output_type": "execute_result"
        }
      ],
      "source": [
        "df_students"
      ]
    },
    {
      "cell_type": "markdown",
      "metadata": {
        "id": "UNnNsZYW1Xj_"
      },
      "source": [
        "### Desafio 4\n",
        "Faça uma seleção e verifique quais alunos não tinham sido aprovados anteriormente, mas foram aprovados após a soma dos pontos extras"
      ]
    },
    {
      "cell_type": "code",
      "execution_count": 174,
      "metadata": {
        "id": "8BxkbL2N02sp"
      },
      "outputs": [
        {
          "name": "stderr",
          "output_type": "stream",
          "text": [
            "/tmp/ipykernel_7760/885293197.py:1: UserWarning: Boolean Series key will be reindexed to match DataFrame index.\n",
            "  df_students.query('Aprovado == False')[df_students['Aprovado_final']== True]\n"
          ]
        },
        {
          "data": {
            "text/html": [
              "<div>\n",
              "<style scoped>\n",
              "    .dataframe tbody tr th:only-of-type {\n",
              "        vertical-align: middle;\n",
              "    }\n",
              "\n",
              "    .dataframe tbody tr th {\n",
              "        vertical-align: top;\n",
              "    }\n",
              "\n",
              "    .dataframe thead th {\n",
              "        text-align: right;\n",
              "    }\n",
              "</style>\n",
              "<table border=\"1\" class=\"dataframe\">\n",
              "  <thead>\n",
              "    <tr style=\"text-align: right;\">\n",
              "      <th></th>\n",
              "      <th>Nome</th>\n",
              "      <th>Idade</th>\n",
              "      <th>Notas</th>\n",
              "      <th>Aprovado</th>\n",
              "      <th>Pontos_extras</th>\n",
              "      <th>Notas_finais</th>\n",
              "      <th>Aprovado_final</th>\n",
              "    </tr>\n",
              "  </thead>\n",
              "  <tbody>\n",
              "    <tr>\n",
              "      <th>3</th>\n",
              "      <td>Denis</td>\n",
              "      <td>18</td>\n",
              "      <td>5.0</td>\n",
              "      <td>False</td>\n",
              "      <td>2.0</td>\n",
              "      <td>7.0</td>\n",
              "      <td>True</td>\n",
              "    </tr>\n",
              "    <tr>\n",
              "      <th>11</th>\n",
              "      <td>Igor</td>\n",
              "      <td>24</td>\n",
              "      <td>4.5</td>\n",
              "      <td>False</td>\n",
              "      <td>1.8</td>\n",
              "      <td>6.3</td>\n",
              "      <td>True</td>\n",
              "    </tr>\n",
              "  </tbody>\n",
              "</table>\n",
              "</div>"
            ],
            "text/plain": [
              "     Nome  Idade  Notas  Aprovado  Pontos_extras  Notas_finais  Aprovado_final\n",
              "3   Denis     18    5.0     False            2.0           7.0            True\n",
              "11   Igor     24    4.5     False            1.8           6.3            True"
            ]
          },
          "execution_count": 174,
          "metadata": {},
          "output_type": "execute_result"
        }
      ],
      "source": [
        "df_students.query('Aprovado == False')[df_students['Aprovado_final']== True]"
      ]
    },
    {
      "cell_type": "code",
      "execution_count": 175,
      "metadata": {},
      "outputs": [
        {
          "data": {
            "text/html": [
              "<div>\n",
              "<style scoped>\n",
              "    .dataframe tbody tr th:only-of-type {\n",
              "        vertical-align: middle;\n",
              "    }\n",
              "\n",
              "    .dataframe tbody tr th {\n",
              "        vertical-align: top;\n",
              "    }\n",
              "\n",
              "    .dataframe thead th {\n",
              "        text-align: right;\n",
              "    }\n",
              "</style>\n",
              "<table border=\"1\" class=\"dataframe\">\n",
              "  <thead>\n",
              "    <tr style=\"text-align: right;\">\n",
              "      <th></th>\n",
              "      <th>Nome</th>\n",
              "      <th>Idade</th>\n",
              "      <th>Notas</th>\n",
              "      <th>Aprovado</th>\n",
              "      <th>Pontos_extras</th>\n",
              "      <th>Notas_finais</th>\n",
              "      <th>Aprovado_final</th>\n",
              "    </tr>\n",
              "  </thead>\n",
              "  <tbody>\n",
              "    <tr>\n",
              "      <th>3</th>\n",
              "      <td>Denis</td>\n",
              "      <td>18</td>\n",
              "      <td>5.0</td>\n",
              "      <td>False</td>\n",
              "      <td>2.0</td>\n",
              "      <td>7.0</td>\n",
              "      <td>True</td>\n",
              "    </tr>\n",
              "    <tr>\n",
              "      <th>11</th>\n",
              "      <td>Igor</td>\n",
              "      <td>24</td>\n",
              "      <td>4.5</td>\n",
              "      <td>False</td>\n",
              "      <td>1.8</td>\n",
              "      <td>6.3</td>\n",
              "      <td>True</td>\n",
              "    </tr>\n",
              "  </tbody>\n",
              "</table>\n",
              "</div>"
            ],
            "text/plain": [
              "     Nome  Idade  Notas  Aprovado  Pontos_extras  Notas_finais  Aprovado_final\n",
              "3   Denis     18    5.0     False            2.0           7.0            True\n",
              "11   Igor     24    4.5     False            1.8           6.3            True"
            ]
          },
          "execution_count": 175,
          "metadata": {},
          "output_type": "execute_result"
        }
      ],
      "source": [
        "df_students[(df_students['Aprovado'] == False) & (df_students['Aprovado_final'] == True)]"
      ]
    },
    {
      "cell_type": "code",
      "execution_count": null,
      "metadata": {
        "id": "6CzZUbGG8qSq"
      },
      "outputs": [],
      "source": []
    }
  ],
  "metadata": {
    "colab": {
      "provenance": [],
      "toc_visible": true
    },
    "kernelspec": {
      "display_name": ".venv",
      "language": "python",
      "name": "python3"
    },
    "language_info": {
      "codemirror_mode": {
        "name": "ipython",
        "version": 3
      },
      "file_extension": ".py",
      "mimetype": "text/x-python",
      "name": "python",
      "nbconvert_exporter": "python",
      "pygments_lexer": "ipython3",
      "version": "3.12.3"
    }
  },
  "nbformat": 4,
  "nbformat_minor": 0
}
