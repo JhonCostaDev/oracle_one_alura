{
 "cells": [
  {
   "cell_type": "markdown",
   "metadata": {
    "id": "qxah03ikONCD"
   },
   "source": [
    "# **Sobre o notebook**\n",
    "\n",
    "Aproveite esse espaço para as atividades do curso de **Estatística com Python: resumindo e analisando dados** da Alura. Aqui você pode escrever e testar os códigos dos diversos exercícios do **Mão na Massa** envolvendo os aprendizados de cada aula.\n",
    "\n",
    "Utilizando os conhecimentos adquiridos ao longo do curso, você precisará realizar uma **análise descritiva** básica de um conjunto de dados retirados da **Pesquisa Nacional por Amostra de Domicílios - 2015** do IBGE.\n",
    "\n",
    "Nele, você irá avaliar os tipos dos dados e suas distribuições, calcular as medidas de tendência central, medidas separatrizes e de dispersão dos dados e construirá visuais como histogramas, boxplot, entre outras para responder às perguntas.\n",
    "\n",
    "Este notebook foi construído com espaços para adicionar as células dos desafios propostos no curso, com eles você tem espaço para construir e executar suas soluções.\n",
    "\n",
    "\n",
    "\n"
   ]
  },
  {
   "cell_type": "markdown",
   "metadata": {
    "id": "ouMWQS5PkxIr"
   },
   "source": [
    "## **Dataset do Projeto**"
   ]
  },
  {
   "cell_type": "markdown",
   "metadata": {
    "id": "eeErXl4El6tC"
   },
   "source": [
    "O conjunto de dados que será explorado aqui é uma adaptação dos dados da **Pesquisa Nacional por Amostra de Domicílios - PNAD**. Ela investiga anualmente, de forma permanente, características gerais da população, de educação, trabalho, rendimento e habitação e outras, com periodicidade variável, de acordo com as necessidades de informação para o país, como as características sobre migração, fecundidade, nupcialidade, saúde, segurança alimentar, entre outros temas.\n",
    "\n",
    "O levantamento dessas estatísticas constitui, ao longo dos 49 anos de realização da pesquisa, um importante instrumento para formulação, validação e avaliação de políticas orientadas para o desenvolvimento socioeconômico e a melhoria das condições de vida no Brasil."
   ]
  },
  {
   "cell_type": "markdown",
   "metadata": {
    "id": "_vpi0QThnfJ6"
   },
   "source": [
    "### **Fonte dos Dados**\n",
    "\n",
    "https://www.ibge.gov.br/estatisticas/sociais/populacao/9127-pesquisa-nacional-por-amostra-de-domicilios.html?edicao=9128"
   ]
  },
  {
   "cell_type": "markdown",
   "metadata": {
    "id": "zrMeV3e5rQxd"
   },
   "source": [
    "### **Variáveis do dataset**\n",
    "\n",
    "> ### UF\n",
    "> ***\n",
    "\n",
    "Unidade federativa da pessoa responsável\n",
    "\n",
    "> ### Sexo\n",
    "> ***\n",
    "\n",
    "Sexo biológico da pessoa responsável\n",
    "\n",
    "<br>\n",
    "\n",
    "|Código|Descrição|\n",
    "|---|---|\n",
    "|0|Masculino|\n",
    "|1|Feminino|\n",
    "\n",
    "> ### Idade\n",
    "> ***\n",
    "\n",
    "Idade da pessoa responsável na data de referência em anos.\n",
    "\n",
    "> ### Cor\n",
    "> ***\n",
    "\n",
    "Cor ou raça da pessoa responsável com base na autodeclaração\n",
    "\n",
    "<br>\n",
    "\n",
    "|Código|Descrição|\n",
    "|---|---|\n",
    "|0|Indígena|\n",
    "|2|Branca|\n",
    "|4|Preta|\n",
    "|6|Amarela|\n",
    "|8|Parda|\n",
    "\n",
    "> ### Anos de Estudo\n",
    "> ***\n",
    "\n",
    "Anos de estudo da pessoa responsável\n",
    "\n",
    "<br>\n",
    "\n",
    "|Código|Descrição|\n",
    "|---|---|\n",
    "|1|Sem instrução e menos de 1 ano|\n",
    "|2|1 ano|\n",
    "|3|2 anos|\n",
    "|4|3 anos|\n",
    "|5|4 anos|\n",
    "|6|5 anos|\n",
    "|7|6 anos|\n",
    "|8|7 anos|\n",
    "|9|8 anos|\n",
    "|10|9 anos|\n",
    "|11|10 anos|\n",
    "|12|11 anos|\n",
    "|13|12 anos|\n",
    "|14|13 anos|\n",
    "|15|14 anos|\n",
    "|16|15 anos ou mais|\n",
    "|17|Não determinados|\n",
    "\n",
    "> ### Renda\n",
    "> ***\n",
    "\n",
    "Rendimento mensal do trabalho principal da pessoa responsável para 10 anos ou mais de idade.\n",
    "\n",
    "> ### Altura (elaboração própria - dado sintético)\n",
    "> ***\n",
    "\n",
    "Altura da pessoa responsável em metros."
   ]
  },
  {
   "cell_type": "markdown",
   "metadata": {
    "id": "sIlkOh1BvGsM"
   },
   "source": [
    "#### <font color='red'>Observação</font>\n",
    "***\n",
    "> Os seguintes tratamentos foram realizados nos dados originais:\n",
    "> 1. Foram eliminados os registros onde a **Renda** era inválida (999 999 999 999);\n",
    "> 2. Foram eliminados os registros onde a **Renda** era missing;\n",
    "> 3. Foram considerados somente os registros das **Pessoas de Referência** de cada domicílio (responsável pelo domicílio)."
   ]
  },
  {
   "cell_type": "markdown",
   "metadata": {
    "id": "IA3M1eso_L2Z"
   },
   "source": [
    "## **Aula 01 - Entendendo os dados**"
   ]
  },
  {
   "cell_type": "markdown",
   "metadata": {
    "id": "AmpR_VE4CImQ"
   },
   "source": [
    "### **Mão na Massa - Explorando novos dados**\n",
    "\n",
    "\n"
   ]
  },
  {
   "cell_type": "markdown",
   "metadata": {
    "id": "k2YfI6iDYmo4"
   },
   "source": [
    "Você está treinando para ser uma pessoa cientista de dados e recebeu a demanda de investigar os dados da PNAD de 2015. A fim de testar as suas habilidades de análise de dados e os conceitos da estatística descritiva, responda às perguntas ao longo do notebook compartilhado."
   ]
  },
  {
   "cell_type": "markdown",
   "metadata": {
    "id": "QDUU7jVGiMiZ"
   },
   "source": [
    "#### **Importando os pacotes e configurando o ambiente**"
   ]
  },
  {
   "cell_type": "code",
   "execution_count": 172,
   "metadata": {
    "id": "ZruvypSoO6oP"
   },
   "outputs": [],
   "source": [
    "# Importando os pacotes do projeto\n",
    "import pandas as pd\n",
    "import numpy as np\n",
    "import seaborn as sns\n",
    "import matplotlib.pyplot as plt"
   ]
  },
  {
   "cell_type": "markdown",
   "metadata": {
    "id": "MqXopokVzjV8"
   },
   "source": [
    "#### **Importe o dataset e armazene o conteúdo em um DataFrame**"
   ]
  },
  {
   "cell_type": "markdown",
   "metadata": {
    "id": "pr2UTRm70Tsq"
   },
   "source": [
    "**Dica:** Passe a url para a função que lê um arquivo do tipo `.csv`"
   ]
  },
  {
   "cell_type": "code",
   "execution_count": 173,
   "metadata": {
    "id": "cndAfPzKzjBs"
   },
   "outputs": [],
   "source": [
    "url = \"https://raw.githubusercontent.com/alura-cursos/Estatisticas-Python-frequencias-medidas/refs/heads/main/dados/dados_desafio.csv\"\n",
    "dados = pd.read_csv(url)"
   ]
  },
  {
   "cell_type": "markdown",
   "metadata": {
    "id": "CKddW-tNzuP1"
   },
   "source": [
    "#### **Visualize o conteúdo do DataFrame e leia as infos sobre os dados (linhas, colunas, tipos)**"
   ]
  },
  {
   "cell_type": "markdown",
   "metadata": {
    "id": "exRQ_Tuf0jrD"
   },
   "source": [
    "**Dica:** Para observar as infos dos dados, utilize a função `info`"
   ]
  },
  {
   "cell_type": "code",
   "execution_count": 174,
   "metadata": {
    "id": "OLc-_Q4oXttA"
   },
   "outputs": [
    {
     "name": "stdout",
     "output_type": "stream",
     "text": [
      "<class 'pandas.core.frame.DataFrame'>\n",
      "RangeIndex: 76840 entries, 0 to 76839\n",
      "Data columns (total 7 columns):\n",
      " #   Column          Non-Null Count  Dtype  \n",
      "---  ------          --------------  -----  \n",
      " 0   UF              76840 non-null  object \n",
      " 1   Sexo            76840 non-null  int64  \n",
      " 2   Idade           76840 non-null  int64  \n",
      " 3   Cor             76840 non-null  int64  \n",
      " 4   Anos.de.Estudo  76840 non-null  int64  \n",
      " 5   Renda           76840 non-null  int64  \n",
      " 6   Altura          76840 non-null  float64\n",
      "dtypes: float64(1), int64(5), object(1)\n",
      "memory usage: 9.1 MB\n"
     ]
    }
   ],
   "source": [
    "dados.info(memory_usage='deep')"
   ]
  },
  {
   "cell_type": "code",
   "execution_count": null,
   "metadata": {
    "id": "NVm1btZMXttA"
   },
   "outputs": [],
   "source": []
  },
  {
   "cell_type": "markdown",
   "metadata": {
    "id": "RAmtjJFi0-ni"
   },
   "source": [
    "#### **Explore brevemente a variável `UF` e investigue quantos dados possuímos para cada estado**"
   ]
  },
  {
   "cell_type": "markdown",
   "metadata": {
    "id": "FeK6odCN9O1m"
   },
   "source": [
    "**Dica:** Para explorar, utilize as funções `unique`, `value_counts`, `reset_index` e `barplot`\n",
    "\n"
   ]
  },
  {
   "cell_type": "code",
   "execution_count": 175,
   "metadata": {
    "id": "8LCZ_HX_XttB"
   },
   "outputs": [
    {
     "data": {
      "text/plain": [
       "array(['Rondônia', 'Acre', 'Amazonas', 'Roraima', 'Pará', 'Amapá',\n",
       "       'Tocantins', 'Maranhão', 'Piauí', 'Ceará', 'Rio Grande do Norte',\n",
       "       'Paraíba', 'Pernambuco', 'Alagoas', 'Sergipe', 'Bahia',\n",
       "       'Minas Gerais', 'Espírito Santo', 'Rio de Janeiro', 'São Paulo',\n",
       "       'Paraná', 'Santa Catarina', 'Rio Grande do Sul',\n",
       "       'Mato Grosso do Sul', 'Mato Grosso', 'Goiás', 'Distrito Federal'],\n",
       "      dtype=object)"
      ]
     },
     "execution_count": 175,
     "metadata": {},
     "output_type": "execute_result"
    }
   ],
   "source": [
    "# Lista dos estados na coluna\n",
    "dados.UF.unique()"
   ]
  },
  {
   "cell_type": "code",
   "execution_count": 176,
   "metadata": {
    "id": "7thCb1O1XttB"
   },
   "outputs": [
    {
     "data": {
      "image/png": "[encoded data removed]",
      "text/plain": [
       "<Figure size 1500x1000 with 1 Axes>"
      ]
     },
     "metadata": {},
     "output_type": "display_data"
    }
   ],
   "source": [
    "# Quantidade de dados unicos\n",
    "uf_counts = dados.UF.value_counts()\n",
    "\n",
    "plt.figure(figsize=(15,10))\n",
    "sns.barplot(x=uf_counts.values, y=uf_counts.index, palette='Set2', hue=uf_counts.index)\n",
    "plt.title(\"Persquida respondida por Estados\", fontsize=32)\n",
    "plt.xlabel('Quantidade', fontsize=22)\n",
    "plt.ylabel(\"Estado\")\n",
    "plt.xticks(rotation=45, fontsize=18)\n",
    "plt.yticks(fontsize=18)\n",
    "plt.tight_layout()\n",
    "\n",
    "plt.show()"
   ]
  },
  {
   "cell_type": "code",
   "execution_count": 177,
   "metadata": {
    "id": "-M7-GwhVXttB"
   },
   "outputs": [
    {
     "data": {
      "image/png": "[encoded data removed]",
      "text/plain": [
       "<Figure size 1000x600 with 1 Axes>"
      ]
     },
     "metadata": {},
     "output_type": "display_data"
    }
   ],
   "source": [
    "# Quantidade de dados unicos\n",
    "uf_porcentagem = dados.UF.value_counts(normalize=True) * 100\n",
    "\n",
    "fig, ax = plt.subplots(figsize=(10, 6))\n",
    "sns.barplot(x=uf_porcentagem.values, y=uf_porcentagem.index,\n",
    "            hue=uf_porcentagem.index,\n",
    "            palette='Set2'\n",
    "            )\n",
    "\n",
    "for i, v in enumerate(uf_porcentagem.values):\n",
    "    ax.text(v + 0.5, i, f'{v:.1f}%', va='center')"
   ]
  },
  {
   "cell_type": "code",
   "execution_count": null,
   "metadata": {
    "id": "A_Wm9zumXttB"
   },
   "outputs": [],
   "source": []
  },
  {
   "cell_type": "markdown",
   "metadata": {
    "id": "8fTFk94y-ZUK"
   },
   "source": [
    "#### **Transforme as variáveis `Sexo`, `Cor` e `Anos.de.Estudo` em Categorical e observe o resultado**"
   ]
  },
  {
   "cell_type": "markdown",
   "metadata": {
    "id": "UUIelOM4-s9J"
   },
   "source": [
    "**Dica 1:** Para te auxiliar neste processo, a célula abaixo traz os vetores com os valores de cada coluna na ordem desejada.\n",
    "\n",
    "**Dica 2:** Utilize a tabela no início do documento para fazer a relação dos valores atuais para os desejados."
   ]
  },
  {
   "cell_type": "code",
   "execution_count": 178,
   "metadata": {
    "id": "P2QOn38uXttB"
   },
   "outputs": [],
   "source": [
    "# Definindo as variáveis\n",
    "sexo = {0: 'Masculino', 1: 'Feminino'}\n",
    "\n",
    "cor = {0:'Indígena', 2:'Branca', 4:'Preta', 6:'Amarela', 8:'Parda'}\n",
    "\n",
    "anos_de_estudo = {1:'Sem instrução e menos de 1 ano', 2:'1 ano', 3:'2 anos', 4:'3 anos', 5:'4 anos', 6:'5 anos',\n",
    "    7:'6 anos', 8:'7 anos', 9:'8 anos', 10:'9 anos', 11:'10 anos', 12:'11 anos', 13:'12 anos',14:'13 anos',\n",
    "    15:'14 anos', 16:'15 anos ou mais', 17:'Não determinados'\n",
    "}\n",
    "# Transforma em lista para facilitar \n",
    "list_to_change = [sexo, cor, anos_de_estudo]\n",
    "to_change = ['Sexo', 'Cor', 'Anos.de.Estudo']"
   ]
  },
  {
   "cell_type": "code",
   "execution_count": 179,
   "metadata": {},
   "outputs": [],
   "source": [
    "# Aplicando as mudanças com laço FOR\n",
    "\n",
    "for a, b in zip(to_change, list_to_change):\n",
    "    dados[a] = dados[a].map(b)\n",
    "\n",
    "for col in to_change:\n",
    "    dados[col] = dados[col].astype('category')"
   ]
  },
  {
   "cell_type": "code",
   "execution_count": 180,
   "metadata": {},
   "outputs": [
    {
     "data": {
      "text/html": [
       "<div>\n",
       "<style scoped>\n",
       "    .dataframe tbody tr th:only-of-type {\n",
       "        vertical-align: middle;\n",
       "    }\n",
       "\n",
       "    .dataframe tbody tr th {\n",
       "        vertical-align: top;\n",
       "    }\n",
       "\n",
       "    .dataframe thead th {\n",
       "        text-align: right;\n",
       "    }\n",
       "</style>\n",
       "<table border=\"1\" class=\"dataframe\">\n",
       "  <thead>\n",
       "    <tr style=\"text-align: right;\">\n",
       "      <th></th>\n",
       "      <th>UF</th>\n",
       "      <th>Sexo</th>\n",
       "      <th>Idade</th>\n",
       "      <th>Cor</th>\n",
       "      <th>Anos.de.Estudo</th>\n",
       "      <th>Renda</th>\n",
       "      <th>Altura</th>\n",
       "    </tr>\n",
       "  </thead>\n",
       "  <tbody>\n",
       "    <tr>\n",
       "      <th>0</th>\n",
       "      <td>Rondônia</td>\n",
       "      <td>Masculino</td>\n",
       "      <td>23</td>\n",
       "      <td>Parda</td>\n",
       "      <td>11 anos</td>\n",
       "      <td>800</td>\n",
       "      <td>1.60</td>\n",
       "    </tr>\n",
       "    <tr>\n",
       "      <th>1</th>\n",
       "      <td>Rondônia</td>\n",
       "      <td>Feminino</td>\n",
       "      <td>23</td>\n",
       "      <td>Branca</td>\n",
       "      <td>11 anos</td>\n",
       "      <td>1150</td>\n",
       "      <td>1.74</td>\n",
       "    </tr>\n",
       "    <tr>\n",
       "      <th>2</th>\n",
       "      <td>Rondônia</td>\n",
       "      <td>Feminino</td>\n",
       "      <td>35</td>\n",
       "      <td>Parda</td>\n",
       "      <td>14 anos</td>\n",
       "      <td>880</td>\n",
       "      <td>1.76</td>\n",
       "    </tr>\n",
       "    <tr>\n",
       "      <th>3</th>\n",
       "      <td>Rondônia</td>\n",
       "      <td>Masculino</td>\n",
       "      <td>46</td>\n",
       "      <td>Branca</td>\n",
       "      <td>5 anos</td>\n",
       "      <td>3500</td>\n",
       "      <td>1.78</td>\n",
       "    </tr>\n",
       "    <tr>\n",
       "      <th>4</th>\n",
       "      <td>Rondônia</td>\n",
       "      <td>Feminino</td>\n",
       "      <td>47</td>\n",
       "      <td>Parda</td>\n",
       "      <td>8 anos</td>\n",
       "      <td>150</td>\n",
       "      <td>1.69</td>\n",
       "    </tr>\n",
       "    <tr>\n",
       "      <th>...</th>\n",
       "      <td>...</td>\n",
       "      <td>...</td>\n",
       "      <td>...</td>\n",
       "      <td>...</td>\n",
       "      <td>...</td>\n",
       "      <td>...</td>\n",
       "      <td>...</td>\n",
       "    </tr>\n",
       "    <tr>\n",
       "      <th>76835</th>\n",
       "      <td>Distrito Federal</td>\n",
       "      <td>Feminino</td>\n",
       "      <td>46</td>\n",
       "      <td>Branca</td>\n",
       "      <td>10 anos</td>\n",
       "      <td>812</td>\n",
       "      <td>1.69</td>\n",
       "    </tr>\n",
       "    <tr>\n",
       "      <th>76836</th>\n",
       "      <td>Distrito Federal</td>\n",
       "      <td>Masculino</td>\n",
       "      <td>30</td>\n",
       "      <td>Preta</td>\n",
       "      <td>6 anos</td>\n",
       "      <td>1500</td>\n",
       "      <td>1.79</td>\n",
       "    </tr>\n",
       "    <tr>\n",
       "      <th>76837</th>\n",
       "      <td>Distrito Federal</td>\n",
       "      <td>Masculino</td>\n",
       "      <td>32</td>\n",
       "      <td>Parda</td>\n",
       "      <td>11 anos</td>\n",
       "      <td>1300</td>\n",
       "      <td>1.83</td>\n",
       "    </tr>\n",
       "    <tr>\n",
       "      <th>76838</th>\n",
       "      <td>Distrito Federal</td>\n",
       "      <td>Masculino</td>\n",
       "      <td>57</td>\n",
       "      <td>Parda</td>\n",
       "      <td>3 anos</td>\n",
       "      <td>1500</td>\n",
       "      <td>1.73</td>\n",
       "    </tr>\n",
       "    <tr>\n",
       "      <th>76839</th>\n",
       "      <td>Distrito Federal</td>\n",
       "      <td>Masculino</td>\n",
       "      <td>38</td>\n",
       "      <td>Parda</td>\n",
       "      <td>3 anos</td>\n",
       "      <td>900</td>\n",
       "      <td>1.66</td>\n",
       "    </tr>\n",
       "  </tbody>\n",
       "</table>\n",
       "<p>76840 rows × 7 columns</p>\n",
       "</div>"
      ],
      "text/plain": [
       "                     UF       Sexo  Idade     Cor Anos.de.Estudo  Renda  \\\n",
       "0              Rondônia  Masculino     23   Parda        11 anos    800   \n",
       "1              Rondônia   Feminino     23  Branca        11 anos   1150   \n",
       "2              Rondônia   Feminino     35   Parda        14 anos    880   \n",
       "3              Rondônia  Masculino     46  Branca         5 anos   3500   \n",
       "4              Rondônia   Feminino     47   Parda         8 anos    150   \n",
       "...                 ...        ...    ...     ...            ...    ...   \n",
       "76835  Distrito Federal   Feminino     46  Branca        10 anos    812   \n",
       "76836  Distrito Federal  Masculino     30   Preta         6 anos   1500   \n",
       "76837  Distrito Federal  Masculino     32   Parda        11 anos   1300   \n",
       "76838  Distrito Federal  Masculino     57   Parda         3 anos   1500   \n",
       "76839  Distrito Federal  Masculino     38   Parda         3 anos    900   \n",
       "\n",
       "       Altura  \n",
       "0        1.60  \n",
       "1        1.74  \n",
       "2        1.76  \n",
       "3        1.78  \n",
       "4        1.69  \n",
       "...       ...  \n",
       "76835    1.69  \n",
       "76836    1.79  \n",
       "76837    1.83  \n",
       "76838    1.73  \n",
       "76839    1.66  \n",
       "\n",
       "[76840 rows x 7 columns]"
      ]
     },
     "execution_count": 180,
     "metadata": {},
     "output_type": "execute_result"
    }
   ],
   "source": [
    "dados"
   ]
  },
  {
   "cell_type": "markdown",
   "metadata": {
    "id": "oNXrD7nYbu9L"
   },
   "source": [
    "##### Sexo"
   ]
  },
  {
   "cell_type": "code",
   "execution_count": 181,
   "metadata": {},
   "outputs": [
    {
     "data": {
      "text/html": [
       "<div>\n",
       "<style scoped>\n",
       "    .dataframe tbody tr th:only-of-type {\n",
       "        vertical-align: middle;\n",
       "    }\n",
       "\n",
       "    .dataframe tbody tr th {\n",
       "        vertical-align: top;\n",
       "    }\n",
       "\n",
       "    .dataframe thead th {\n",
       "        text-align: right;\n",
       "    }\n",
       "</style>\n",
       "<table border=\"1\" class=\"dataframe\">\n",
       "  <thead>\n",
       "    <tr style=\"text-align: right;\">\n",
       "      <th></th>\n",
       "      <th>Sexo</th>\n",
       "      <th>quantidade</th>\n",
       "      <th>porcentagem %</th>\n",
       "    </tr>\n",
       "  </thead>\n",
       "  <tbody>\n",
       "    <tr>\n",
       "      <th>0</th>\n",
       "      <td>Masculino</td>\n",
       "      <td>53250</td>\n",
       "      <td>69.3</td>\n",
       "    </tr>\n",
       "    <tr>\n",
       "      <th>1</th>\n",
       "      <td>Feminino</td>\n",
       "      <td>23590</td>\n",
       "      <td>30.7</td>\n",
       "    </tr>\n",
       "  </tbody>\n",
       "</table>\n",
       "</div>"
      ],
      "text/plain": [
       "        Sexo  quantidade  porcentagem %\n",
       "0  Masculino       53250           69.3\n",
       "1   Feminino       23590           30.7"
      ]
     },
     "execution_count": 181,
     "metadata": {},
     "output_type": "execute_result"
    }
   ],
   "source": [
    "distribuicao_freq_sexo = dados.Sexo.value_counts().reset_index(name='quantidade')\n",
    "distribuicao_freq_sexo['porcentagem %'] = (dados.Sexo.value_counts(normalize=True)*100).values.round(2)\n",
    "distribuicao_freq_sexo"
   ]
  },
  {
   "cell_type": "code",
   "execution_count": 182,
   "metadata": {
    "id": "IoLIMTCyXttC"
   },
   "outputs": [
    {
     "data": {
      "image/png": "[encoded data removed]",
      "text/plain": [
       "<Figure size 800x800 with 1 Axes>"
      ]
     },
     "metadata": {},
     "output_type": "display_data"
    }
   ],
   "source": [
    "\n",
    "dados.Sexo.value_counts().plot.pie(autopct='%1.1f%%', startangle=90, shadow=True, figsize=(8,8), title=\"Distribuição do público pesquisado\", colors=['#00BFFF', '#FF00FF'], textprops={'fontsize': 16})\n",
    "\n",
    "plt.ylabel('')\n",
    "plt.show()"
   ]
  },
  {
   "cell_type": "markdown",
   "metadata": {
    "id": "qrrZ2J9kcCFl"
   },
   "source": [
    "##### Cor"
   ]
  },
  {
   "cell_type": "code",
   "execution_count": 183,
   "metadata": {},
   "outputs": [
    {
     "data": {
      "text/html": [
       "<div>\n",
       "<style scoped>\n",
       "    .dataframe tbody tr th:only-of-type {\n",
       "        vertical-align: middle;\n",
       "    }\n",
       "\n",
       "    .dataframe tbody tr th {\n",
       "        vertical-align: top;\n",
       "    }\n",
       "\n",
       "    .dataframe thead th {\n",
       "        text-align: right;\n",
       "    }\n",
       "</style>\n",
       "<table border=\"1\" class=\"dataframe\">\n",
       "  <thead>\n",
       "    <tr style=\"text-align: right;\">\n",
       "      <th></th>\n",
       "      <th>Cor</th>\n",
       "      <th>quantidade</th>\n",
       "      <th>porcentagem %</th>\n",
       "    </tr>\n",
       "  </thead>\n",
       "  <tbody>\n",
       "    <tr>\n",
       "      <th>0</th>\n",
       "      <td>Parda</td>\n",
       "      <td>35925</td>\n",
       "      <td>46.8</td>\n",
       "    </tr>\n",
       "    <tr>\n",
       "      <th>1</th>\n",
       "      <td>Branca</td>\n",
       "      <td>31815</td>\n",
       "      <td>41.4</td>\n",
       "    </tr>\n",
       "    <tr>\n",
       "      <th>2</th>\n",
       "      <td>Preta</td>\n",
       "      <td>8391</td>\n",
       "      <td>10.9</td>\n",
       "    </tr>\n",
       "    <tr>\n",
       "      <th>3</th>\n",
       "      <td>Indígena</td>\n",
       "      <td>357</td>\n",
       "      <td>0.5</td>\n",
       "    </tr>\n",
       "    <tr>\n",
       "      <th>4</th>\n",
       "      <td>Amarela</td>\n",
       "      <td>352</td>\n",
       "      <td>0.5</td>\n",
       "    </tr>\n",
       "  </tbody>\n",
       "</table>\n",
       "</div>"
      ],
      "text/plain": [
       "        Cor  quantidade  porcentagem %\n",
       "0     Parda       35925           46.8\n",
       "1    Branca       31815           41.4\n",
       "2     Preta        8391           10.9\n",
       "3  Indígena         357            0.5\n",
       "4   Amarela         352            0.5"
      ]
     },
     "execution_count": 183,
     "metadata": {},
     "output_type": "execute_result"
    }
   ],
   "source": [
    "distribuicao_freq_cor = dados.Cor.value_counts().reset_index(name='quantidade')\n",
    "distribuicao_freq_cor['porcentagem %'] = (dados.Cor.value_counts(normalize=True)*100).values.round(1)\n",
    "distribuicao_freq_cor "
   ]
  },
  {
   "cell_type": "code",
   "execution_count": 184,
   "metadata": {
    "id": "_py-S1n4XttC"
   },
   "outputs": [
    {
     "data": {
      "image/png": "[encoded data removed]",
      "text/plain": [
       "<Figure size 640x480 with 1 Axes>"
      ]
     },
     "metadata": {},
     "output_type": "display_data"
    }
   ],
   "source": [
    "\n",
    "diferenca_etnica = dados.Cor.value_counts()\n",
    "cores = ['#A1866F', '#D8D8D8', '#333333', '#BC6C25', '#E7C547']\n",
    "\n",
    "ax = diferenca_etnica.plot.bar(color=cores)\n",
    "plt.title('Divisao Étnica da Pesquisa',  fontsize=22)\n",
    "plt.xticks(rotation=45)\n",
    "\n",
    "for i, v in enumerate(diferenca_etnica):\n",
    "    porcentagem = v / diferenca_etnica.sum() * 100\n",
    "    ax.text(i, v + 0.1, f'{porcentagem:.1f}%', ha='center', va='bottom', fontsize=12)\n",
    "\n",
    "plt.xlabel('Étnia', fontsize=14)\n",
    "plt.ylabel('Quantidade', fontsize=14)\n",
    "plt.show()"
   ]
  },
  {
   "cell_type": "code",
   "execution_count": null,
   "metadata": {
    "id": "aaICZDtuXttC"
   },
   "outputs": [],
   "source": []
  },
  {
   "cell_type": "markdown",
   "metadata": {
    "id": "ssIG-8t6cE5r"
   },
   "source": [
    "##### Anos de Estudo"
   ]
  },
  {
   "cell_type": "code",
   "execution_count": 185,
   "metadata": {},
   "outputs": [
    {
     "data": {
      "text/html": [
       "<div>\n",
       "<style scoped>\n",
       "    .dataframe tbody tr th:only-of-type {\n",
       "        vertical-align: middle;\n",
       "    }\n",
       "\n",
       "    .dataframe tbody tr th {\n",
       "        vertical-align: top;\n",
       "    }\n",
       "\n",
       "    .dataframe thead th {\n",
       "        text-align: right;\n",
       "    }\n",
       "</style>\n",
       "<table border=\"1\" class=\"dataframe\">\n",
       "  <thead>\n",
       "    <tr style=\"text-align: right;\">\n",
       "      <th></th>\n",
       "      <th>Anos.de.Estudo</th>\n",
       "      <th>quantidade</th>\n",
       "      <th>porcentagem %</th>\n",
       "    </tr>\n",
       "  </thead>\n",
       "  <tbody>\n",
       "    <tr>\n",
       "      <th>0</th>\n",
       "      <td>11 anos</td>\n",
       "      <td>20848</td>\n",
       "      <td>27.1</td>\n",
       "    </tr>\n",
       "    <tr>\n",
       "      <th>1</th>\n",
       "      <td>15 anos ou mais</td>\n",
       "      <td>10795</td>\n",
       "      <td>14.0</td>\n",
       "    </tr>\n",
       "    <tr>\n",
       "      <th>2</th>\n",
       "      <td>8 anos</td>\n",
       "      <td>7980</td>\n",
       "      <td>10.4</td>\n",
       "    </tr>\n",
       "    <tr>\n",
       "      <th>3</th>\n",
       "      <td>4 anos</td>\n",
       "      <td>6729</td>\n",
       "      <td>8.8</td>\n",
       "    </tr>\n",
       "    <tr>\n",
       "      <th>4</th>\n",
       "      <td>Sem instrução e menos de 1 ano</td>\n",
       "      <td>5849</td>\n",
       "      <td>7.6</td>\n",
       "    </tr>\n",
       "    <tr>\n",
       "      <th>5</th>\n",
       "      <td>5 anos</td>\n",
       "      <td>4499</td>\n",
       "      <td>5.9</td>\n",
       "    </tr>\n",
       "    <tr>\n",
       "      <th>6</th>\n",
       "      <td>3 anos</td>\n",
       "      <td>2891</td>\n",
       "      <td>3.8</td>\n",
       "    </tr>\n",
       "    <tr>\n",
       "      <th>7</th>\n",
       "      <td>7 anos</td>\n",
       "      <td>2689</td>\n",
       "      <td>3.5</td>\n",
       "    </tr>\n",
       "    <tr>\n",
       "      <th>8</th>\n",
       "      <td>6 anos</td>\n",
       "      <td>2445</td>\n",
       "      <td>3.2</td>\n",
       "    </tr>\n",
       "    <tr>\n",
       "      <th>9</th>\n",
       "      <td>10 anos</td>\n",
       "      <td>2118</td>\n",
       "      <td>2.8</td>\n",
       "    </tr>\n",
       "    <tr>\n",
       "      <th>10</th>\n",
       "      <td>2 anos</td>\n",
       "      <td>2101</td>\n",
       "      <td>2.7</td>\n",
       "    </tr>\n",
       "    <tr>\n",
       "      <th>11</th>\n",
       "      <td>9 anos</td>\n",
       "      <td>1840</td>\n",
       "      <td>2.4</td>\n",
       "    </tr>\n",
       "    <tr>\n",
       "      <th>12</th>\n",
       "      <td>12 anos</td>\n",
       "      <td>1836</td>\n",
       "      <td>2.4</td>\n",
       "    </tr>\n",
       "    <tr>\n",
       "      <th>13</th>\n",
       "      <td>1 ano</td>\n",
       "      <td>1388</td>\n",
       "      <td>1.8</td>\n",
       "    </tr>\n",
       "    <tr>\n",
       "      <th>14</th>\n",
       "      <td>14 anos</td>\n",
       "      <td>1388</td>\n",
       "      <td>1.8</td>\n",
       "    </tr>\n",
       "    <tr>\n",
       "      <th>15</th>\n",
       "      <td>13 anos</td>\n",
       "      <td>1253</td>\n",
       "      <td>1.6</td>\n",
       "    </tr>\n",
       "    <tr>\n",
       "      <th>16</th>\n",
       "      <td>Não determinados</td>\n",
       "      <td>191</td>\n",
       "      <td>0.2</td>\n",
       "    </tr>\n",
       "  </tbody>\n",
       "</table>\n",
       "</div>"
      ],
      "text/plain": [
       "                    Anos.de.Estudo  quantidade  porcentagem %\n",
       "0                          11 anos       20848           27.1\n",
       "1                  15 anos ou mais       10795           14.0\n",
       "2                           8 anos        7980           10.4\n",
       "3                           4 anos        6729            8.8\n",
       "4   Sem instrução e menos de 1 ano        5849            7.6\n",
       "5                           5 anos        4499            5.9\n",
       "6                           3 anos        2891            3.8\n",
       "7                           7 anos        2689            3.5\n",
       "8                           6 anos        2445            3.2\n",
       "9                          10 anos        2118            2.8\n",
       "10                          2 anos        2101            2.7\n",
       "11                          9 anos        1840            2.4\n",
       "12                         12 anos        1836            2.4\n",
       "13                           1 ano        1388            1.8\n",
       "14                         14 anos        1388            1.8\n",
       "15                         13 anos        1253            1.6\n",
       "16                Não determinados         191            0.2"
      ]
     },
     "execution_count": 185,
     "metadata": {},
     "output_type": "execute_result"
    }
   ],
   "source": [
    "distribuicao_freq_anos_estudos = dados['Anos.de.Estudo'].value_counts().reset_index(name='quantidade')\n",
    "distribuicao_freq_anos_estudos['porcentagem %'] = (dados['Anos.de.Estudo'].value_counts(normalize=True)*100).values.round(1)\n",
    "distribuicao_freq_anos_estudos"
   ]
  },
  {
   "cell_type": "code",
   "execution_count": 186,
   "metadata": {
    "id": "qow6gO1oXttD"
   },
   "outputs": [
    {
     "data": {
      "image/png": "[encoded data removed]",
      "text/plain": [
       "<Figure size 1200x600 with 1 Axes>"
      ]
     },
     "metadata": {},
     "output_type": "display_data"
    }
   ],
   "source": [
    "anos_estudos = dados['Anos.de.Estudo'].value_counts().sort_values()\n",
    "total = anos_estudos.sum()\n",
    "porcentagem = anos_estudos / total * 100\n",
    "\n",
    "plt.figure(figsize=(12, 6))\n",
    "ax = anos_estudos.plot.barh(edgecolor='black')\n",
    "\n",
    "for i, (v, pct) in enumerate(zip(anos_estudos, porcentagem)):\n",
    "    ax.text(v + (anos_estudos.max() * 0.03), i, f'{pct:.1f}%', va='center', fontsize=12)\n",
    "\n",
    "\n",
    "for spine in ax.spines.values():\n",
    "    spine.set_visible(False)\n",
    "\n",
    "plt.title(\"Tempo de estudo\")\n",
    "plt.ylabel('Tempo de Estudo')\n",
    "plt.xlabel(\"Quantidade\")\n",
    "plt.tight_layout()\n",
    "plt.show()\n",
    "#anos_estudos"
   ]
  },
  {
   "cell_type": "code",
   "execution_count": null,
   "metadata": {
    "id": "xLxEV5HYXttD"
   },
   "outputs": [],
   "source": []
  },
  {
   "cell_type": "code",
   "execution_count": null,
   "metadata": {
    "id": "i4C4N9F4XttH"
   },
   "outputs": [],
   "source": []
  },
  {
   "cell_type": "markdown",
   "metadata": {
    "id": "kZO79aSSgp7w"
   },
   "source": [
    "#### **Apresente em texto a menor e maior `Renda` da base de dados**"
   ]
  },
  {
   "cell_type": "markdown",
   "metadata": {
    "id": "L3vbQxRRiMF0"
   },
   "source": [
    "**Dica:** A renda é uma medida discreta. Utilizamos f-strings para formatar a string de forma mais legível e eficiente, substituindo diretamente as variáveis dentro da string"
   ]
  },
  {
   "cell_type": "code",
   "execution_count": 187,
   "metadata": {
    "id": "E93TUzf0XttI"
   },
   "outputs": [
    {
     "name": "stdout",
     "output_type": "stream",
     "text": [
      "A menor renda da pesquisa é: R$0.00\n",
      "A maior renda da pesquisa é: R$200,000.00\n"
     ]
    }
   ],
   "source": [
    "menor_renda = dados.Renda.min()\n",
    "maior_renda = dados.Renda.max()\n",
    "print(f'A menor renda da pesquisa é: R${menor_renda:,.2f}\\nA maior renda da pesquisa é: R${maior_renda:,.2f}')"
   ]
  },
  {
   "cell_type": "code",
   "execution_count": 188,
   "metadata": {},
   "outputs": [
    {
     "data": {
      "text/plain": [
       "'Número de pessoas com renda zero: 2867 pessoas'"
      ]
     },
     "execution_count": 188,
     "metadata": {},
     "output_type": "execute_result"
    }
   ],
   "source": [
    "# Quantidade de renda 0\n",
    "qtd_renda_zero = (dados.Renda == 0).sum()\n",
    "f'Número de pessoas com renda zero: {qtd_renda_zero} pessoas'"
   ]
  },
  {
   "cell_type": "code",
   "execution_count": 189,
   "metadata": {},
   "outputs": [],
   "source": [
    "faixa_renda = [0, 1400, 2500, 5000, 10000, 20000, float('inf')]\n",
    "faixa_labels = ['Até um salário', '1.4k-2.5k', '2.5k-5k', '5k-10k', '10k-20k', '20k+']\n",
    "\n",
    "dados_copy = dados.copy()\n",
    "dados_copy['faixa_renda'] = pd.cut(dados_copy['Renda'], bins=faixa_renda, labels=faixa_labels, include_lowest=True)"
   ]
  },
  {
   "cell_type": "markdown",
   "metadata": {},
   "source": [
    "#### Gráfico de faixas de renda"
   ]
  },
  {
   "cell_type": "code",
   "execution_count": 190,
   "metadata": {},
   "outputs": [
    {
     "data": {
      "image/png": "[encoded data removed]",
      "text/plain": [
       "<Figure size 800x500 with 1 Axes>"
      ]
     },
     "metadata": {},
     "output_type": "display_data"
    }
   ],
   "source": [
    "\n",
    "count_faixa_renda = dados_copy.faixa_renda.value_counts().sort_index().reset_index()\n",
    "count_faixa_renda.columns = ['Faixa', 'Quantidade']\n",
    "\n",
    "plt.figure(figsize=(8,5))\n",
    "sns.barplot(\n",
    "    data=count_faixa_renda,\n",
    "    x='Faixa', y='Quantidade', \n",
    "    hue='Quantidade',\n",
    "    palette='Blues_d', edgecolor='black'\n",
    ")\n",
    "\n",
    "total = count_faixa_renda['Quantidade'].sum()\n",
    "for i, row in count_faixa_renda.iterrows():\n",
    "    pct = row['Quantidade'] / total * 100\n",
    "    plt.text(i, row['Quantidade'] + 1, f'{pct:.1f}%', ha='center', fontsize=11)\n",
    "\n",
    "\n",
    "plt.title('Distribuição por Faixa de Renda')\n",
    "plt.xlabel('Faixa de Renda')\n",
    "plt.ylabel('Quantidade')\n",
    "sns.despine()\n",
    "plt.tight_layout()\n",
    "\n",
    "plt.show()"
   ]
  },
  {
   "cell_type": "markdown",
   "metadata": {
    "id": "ix1N_JAH_T1C"
   },
   "source": [
    "## **Aula 02 - Identificando o perfil do público**"
   ]
  },
  {
   "cell_type": "markdown",
   "metadata": {
    "id": "J_4eNIp7i6Rh"
   },
   "source": [
    "### **Mão na Massa - Analisando o perfil das pessoas responsáveis**"
   ]
  },
  {
   "cell_type": "markdown",
   "metadata": {
    "id": "0rBGP9HaAQJj"
   },
   "source": [
    "Vamos prosseguir no treinamento, agora identificando o perfil das pessoas responsáveis pelo domicílio de acordo com os dados da PNAD de 2015. Responda às perguntas abaixo e reflita sobre os achados."
   ]
  },
  {
   "cell_type": "markdown",
   "metadata": {
    "id": "IMiAX2onkchv"
   },
   "source": [
    "#### **Construa uma tabela de frequências das pessoas responsáveis pelo domicílio por `Cat.Sexo`. Adicione também uma coluna com esse valor em porcentagem.**"
   ]
  },
  {
   "cell_type": "code",
   "execution_count": 191,
   "metadata": {
    "id": "wFMEzZ_qXttI"
   },
   "outputs": [
    {
     "data": {
      "text/html": [
       "<div>\n",
       "<style scoped>\n",
       "    .dataframe tbody tr th:only-of-type {\n",
       "        vertical-align: middle;\n",
       "    }\n",
       "\n",
       "    .dataframe tbody tr th {\n",
       "        vertical-align: top;\n",
       "    }\n",
       "\n",
       "    .dataframe thead th {\n",
       "        text-align: right;\n",
       "    }\n",
       "</style>\n",
       "<table border=\"1\" class=\"dataframe\">\n",
       "  <thead>\n",
       "    <tr style=\"text-align: right;\">\n",
       "      <th></th>\n",
       "      <th>Sexo</th>\n",
       "      <th>quantidade</th>\n",
       "      <th>porcentagem %</th>\n",
       "    </tr>\n",
       "  </thead>\n",
       "  <tbody>\n",
       "    <tr>\n",
       "      <th>0</th>\n",
       "      <td>Masculino</td>\n",
       "      <td>53250</td>\n",
       "      <td>69.3</td>\n",
       "    </tr>\n",
       "    <tr>\n",
       "      <th>1</th>\n",
       "      <td>Feminino</td>\n",
       "      <td>23590</td>\n",
       "      <td>30.7</td>\n",
       "    </tr>\n",
       "  </tbody>\n",
       "</table>\n",
       "</div>"
      ],
      "text/plain": [
       "        Sexo  quantidade  porcentagem %\n",
       "0  Masculino       53250           69.3\n",
       "1   Feminino       23590           30.7"
      ]
     },
     "execution_count": 191,
     "metadata": {},
     "output_type": "execute_result"
    }
   ],
   "source": [
    "distribuicao_freq_sexo"
   ]
  },
  {
   "cell_type": "code",
   "execution_count": 192,
   "metadata": {
    "id": "kAj1hTmaXttJ"
   },
   "outputs": [
    {
     "data": {
      "image/png": "[encoded data removed]",
      "text/plain": [
       "<Figure size 800x400 with 1 Axes>"
      ]
     },
     "metadata": {},
     "output_type": "display_data"
    }
   ],
   "source": [
    "plt.figure(figsize=(8,4))\n",
    "invert_palette = ['#ff9999', '#66b3ff']\n",
    "sns.barplot(data=distribuicao_freq_sexo, x='Sexo', y='quantidade', hue='porcentagem %', palette=invert_palette, width=0.4, edgecolor='black')\n",
    "sns.despine()\n",
    "plt.title('Distribuição de Frequência por Sexo', fontsize=18)\n",
    "plt.show() "
   ]
  },
  {
   "cell_type": "markdown",
   "metadata": {
    "id": "oN452vflnRlO"
   },
   "source": [
    "#### **Construa uma tabela de frequências absolutas e outra de relativas cruzando as variáveis `Cat.Sexo` e `Cat.Cor` das pessoas responsáveis pelo domicílio.**"
   ]
  },
  {
   "cell_type": "code",
   "execution_count": 193,
   "metadata": {
    "id": "7i2AkjumXttL"
   },
   "outputs": [
    {
     "data": {
      "text/html": [
       "<div>\n",
       "<style scoped>\n",
       "    .dataframe tbody tr th:only-of-type {\n",
       "        vertical-align: middle;\n",
       "    }\n",
       "\n",
       "    .dataframe tbody tr th {\n",
       "        vertical-align: top;\n",
       "    }\n",
       "\n",
       "    .dataframe thead th {\n",
       "        text-align: right;\n",
       "    }\n",
       "</style>\n",
       "<table border=\"1\" class=\"dataframe\">\n",
       "  <thead>\n",
       "    <tr style=\"text-align: right;\">\n",
       "      <th>Sexo</th>\n",
       "      <th>Feminino</th>\n",
       "      <th>Masculino</th>\n",
       "    </tr>\n",
       "    <tr>\n",
       "      <th>Cor</th>\n",
       "      <th></th>\n",
       "      <th></th>\n",
       "    </tr>\n",
       "  </thead>\n",
       "  <tbody>\n",
       "    <tr>\n",
       "      <th>Amarela</th>\n",
       "      <td>117</td>\n",
       "      <td>235</td>\n",
       "    </tr>\n",
       "    <tr>\n",
       "      <th>Branca</th>\n",
       "      <td>9621</td>\n",
       "      <td>22194</td>\n",
       "    </tr>\n",
       "    <tr>\n",
       "      <th>Indígena</th>\n",
       "      <td>101</td>\n",
       "      <td>256</td>\n",
       "    </tr>\n",
       "    <tr>\n",
       "      <th>Parda</th>\n",
       "      <td>10862</td>\n",
       "      <td>25063</td>\n",
       "    </tr>\n",
       "    <tr>\n",
       "      <th>Preta</th>\n",
       "      <td>2889</td>\n",
       "      <td>5502</td>\n",
       "    </tr>\n",
       "  </tbody>\n",
       "</table>\n",
       "</div>"
      ],
      "text/plain": [
       "Sexo      Feminino  Masculino\n",
       "Cor                          \n",
       "Amarela        117        235\n",
       "Branca        9621      22194\n",
       "Indígena       101        256\n",
       "Parda        10862      25063\n",
       "Preta         2889       5502"
      ]
     },
     "execution_count": 193,
     "metadata": {},
     "output_type": "execute_result"
    }
   ],
   "source": [
    "pd.crosstab(dados.Cor, dados.Sexo)"
   ]
  },
  {
   "cell_type": "code",
   "execution_count": 194,
   "metadata": {
    "id": "GrtfAeCBXttL"
   },
   "outputs": [
    {
     "data": {
      "text/html": [
       "<div>\n",
       "<style scoped>\n",
       "    .dataframe tbody tr th:only-of-type {\n",
       "        vertical-align: middle;\n",
       "    }\n",
       "\n",
       "    .dataframe tbody tr th {\n",
       "        vertical-align: top;\n",
       "    }\n",
       "\n",
       "    .dataframe thead th {\n",
       "        text-align: right;\n",
       "    }\n",
       "</style>\n",
       "<table border=\"1\" class=\"dataframe\">\n",
       "  <thead>\n",
       "    <tr style=\"text-align: right;\">\n",
       "      <th>Cor</th>\n",
       "      <th>Amarela</th>\n",
       "      <th>Branca</th>\n",
       "      <th>Indígena</th>\n",
       "      <th>Parda</th>\n",
       "      <th>Preta</th>\n",
       "    </tr>\n",
       "    <tr>\n",
       "      <th>Sexo</th>\n",
       "      <th></th>\n",
       "      <th></th>\n",
       "      <th></th>\n",
       "      <th></th>\n",
       "      <th></th>\n",
       "    </tr>\n",
       "  </thead>\n",
       "  <tbody>\n",
       "    <tr>\n",
       "      <th>Feminino</th>\n",
       "      <td>117</td>\n",
       "      <td>9621</td>\n",
       "      <td>101</td>\n",
       "      <td>10862</td>\n",
       "      <td>2889</td>\n",
       "    </tr>\n",
       "    <tr>\n",
       "      <th>Masculino</th>\n",
       "      <td>235</td>\n",
       "      <td>22194</td>\n",
       "      <td>256</td>\n",
       "      <td>25063</td>\n",
       "      <td>5502</td>\n",
       "    </tr>\n",
       "  </tbody>\n",
       "</table>\n",
       "</div>"
      ],
      "text/plain": [
       "Cor        Amarela  Branca  Indígena  Parda  Preta\n",
       "Sexo                                              \n",
       "Feminino       117    9621       101  10862   2889\n",
       "Masculino      235   22194       256  25063   5502"
      ]
     },
     "execution_count": 194,
     "metadata": {},
     "output_type": "execute_result"
    }
   ],
   "source": [
    "# Frequência Absoluta\n",
    "abs_sex_col = pd.crosstab(dados.Sexo, dados.Cor)\n",
    "abs_sex_col"
   ]
  },
  {
   "cell_type": "code",
   "execution_count": 195,
   "metadata": {
    "id": "HHlU5IybXttL"
   },
   "outputs": [
    {
     "data": {
      "text/html": [
       "<div>\n",
       "<style scoped>\n",
       "    .dataframe tbody tr th:only-of-type {\n",
       "        vertical-align: middle;\n",
       "    }\n",
       "\n",
       "    .dataframe tbody tr th {\n",
       "        vertical-align: top;\n",
       "    }\n",
       "\n",
       "    .dataframe thead th {\n",
       "        text-align: right;\n",
       "    }\n",
       "</style>\n",
       "<table border=\"1\" class=\"dataframe\">\n",
       "  <thead>\n",
       "    <tr style=\"text-align: right;\">\n",
       "      <th>Cor</th>\n",
       "      <th>Sexo</th>\n",
       "      <th>Amarela</th>\n",
       "      <th>Branca</th>\n",
       "      <th>Indígena</th>\n",
       "      <th>Parda</th>\n",
       "      <th>Preta</th>\n",
       "    </tr>\n",
       "  </thead>\n",
       "  <tbody>\n",
       "    <tr>\n",
       "      <th>0</th>\n",
       "      <td>Feminino</td>\n",
       "      <td>0.15</td>\n",
       "      <td>12.52</td>\n",
       "      <td>0.13</td>\n",
       "      <td>14.14</td>\n",
       "      <td>3.76</td>\n",
       "    </tr>\n",
       "    <tr>\n",
       "      <th>1</th>\n",
       "      <td>Masculino</td>\n",
       "      <td>0.31</td>\n",
       "      <td>28.88</td>\n",
       "      <td>0.33</td>\n",
       "      <td>32.62</td>\n",
       "      <td>7.16</td>\n",
       "    </tr>\n",
       "  </tbody>\n",
       "</table>\n",
       "</div>"
      ],
      "text/plain": [
       "Cor       Sexo  Amarela  Branca  Indígena  Parda  Preta\n",
       "0     Feminino     0.15   12.52      0.13  14.14   3.76\n",
       "1    Masculino     0.31   28.88      0.33  32.62   7.16"
      ]
     },
     "execution_count": 195,
     "metadata": {},
     "output_type": "execute_result"
    }
   ],
   "source": [
    "# Frequência Relativa\n",
    "rel_sex_col = (pd.crosstab(dados.Sexo, dados.Cor, normalize='all')*100).round(2).reset_index()\n",
    "rel_sex_col"
   ]
  },
  {
   "cell_type": "code",
   "execution_count": 196,
   "metadata": {},
   "outputs": [
    {
     "data": {
      "image/png": "[encoded data removed]",
      "text/plain": [
       "<Figure size 1000x600 with 1 Axes>"
      ]
     },
     "metadata": {},
     "output_type": "display_data"
    }
   ],
   "source": [
    "rel_sex_col_melt = rel_sex_col.melt(id_vars='Sexo', var_name='Cor', value_name='Valor').sort_values(by='Valor')\n",
    "rel_sex_col_melt\n",
    "\n",
    "\n",
    "plt.figure(figsize=(10,6))\n",
    "ax = sns.barplot(data=rel_sex_col_melt, x='Cor', y='Valor', hue='Sexo', palette=invert_palette, edgecolor='black', width=0.6)\n",
    "\n",
    "for container in ax.containers:\n",
    "    ax.bar_label(container, fmt='%.2f', padding=3, fontsize=9)\n",
    "\n",
    "sns.despine()\n",
    "plt.title('Distribuição por Identidade Racial e Sexo', fontsize=18)\n",
    "plt.xlabel('Identidade Racial')\n",
    "plt.ylabel('Porcentagem (%)')\n",
    "plt.tight_layout()\n",
    "plt.grid()\n",
    "plt.show()\n"
   ]
  },
  {
   "cell_type": "markdown",
   "metadata": {
    "id": "gxFG42FfwpN1"
   },
   "source": [
    "> #### Conclusões\n",
    "\n",
    "Escreva suas conclusões aqui...\n",
    "\n",
    "No geral, em todas as etnias, o responsável pelo domicílio do sexo Masculíno é um pouco mais que o dobro do que o feminino em todas etnias pesquisadas "
   ]
  },
  {
   "cell_type": "markdown",
   "metadata": {
    "id": "Opcp5rprwrlX"
   },
   "source": [
    "#### **Construa uma tabela cruzada para calcular a `Renda` média das pessoas responsáveis pelo domicílio em relação ao `Cat.Sexo` e `Cat.Cor`.**"
   ]
  },
  {
   "cell_type": "code",
   "execution_count": 197,
   "metadata": {
    "id": "V1kWR01jXttM"
   },
   "outputs": [
    {
     "data": {
      "text/html": [
       "<div>\n",
       "<style scoped>\n",
       "    .dataframe tbody tr th:only-of-type {\n",
       "        vertical-align: middle;\n",
       "    }\n",
       "\n",
       "    .dataframe tbody tr th {\n",
       "        vertical-align: top;\n",
       "    }\n",
       "\n",
       "    .dataframe thead th {\n",
       "        text-align: right;\n",
       "    }\n",
       "</style>\n",
       "<table border=\"1\" class=\"dataframe\">\n",
       "  <thead>\n",
       "    <tr style=\"text-align: right;\">\n",
       "      <th></th>\n",
       "      <th>Sexo</th>\n",
       "      <th>renda_media</th>\n",
       "    </tr>\n",
       "  </thead>\n",
       "  <tbody>\n",
       "    <tr>\n",
       "      <th>0</th>\n",
       "      <td>Feminino</td>\n",
       "      <td>1566.85</td>\n",
       "    </tr>\n",
       "    <tr>\n",
       "      <th>1</th>\n",
       "      <td>Masculino</td>\n",
       "      <td>2192.44</td>\n",
       "    </tr>\n",
       "  </tbody>\n",
       "</table>\n",
       "</div>"
      ],
      "text/plain": [
       "        Sexo  renda_media\n",
       "0   Feminino      1566.85\n",
       "1  Masculino      2192.44"
      ]
     },
     "execution_count": 197,
     "metadata": {},
     "output_type": "execute_result"
    }
   ],
   "source": [
    "# Usando groupby\n",
    "dados.groupby('Sexo', observed=False)['Renda'].mean().reset_index(name='renda_media').round(2)"
   ]
  },
  {
   "cell_type": "code",
   "execution_count": 198,
   "metadata": {},
   "outputs": [
    {
     "data": {
      "text/html": [
       "<div>\n",
       "<style scoped>\n",
       "    .dataframe tbody tr th:only-of-type {\n",
       "        vertical-align: middle;\n",
       "    }\n",
       "\n",
       "    .dataframe tbody tr th {\n",
       "        vertical-align: top;\n",
       "    }\n",
       "\n",
       "    .dataframe thead th {\n",
       "        text-align: right;\n",
       "    }\n",
       "</style>\n",
       "<table border=\"1\" class=\"dataframe\">\n",
       "  <thead>\n",
       "    <tr style=\"text-align: right;\">\n",
       "      <th></th>\n",
       "      <th>Cor</th>\n",
       "      <th>renda_media</th>\n",
       "    </tr>\n",
       "  </thead>\n",
       "  <tbody>\n",
       "    <tr>\n",
       "      <th>0</th>\n",
       "      <td>Amarela</td>\n",
       "      <td>4182.92</td>\n",
       "    </tr>\n",
       "    <tr>\n",
       "      <th>1</th>\n",
       "      <td>Branca</td>\n",
       "      <td>2679.02</td>\n",
       "    </tr>\n",
       "    <tr>\n",
       "      <th>2</th>\n",
       "      <td>Indígena</td>\n",
       "      <td>1472.89</td>\n",
       "    </tr>\n",
       "    <tr>\n",
       "      <th>3</th>\n",
       "      <td>Parda</td>\n",
       "      <td>1513.60</td>\n",
       "    </tr>\n",
       "    <tr>\n",
       "      <th>4</th>\n",
       "      <td>Preta</td>\n",
       "      <td>1442.29</td>\n",
       "    </tr>\n",
       "  </tbody>\n",
       "</table>\n",
       "</div>"
      ],
      "text/plain": [
       "        Cor  renda_media\n",
       "0   Amarela      4182.92\n",
       "1    Branca      2679.02\n",
       "2  Indígena      1472.89\n",
       "3     Parda      1513.60\n",
       "4     Preta      1442.29"
      ]
     },
     "execution_count": 198,
     "metadata": {},
     "output_type": "execute_result"
    }
   ],
   "source": [
    "# Renda Média por etnia\n",
    "dados.groupby('Cor', observed=False)['Renda'].mean().reset_index(name='renda_media').round(2)"
   ]
  },
  {
   "cell_type": "code",
   "execution_count": 199,
   "metadata": {},
   "outputs": [
    {
     "data": {
      "text/html": [
       "<div>\n",
       "<style scoped>\n",
       "    .dataframe tbody tr th:only-of-type {\n",
       "        vertical-align: middle;\n",
       "    }\n",
       "\n",
       "    .dataframe tbody tr th {\n",
       "        vertical-align: top;\n",
       "    }\n",
       "\n",
       "    .dataframe thead th {\n",
       "        text-align: right;\n",
       "    }\n",
       "</style>\n",
       "<table border=\"1\" class=\"dataframe\">\n",
       "  <thead>\n",
       "    <tr style=\"text-align: right;\">\n",
       "      <th>Sexo</th>\n",
       "      <th>Feminino</th>\n",
       "      <th>Masculino</th>\n",
       "    </tr>\n",
       "    <tr>\n",
       "      <th>Cor</th>\n",
       "      <th></th>\n",
       "      <th></th>\n",
       "    </tr>\n",
       "  </thead>\n",
       "  <tbody>\n",
       "    <tr>\n",
       "      <th>Amarela</th>\n",
       "      <td>3027.34</td>\n",
       "      <td>4758.25</td>\n",
       "    </tr>\n",
       "    <tr>\n",
       "      <th>Branca</th>\n",
       "      <td>2109.87</td>\n",
       "      <td>2925.74</td>\n",
       "    </tr>\n",
       "    <tr>\n",
       "      <th>Indígena</th>\n",
       "      <td>2464.39</td>\n",
       "      <td>1081.71</td>\n",
       "    </tr>\n",
       "    <tr>\n",
       "      <th>Parda</th>\n",
       "      <td>1176.76</td>\n",
       "      <td>1659.58</td>\n",
       "    </tr>\n",
       "    <tr>\n",
       "      <th>Preta</th>\n",
       "      <td>1134.60</td>\n",
       "      <td>1603.86</td>\n",
       "    </tr>\n",
       "  </tbody>\n",
       "</table>\n",
       "</div>"
      ],
      "text/plain": [
       "Sexo      Feminino  Masculino\n",
       "Cor                          \n",
       "Amarela    3027.34    4758.25\n",
       "Branca     2109.87    2925.74\n",
       "Indígena   2464.39    1081.71\n",
       "Parda      1176.76    1659.58\n",
       "Preta      1134.60    1603.86"
      ]
     },
     "execution_count": 199,
     "metadata": {},
     "output_type": "execute_result"
    }
   ],
   "source": [
    "pd.crosstab(\n",
    "    index=dados.Cor,\n",
    "    columns=dados.Sexo,\n",
    "    values=dados.Renda,\n",
    "    aggfunc='mean'\n",
    ").round(2)"
   ]
  },
  {
   "cell_type": "code",
   "execution_count": 200,
   "metadata": {},
   "outputs": [
    {
     "data": {
      "text/html": [
       "<div>\n",
       "<style scoped>\n",
       "    .dataframe tbody tr th:only-of-type {\n",
       "        vertical-align: middle;\n",
       "    }\n",
       "\n",
       "    .dataframe tbody tr th {\n",
       "        vertical-align: top;\n",
       "    }\n",
       "\n",
       "    .dataframe thead th {\n",
       "        text-align: right;\n",
       "    }\n",
       "</style>\n",
       "<table border=\"1\" class=\"dataframe\">\n",
       "  <thead>\n",
       "    <tr style=\"text-align: right;\">\n",
       "      <th>Cor</th>\n",
       "      <th>Amarela</th>\n",
       "      <th>Branca</th>\n",
       "      <th>Indígena</th>\n",
       "      <th>Parda</th>\n",
       "      <th>Preta</th>\n",
       "    </tr>\n",
       "    <tr>\n",
       "      <th>Sexo</th>\n",
       "      <th></th>\n",
       "      <th></th>\n",
       "      <th></th>\n",
       "      <th></th>\n",
       "      <th></th>\n",
       "    </tr>\n",
       "  </thead>\n",
       "  <tbody>\n",
       "    <tr>\n",
       "      <th>Feminino</th>\n",
       "      <td>3027.34</td>\n",
       "      <td>2109.87</td>\n",
       "      <td>2464.39</td>\n",
       "      <td>1176.76</td>\n",
       "      <td>1134.60</td>\n",
       "    </tr>\n",
       "    <tr>\n",
       "      <th>Masculino</th>\n",
       "      <td>4758.25</td>\n",
       "      <td>2925.74</td>\n",
       "      <td>1081.71</td>\n",
       "      <td>1659.58</td>\n",
       "      <td>1603.86</td>\n",
       "    </tr>\n",
       "  </tbody>\n",
       "</table>\n",
       "</div>"
      ],
      "text/plain": [
       "Cor        Amarela   Branca  Indígena    Parda    Preta\n",
       "Sexo                                                   \n",
       "Feminino   3027.34  2109.87   2464.39  1176.76  1134.60\n",
       "Masculino  4758.25  2925.74   1081.71  1659.58  1603.86"
      ]
     },
     "execution_count": 200,
     "metadata": {},
     "output_type": "execute_result"
    }
   ],
   "source": [
    "tabela_cruzada_renda_media = pd.pivot_table(\n",
    "    dados,\n",
    "    values='Renda',        # Coluna cujos valores serão agregados\n",
    "    index='Sexo',          # Linhas da tabela cruzada (primeira categoria)\n",
    "    columns='Cor',         # Colunas da tabela cruzada (segunda categoria)\n",
    "    aggfunc='mean',        # Função de agregação: média\n",
    "    fill_value=0,          # Preenche valores NaN (combinações sem dados) com 0\n",
    "    observed=False          \n",
    ")\n",
    "tabela_cruzada_renda_media.round(2)"
   ]
  },
  {
   "cell_type": "code",
   "execution_count": 201,
   "metadata": {},
   "outputs": [
    {
     "data": {
      "text/html": [
       "<div>\n",
       "<style scoped>\n",
       "    .dataframe tbody tr th:only-of-type {\n",
       "        vertical-align: middle;\n",
       "    }\n",
       "\n",
       "    .dataframe tbody tr th {\n",
       "        vertical-align: top;\n",
       "    }\n",
       "\n",
       "    .dataframe thead th {\n",
       "        text-align: right;\n",
       "    }\n",
       "</style>\n",
       "<table border=\"1\" class=\"dataframe\">\n",
       "  <thead>\n",
       "    <tr style=\"text-align: right;\">\n",
       "      <th>Cor</th>\n",
       "      <th>Amarela</th>\n",
       "      <th>Branca</th>\n",
       "      <th>Indígena</th>\n",
       "      <th>Parda</th>\n",
       "      <th>Preta</th>\n",
       "    </tr>\n",
       "    <tr>\n",
       "      <th>Sexo</th>\n",
       "      <th></th>\n",
       "      <th></th>\n",
       "      <th></th>\n",
       "      <th></th>\n",
       "      <th></th>\n",
       "    </tr>\n",
       "  </thead>\n",
       "  <tbody>\n",
       "    <tr>\n",
       "      <th>Feminino</th>\n",
       "      <td>3027.34</td>\n",
       "      <td>2109.87</td>\n",
       "      <td>2464.39</td>\n",
       "      <td>1176.76</td>\n",
       "      <td>1134.60</td>\n",
       "    </tr>\n",
       "    <tr>\n",
       "      <th>Masculino</th>\n",
       "      <td>4758.25</td>\n",
       "      <td>2925.74</td>\n",
       "      <td>1081.71</td>\n",
       "      <td>1659.58</td>\n",
       "      <td>1603.86</td>\n",
       "    </tr>\n",
       "  </tbody>\n",
       "</table>\n",
       "</div>"
      ],
      "text/plain": [
       "Cor        Amarela   Branca  Indígena    Parda    Preta\n",
       "Sexo                                                   \n",
       "Feminino   3027.34  2109.87   2464.39  1176.76  1134.60\n",
       "Masculino  4758.25  2925.74   1081.71  1659.58  1603.86"
      ]
     },
     "execution_count": 201,
     "metadata": {},
     "output_type": "execute_result"
    }
   ],
   "source": [
    "tabela_cruzada_crosstab = pd.crosstab(\n",
    "    index=dados['Sexo'],         # Linhas da tabela (Sexos)\n",
    "    columns=dados['Cor'],        # Colunas da tabela (Cores)\n",
    "    values=dados['Renda'],       # Coluna para a qual a agregação será aplicada\n",
    "    aggfunc='mean'               # Função de agregação: média\n",
    ").round(2)\n",
    "tabela_cruzada_crosstab"
   ]
  },
  {
   "cell_type": "code",
   "execution_count": 202,
   "metadata": {},
   "outputs": [
    {
     "data": {
      "image/png": "[encoded data removed]",
      "text/plain": [
       "<Figure size 640x480 with 1 Axes>"
      ]
     },
     "metadata": {},
     "output_type": "display_data"
    }
   ],
   "source": [
    "\n",
    "tabela_cruzada_crosstab.plot(kind='bar', color = ['yellow', 'gray', 'red', 'brown', 'black'])  # ou use 'barh' para horizontal\n",
    "plt.title('Renda Média por Etnia e Sexo')\n",
    "plt.xlabel('Cor')\n",
    "plt.ylabel('Valor')\n",
    "plt.xticks(rotation=45)\n",
    "plt.tight_layout()\n",
    "plt.show()"
   ]
  },
  {
   "cell_type": "markdown",
   "metadata": {
    "id": "d5Iwt1EKwNfp"
   },
   "source": [
    "> #### Conclusões\n",
    "\n",
    "Fica claro que a renda média quando Masculina é bem maior que a Feminina para todas as etnias, exceto para Indígena. Nos demais casos chega a mais do dobro da diferença para as outras etnias"
   ]
  },
  {
   "cell_type": "markdown",
   "metadata": {
    "id": "1uTAdILB_T6m"
   },
   "source": [
    "## **Aula 03 - Analisando a tendência dos dados**"
   ]
  },
  {
   "cell_type": "markdown",
   "metadata": {
    "id": "vJ0a5l-Di79U"
   },
   "source": [
    "### **Mão na Massa - Analisando a renda das pessoas responsáveis**"
   ]
  },
  {
   "cell_type": "markdown",
   "metadata": {
    "id": "xAZjitTs-roh"
   },
   "source": [
    "Nesta etapa do treinamento, vamos analisar mais dados das pessoas responsáveis pelo domicílio de acordo com os dados da PNAD de 2015, focando na renda e na variável que criamos com as suas alturas. Responda às perguntas abaixo e reflita sobre os achados."
   ]
  },
  {
   "cell_type": "markdown",
   "metadata": {
    "id": "pTpoxoY7-roj"
   },
   "source": [
    "#### **Calcule as medidas de tendência central (média, mediana e moda) para a variável `Renda`**"
   ]
  },
  {
   "cell_type": "code",
   "execution_count": 203,
   "metadata": {
    "id": "bl8w7WoKXttN"
   },
   "outputs": [
    {
     "name": "stdout",
     "output_type": "stream",
     "text": [
      "A renda média é de: R$2.000,38\n"
     ]
    }
   ],
   "source": [
    "media_renda = dados.Renda.mean()\n",
    "\n",
    "print(f\"A renda média é de: R${media_renda:,.2f}\".replace(\",\", \"X\").replace(\".\", \",\").replace(\"X\", \".\"))"
   ]
  },
  {
   "cell_type": "code",
   "execution_count": 204,
   "metadata": {
    "id": "szcR7gjBXttN"
   },
   "outputs": [
    {
     "name": "stdout",
     "output_type": "stream",
     "text": [
      "A renda mediana é de: R$1.200,00\n"
     ]
    }
   ],
   "source": [
    "mediana_renda = dados.Renda.median()\n",
    "\n",
    "print(f\"A renda mediana é de: R${mediana_renda:,.2f}\".replace(\",\", \"X\").replace(\".\", \",\").replace(\"X\", \".\"))"
   ]
  },
  {
   "cell_type": "code",
   "execution_count": 205,
   "metadata": {
    "id": "v3T4O-ckXttN"
   },
   "outputs": [
    {
     "name": "stdout",
     "output_type": "stream",
     "text": [
      "A moda da renda  é de: R$788,00\n"
     ]
    }
   ],
   "source": [
    "moda_renda = dados.Renda.mode()[0]\n",
    "print(f\"A moda da renda  é de: R${moda_renda:,.2f}\".replace(\",\", \"X\").replace(\".\", \",\").replace(\"X\", \".\"))"
   ]
  },
  {
   "cell_type": "code",
   "execution_count": null,
   "metadata": {
    "id": "7dfubW93XttO"
   },
   "outputs": [],
   "source": []
  },
  {
   "cell_type": "markdown",
   "metadata": {
    "id": "ICXWPxBCB9F3"
   },
   "source": [
    "#### **Crie um gráfico de barras do Top 5 estados pela médias de `Renda`**"
   ]
  },
  {
   "cell_type": "markdown",
   "metadata": {
    "id": "Fn0HRjQTFcqc"
   },
   "source": [
    "**Dica:** Para conseguir apresentar apenas os Top 5 estados utilize a função `head()` passando como variável quantos valores deseja apresentar."
   ]
  },
  {
   "cell_type": "code",
   "execution_count": 206,
   "metadata": {
    "id": "fMCt_o-yXttO"
   },
   "outputs": [
    {
     "name": "stderr",
     "output_type": "stream",
     "text": [
      "/tmp/ipykernel_650/4287814372.py:3: FutureWarning: \n",
      "\n",
      "Passing `palette` without assigning `hue` is deprecated and will be removed in v0.14.0. Assign the `x` variable to `hue` and set `legend=False` for the same effect.\n",
      "\n",
      "  ax = sns.barplot(data=cinco_maiores_rendas_media, edgecolor='black',palette='Set2')\n"
     ]
    },
    {
     "data": {
      "image/png": "[encoded data removed]",
      "text/plain": [
       "<Figure size 640x480 with 1 Axes>"
      ]
     },
     "metadata": {},
     "output_type": "display_data"
    },
    {
     "data": {
      "text/plain": [
       "UF\n",
       "Distrito Federal    4241.954722\n",
       "São Paulo           2638.104986\n",
       "Rio de Janeiro      2496.403168\n",
       "Paraná              2493.870753\n",
       "Santa Catarina      2470.854945\n",
       "Name: Renda, dtype: float64"
      ]
     },
     "execution_count": 206,
     "metadata": {},
     "output_type": "execute_result"
    }
   ],
   "source": [
    "\n",
    "cinco_maiores_rendas_media = dados.groupby('UF')['Renda'].mean().sort_values(ascending=False).head()\n",
    "\n",
    "ax = sns.barplot(data=cinco_maiores_rendas_media, edgecolor='black',palette='Set2')\n",
    "\n",
    "for container in ax.containers:\n",
    "    ax.bar_label(container, fmt='R$%.2f', padding=3, fontsize=9)\n",
    "\n",
    "sns.despine()\n",
    "plt.title('Cinco Maiores Rendas Médias por Estado', fontsize=18)\n",
    "plt.xlabel('Estado')\n",
    "plt.ylabel('Renda Média R$')\n",
    "plt.tight_layout()\n",
    "\n",
    "plt.show()\n",
    "cinco_maiores_rendas_media"
   ]
  },
  {
   "cell_type": "code",
   "execution_count": null,
   "metadata": {
    "id": "m09IJri9XttO"
   },
   "outputs": [],
   "source": []
  },
  {
   "cell_type": "code",
   "execution_count": null,
   "metadata": {
    "id": "RGDhPHhUXttO"
   },
   "outputs": [],
   "source": []
  },
  {
   "cell_type": "markdown",
   "metadata": {
    "id": "-3RjEjJrKa0J"
   },
   "source": [
    "> #### Conclusões\n",
    "\n",
    "Dos cincos estados com maior renda média, o Distrito federal se destaca com uma renda média quase que o dobro do que os restantes dos estados, com os outros 4 com um valor bem semelhante."
   ]
  },
  {
   "cell_type": "markdown",
   "metadata": {
    "id": "7wYIJXkt-roo"
   },
   "source": [
    "#### **Construa 3 tabelas cruzadas calculando a média, mediana e valores máximos de `Renda` relacionando as pessoas responsáveis por estado da Região Sudeste (`UF`) e por `Cat.Sexo`**"
   ]
  },
  {
   "cell_type": "code",
   "execution_count": 207,
   "metadata": {
    "id": "1H0p2Cr_XttP"
   },
   "outputs": [
    {
     "data": {
      "text/html": [
       "<div>\n",
       "<style scoped>\n",
       "    .dataframe tbody tr th:only-of-type {\n",
       "        vertical-align: middle;\n",
       "    }\n",
       "\n",
       "    .dataframe tbody tr th {\n",
       "        vertical-align: top;\n",
       "    }\n",
       "\n",
       "    .dataframe thead th {\n",
       "        text-align: right;\n",
       "    }\n",
       "</style>\n",
       "<table border=\"1\" class=\"dataframe\">\n",
       "  <thead>\n",
       "    <tr style=\"text-align: right;\">\n",
       "      <th>Sexo</th>\n",
       "      <th>Feminino</th>\n",
       "      <th>Masculino</th>\n",
       "    </tr>\n",
       "    <tr>\n",
       "      <th>UF</th>\n",
       "      <th></th>\n",
       "      <th></th>\n",
       "    </tr>\n",
       "  </thead>\n",
       "  <tbody>\n",
       "    <tr>\n",
       "      <th>Acre</th>\n",
       "      <td>1128.62</td>\n",
       "      <td>1635.34</td>\n",
       "    </tr>\n",
       "    <tr>\n",
       "      <th>Alagoas</th>\n",
       "      <td>1105.47</td>\n",
       "      <td>1157.75</td>\n",
       "    </tr>\n",
       "    <tr>\n",
       "      <th>Amapá</th>\n",
       "      <td>1736.16</td>\n",
       "      <td>1930.40</td>\n",
       "    </tr>\n",
       "    <tr>\n",
       "      <th>Amazonas</th>\n",
       "      <td>1235.83</td>\n",
       "      <td>1539.99</td>\n",
       "    </tr>\n",
       "    <tr>\n",
       "      <th>Bahia</th>\n",
       "      <td>1175.02</td>\n",
       "      <td>1557.50</td>\n",
       "    </tr>\n",
       "    <tr>\n",
       "      <th>Ceará</th>\n",
       "      <td>1085.80</td>\n",
       "      <td>1341.62</td>\n",
       "    </tr>\n",
       "    <tr>\n",
       "      <th>Distrito Federal</th>\n",
       "      <td>3269.88</td>\n",
       "      <td>4863.37</td>\n",
       "    </tr>\n",
       "    <tr>\n",
       "      <th>Espírito Santo</th>\n",
       "      <td>1752.71</td>\n",
       "      <td>2129.32</td>\n",
       "    </tr>\n",
       "    <tr>\n",
       "      <th>Goiás</th>\n",
       "      <td>1339.38</td>\n",
       "      <td>2222.63</td>\n",
       "    </tr>\n",
       "    <tr>\n",
       "      <th>Maranhão</th>\n",
       "      <td>723.75</td>\n",
       "      <td>1165.17</td>\n",
       "    </tr>\n",
       "    <tr>\n",
       "      <th>Mato Grosso</th>\n",
       "      <td>1604.29</td>\n",
       "      <td>2335.35</td>\n",
       "    </tr>\n",
       "    <tr>\n",
       "      <th>Mato Grosso do Sul</th>\n",
       "      <td>1519.89</td>\n",
       "      <td>2603.48</td>\n",
       "    </tr>\n",
       "    <tr>\n",
       "      <th>Minas Gerais</th>\n",
       "      <td>1489.62</td>\n",
       "      <td>2283.16</td>\n",
       "    </tr>\n",
       "    <tr>\n",
       "      <th>Paraná</th>\n",
       "      <td>1796.26</td>\n",
       "      <td>2767.43</td>\n",
       "    </tr>\n",
       "    <tr>\n",
       "      <th>Paraíba</th>\n",
       "      <td>1119.70</td>\n",
       "      <td>1364.99</td>\n",
       "    </tr>\n",
       "    <tr>\n",
       "      <th>Pará</th>\n",
       "      <td>1131.88</td>\n",
       "      <td>1509.74</td>\n",
       "    </tr>\n",
       "    <tr>\n",
       "      <th>Pernambuco</th>\n",
       "      <td>1252.24</td>\n",
       "      <td>1664.93</td>\n",
       "    </tr>\n",
       "    <tr>\n",
       "      <th>Piauí</th>\n",
       "      <td>899.86</td>\n",
       "      <td>1146.71</td>\n",
       "    </tr>\n",
       "    <tr>\n",
       "      <th>Rio Grande do Norte</th>\n",
       "      <td>1080.68</td>\n",
       "      <td>1459.05</td>\n",
       "    </tr>\n",
       "    <tr>\n",
       "      <th>Rio Grande do Sul</th>\n",
       "      <td>1960.85</td>\n",
       "      <td>2488.39</td>\n",
       "    </tr>\n",
       "    <tr>\n",
       "      <th>Rio de Janeiro</th>\n",
       "      <td>1971.53</td>\n",
       "      <td>2777.55</td>\n",
       "    </tr>\n",
       "    <tr>\n",
       "      <th>Rondônia</th>\n",
       "      <td>1414.85</td>\n",
       "      <td>1921.21</td>\n",
       "    </tr>\n",
       "    <tr>\n",
       "      <th>Roraima</th>\n",
       "      <td>1608.11</td>\n",
       "      <td>1875.79</td>\n",
       "    </tr>\n",
       "    <tr>\n",
       "      <th>Santa Catarina</th>\n",
       "      <td>1792.11</td>\n",
       "      <td>2688.30</td>\n",
       "    </tr>\n",
       "    <tr>\n",
       "      <th>Sergipe</th>\n",
       "      <td>877.15</td>\n",
       "      <td>1205.57</td>\n",
       "    </tr>\n",
       "    <tr>\n",
       "      <th>São Paulo</th>\n",
       "      <td>1950.18</td>\n",
       "      <td>2947.74</td>\n",
       "    </tr>\n",
       "    <tr>\n",
       "      <th>Tocantins</th>\n",
       "      <td>1381.80</td>\n",
       "      <td>1912.51</td>\n",
       "    </tr>\n",
       "  </tbody>\n",
       "</table>\n",
       "</div>"
      ],
      "text/plain": [
       "Sexo                 Feminino  Masculino\n",
       "UF                                      \n",
       "Acre                  1128.62    1635.34\n",
       "Alagoas               1105.47    1157.75\n",
       "Amapá                 1736.16    1930.40\n",
       "Amazonas              1235.83    1539.99\n",
       "Bahia                 1175.02    1557.50\n",
       "Ceará                 1085.80    1341.62\n",
       "Distrito Federal      3269.88    4863.37\n",
       "Espírito Santo        1752.71    2129.32\n",
       "Goiás                 1339.38    2222.63\n",
       "Maranhão               723.75    1165.17\n",
       "Mato Grosso           1604.29    2335.35\n",
       "Mato Grosso do Sul    1519.89    2603.48\n",
       "Minas Gerais          1489.62    2283.16\n",
       "Paraná                1796.26    2767.43\n",
       "Paraíba               1119.70    1364.99\n",
       "Pará                  1131.88    1509.74\n",
       "Pernambuco            1252.24    1664.93\n",
       "Piauí                  899.86    1146.71\n",
       "Rio Grande do Norte   1080.68    1459.05\n",
       "Rio Grande do Sul     1960.85    2488.39\n",
       "Rio de Janeiro        1971.53    2777.55\n",
       "Rondônia              1414.85    1921.21\n",
       "Roraima               1608.11    1875.79\n",
       "Santa Catarina        1792.11    2688.30\n",
       "Sergipe                877.15    1205.57\n",
       "São Paulo             1950.18    2947.74\n",
       "Tocantins             1381.80    1912.51"
      ]
     },
     "execution_count": 207,
     "metadata": {},
     "output_type": "execute_result"
    }
   ],
   "source": [
    "\n",
    "\n",
    "pd.crosstab(\n",
    "    index=dados['UF'],\n",
    "    columns=dados.Sexo,\n",
    "    values=dados.Renda,\n",
    "    aggfunc='mean'\n",
    ").round(2)"
   ]
  },
  {
   "cell_type": "markdown",
   "metadata": {
    "id": "FtNN9kkiKfK4"
   },
   "source": [
    "##### **Média**"
   ]
  },
  {
   "cell_type": "code",
   "execution_count": 208,
   "metadata": {
    "id": "68tKsDfKXttP"
   },
   "outputs": [
    {
     "data": {
      "text/html": [
       "<div>\n",
       "<style scoped>\n",
       "    .dataframe tbody tr th:only-of-type {\n",
       "        vertical-align: middle;\n",
       "    }\n",
       "\n",
       "    .dataframe tbody tr th {\n",
       "        vertical-align: top;\n",
       "    }\n",
       "\n",
       "    .dataframe thead th {\n",
       "        text-align: right;\n",
       "    }\n",
       "</style>\n",
       "<table border=\"1\" class=\"dataframe\">\n",
       "  <thead>\n",
       "    <tr style=\"text-align: right;\">\n",
       "      <th>Sexo</th>\n",
       "      <th>UF</th>\n",
       "      <th>Feminino</th>\n",
       "      <th>Masculino</th>\n",
       "    </tr>\n",
       "  </thead>\n",
       "  <tbody>\n",
       "    <tr>\n",
       "      <th>0</th>\n",
       "      <td>Acre</td>\n",
       "      <td>1128.62</td>\n",
       "      <td>1635.34</td>\n",
       "    </tr>\n",
       "    <tr>\n",
       "      <th>1</th>\n",
       "      <td>Alagoas</td>\n",
       "      <td>1105.47</td>\n",
       "      <td>1157.75</td>\n",
       "    </tr>\n",
       "    <tr>\n",
       "      <th>2</th>\n",
       "      <td>Amapá</td>\n",
       "      <td>1736.16</td>\n",
       "      <td>1930.40</td>\n",
       "    </tr>\n",
       "    <tr>\n",
       "      <th>3</th>\n",
       "      <td>Amazonas</td>\n",
       "      <td>1235.83</td>\n",
       "      <td>1539.99</td>\n",
       "    </tr>\n",
       "    <tr>\n",
       "      <th>4</th>\n",
       "      <td>Bahia</td>\n",
       "      <td>1175.02</td>\n",
       "      <td>1557.50</td>\n",
       "    </tr>\n",
       "    <tr>\n",
       "      <th>5</th>\n",
       "      <td>Ceará</td>\n",
       "      <td>1085.80</td>\n",
       "      <td>1341.62</td>\n",
       "    </tr>\n",
       "    <tr>\n",
       "      <th>6</th>\n",
       "      <td>Distrito Federal</td>\n",
       "      <td>3269.88</td>\n",
       "      <td>4863.37</td>\n",
       "    </tr>\n",
       "    <tr>\n",
       "      <th>7</th>\n",
       "      <td>Espírito Santo</td>\n",
       "      <td>1752.71</td>\n",
       "      <td>2129.32</td>\n",
       "    </tr>\n",
       "    <tr>\n",
       "      <th>8</th>\n",
       "      <td>Goiás</td>\n",
       "      <td>1339.38</td>\n",
       "      <td>2222.63</td>\n",
       "    </tr>\n",
       "    <tr>\n",
       "      <th>9</th>\n",
       "      <td>Maranhão</td>\n",
       "      <td>723.75</td>\n",
       "      <td>1165.17</td>\n",
       "    </tr>\n",
       "    <tr>\n",
       "      <th>10</th>\n",
       "      <td>Mato Grosso</td>\n",
       "      <td>1604.29</td>\n",
       "      <td>2335.35</td>\n",
       "    </tr>\n",
       "    <tr>\n",
       "      <th>11</th>\n",
       "      <td>Mato Grosso do Sul</td>\n",
       "      <td>1519.89</td>\n",
       "      <td>2603.48</td>\n",
       "    </tr>\n",
       "    <tr>\n",
       "      <th>12</th>\n",
       "      <td>Minas Gerais</td>\n",
       "      <td>1489.62</td>\n",
       "      <td>2283.16</td>\n",
       "    </tr>\n",
       "    <tr>\n",
       "      <th>13</th>\n",
       "      <td>Paraná</td>\n",
       "      <td>1796.26</td>\n",
       "      <td>2767.43</td>\n",
       "    </tr>\n",
       "    <tr>\n",
       "      <th>14</th>\n",
       "      <td>Paraíba</td>\n",
       "      <td>1119.70</td>\n",
       "      <td>1364.99</td>\n",
       "    </tr>\n",
       "    <tr>\n",
       "      <th>15</th>\n",
       "      <td>Pará</td>\n",
       "      <td>1131.88</td>\n",
       "      <td>1509.74</td>\n",
       "    </tr>\n",
       "    <tr>\n",
       "      <th>16</th>\n",
       "      <td>Pernambuco</td>\n",
       "      <td>1252.24</td>\n",
       "      <td>1664.93</td>\n",
       "    </tr>\n",
       "    <tr>\n",
       "      <th>17</th>\n",
       "      <td>Piauí</td>\n",
       "      <td>899.86</td>\n",
       "      <td>1146.71</td>\n",
       "    </tr>\n",
       "    <tr>\n",
       "      <th>18</th>\n",
       "      <td>Rio Grande do Norte</td>\n",
       "      <td>1080.68</td>\n",
       "      <td>1459.05</td>\n",
       "    </tr>\n",
       "    <tr>\n",
       "      <th>19</th>\n",
       "      <td>Rio Grande do Sul</td>\n",
       "      <td>1960.85</td>\n",
       "      <td>2488.39</td>\n",
       "    </tr>\n",
       "    <tr>\n",
       "      <th>20</th>\n",
       "      <td>Rio de Janeiro</td>\n",
       "      <td>1971.53</td>\n",
       "      <td>2777.55</td>\n",
       "    </tr>\n",
       "    <tr>\n",
       "      <th>21</th>\n",
       "      <td>Rondônia</td>\n",
       "      <td>1414.85</td>\n",
       "      <td>1921.21</td>\n",
       "    </tr>\n",
       "    <tr>\n",
       "      <th>22</th>\n",
       "      <td>Roraima</td>\n",
       "      <td>1608.11</td>\n",
       "      <td>1875.79</td>\n",
       "    </tr>\n",
       "    <tr>\n",
       "      <th>23</th>\n",
       "      <td>Santa Catarina</td>\n",
       "      <td>1792.11</td>\n",
       "      <td>2688.30</td>\n",
       "    </tr>\n",
       "    <tr>\n",
       "      <th>24</th>\n",
       "      <td>Sergipe</td>\n",
       "      <td>877.15</td>\n",
       "      <td>1205.57</td>\n",
       "    </tr>\n",
       "    <tr>\n",
       "      <th>25</th>\n",
       "      <td>São Paulo</td>\n",
       "      <td>1950.18</td>\n",
       "      <td>2947.74</td>\n",
       "    </tr>\n",
       "    <tr>\n",
       "      <th>26</th>\n",
       "      <td>Tocantins</td>\n",
       "      <td>1381.80</td>\n",
       "      <td>1912.51</td>\n",
       "    </tr>\n",
       "  </tbody>\n",
       "</table>\n",
       "</div>"
      ],
      "text/plain": [
       "Sexo                   UF  Feminino  Masculino\n",
       "0                    Acre   1128.62    1635.34\n",
       "1                 Alagoas   1105.47    1157.75\n",
       "2                   Amapá   1736.16    1930.40\n",
       "3                Amazonas   1235.83    1539.99\n",
       "4                   Bahia   1175.02    1557.50\n",
       "5                   Ceará   1085.80    1341.62\n",
       "6        Distrito Federal   3269.88    4863.37\n",
       "7          Espírito Santo   1752.71    2129.32\n",
       "8                   Goiás   1339.38    2222.63\n",
       "9                Maranhão    723.75    1165.17\n",
       "10            Mato Grosso   1604.29    2335.35\n",
       "11     Mato Grosso do Sul   1519.89    2603.48\n",
       "12           Minas Gerais   1489.62    2283.16\n",
       "13                 Paraná   1796.26    2767.43\n",
       "14                Paraíba   1119.70    1364.99\n",
       "15                   Pará   1131.88    1509.74\n",
       "16             Pernambuco   1252.24    1664.93\n",
       "17                  Piauí    899.86    1146.71\n",
       "18    Rio Grande do Norte   1080.68    1459.05\n",
       "19      Rio Grande do Sul   1960.85    2488.39\n",
       "20         Rio de Janeiro   1971.53    2777.55\n",
       "21               Rondônia   1414.85    1921.21\n",
       "22                Roraima   1608.11    1875.79\n",
       "23         Santa Catarina   1792.11    2688.30\n",
       "24                Sergipe    877.15    1205.57\n",
       "25              São Paulo   1950.18    2947.74\n",
       "26              Tocantins   1381.80    1912.51"
      ]
     },
     "execution_count": 208,
     "metadata": {},
     "output_type": "execute_result"
    }
   ],
   "source": [
    "media_renda_sexo = pd.crosstab(\n",
    "    index=dados['UF'],\n",
    "    columns=dados.Sexo,\n",
    "    values=dados.Renda,\n",
    "    aggfunc='mean'\n",
    ").round(2).reset_index()\n",
    "media_renda_sexo\n"
   ]
  },
  {
   "cell_type": "markdown",
   "metadata": {
    "id": "I_HNBCdWKjyX"
   },
   "source": [
    "##### **Mediana**"
   ]
  },
  {
   "cell_type": "code",
   "execution_count": 209,
   "metadata": {
    "id": "4Nn7xbxXXttQ"
   },
   "outputs": [],
   "source": [
    "mediana_renda_sexo = pd.crosstab(\n",
    "    index=dados['UF'],\n",
    "    columns=dados.Sexo,\n",
    "    values=dados.Renda,\n",
    "    aggfunc='median'\n",
    ").round(2).reset_index()"
   ]
  },
  {
   "cell_type": "markdown",
   "metadata": {
    "id": "m4bFpespKk2Y"
   },
   "source": [
    "##### **Renda Máxima**"
   ]
  },
  {
   "cell_type": "code",
   "execution_count": 210,
   "metadata": {
    "id": "vC9JWpSbXttR"
   },
   "outputs": [],
   "source": [
    "max_renda_sexo = pd.crosstab(\n",
    "    index=dados['UF'],\n",
    "    columns=dados.Sexo,\n",
    "    values=dados.Renda,\n",
    "    aggfunc='max'\n",
    ").round(2).reset_index()"
   ]
  },
  {
   "cell_type": "code",
   "execution_count": 211,
   "metadata": {},
   "outputs": [
    {
     "data": {
      "text/html": [
       "<div>\n",
       "<style scoped>\n",
       "    .dataframe tbody tr th:only-of-type {\n",
       "        vertical-align: middle;\n",
       "    }\n",
       "\n",
       "    .dataframe tbody tr th {\n",
       "        vertical-align: top;\n",
       "    }\n",
       "\n",
       "    .dataframe thead th {\n",
       "        text-align: right;\n",
       "    }\n",
       "</style>\n",
       "<table border=\"1\" class=\"dataframe\">\n",
       "  <thead>\n",
       "    <tr style=\"text-align: right;\">\n",
       "      <th>Sexo</th>\n",
       "      <th>UF</th>\n",
       "      <th>Feminino</th>\n",
       "      <th>Masculino</th>\n",
       "      <th>UF</th>\n",
       "      <th>Feminino</th>\n",
       "      <th>Masculino</th>\n",
       "    </tr>\n",
       "  </thead>\n",
       "  <tbody>\n",
       "    <tr>\n",
       "      <th>0</th>\n",
       "      <td>Acre</td>\n",
       "      <td>1128.62</td>\n",
       "      <td>1635.34</td>\n",
       "      <td>Acre</td>\n",
       "      <td>788.0</td>\n",
       "      <td>1000.0</td>\n",
       "    </tr>\n",
       "    <tr>\n",
       "      <th>1</th>\n",
       "      <td>Alagoas</td>\n",
       "      <td>1105.47</td>\n",
       "      <td>1157.75</td>\n",
       "      <td>Alagoas</td>\n",
       "      <td>788.0</td>\n",
       "      <td>788.0</td>\n",
       "    </tr>\n",
       "    <tr>\n",
       "      <th>2</th>\n",
       "      <td>Amapá</td>\n",
       "      <td>1736.16</td>\n",
       "      <td>1930.40</td>\n",
       "      <td>Amapá</td>\n",
       "      <td>920.0</td>\n",
       "      <td>1337.5</td>\n",
       "    </tr>\n",
       "    <tr>\n",
       "      <th>3</th>\n",
       "      <td>Amazonas</td>\n",
       "      <td>1235.83</td>\n",
       "      <td>1539.99</td>\n",
       "      <td>Amazonas</td>\n",
       "      <td>800.0</td>\n",
       "      <td>1000.0</td>\n",
       "    </tr>\n",
       "    <tr>\n",
       "      <th>4</th>\n",
       "      <td>Bahia</td>\n",
       "      <td>1175.02</td>\n",
       "      <td>1557.50</td>\n",
       "      <td>Bahia</td>\n",
       "      <td>788.0</td>\n",
       "      <td>900.0</td>\n",
       "    </tr>\n",
       "    <tr>\n",
       "      <th>5</th>\n",
       "      <td>Ceará</td>\n",
       "      <td>1085.80</td>\n",
       "      <td>1341.62</td>\n",
       "      <td>Ceará</td>\n",
       "      <td>788.0</td>\n",
       "      <td>800.0</td>\n",
       "    </tr>\n",
       "    <tr>\n",
       "      <th>6</th>\n",
       "      <td>Distrito Federal</td>\n",
       "      <td>3269.88</td>\n",
       "      <td>4863.37</td>\n",
       "      <td>Distrito Federal</td>\n",
       "      <td>1500.0</td>\n",
       "      <td>2500.0</td>\n",
       "    </tr>\n",
       "    <tr>\n",
       "      <th>7</th>\n",
       "      <td>Espírito Santo</td>\n",
       "      <td>1752.71</td>\n",
       "      <td>2129.32</td>\n",
       "      <td>Espírito Santo</td>\n",
       "      <td>927.0</td>\n",
       "      <td>1500.0</td>\n",
       "    </tr>\n",
       "    <tr>\n",
       "      <th>8</th>\n",
       "      <td>Goiás</td>\n",
       "      <td>1339.38</td>\n",
       "      <td>2222.63</td>\n",
       "      <td>Goiás</td>\n",
       "      <td>900.0</td>\n",
       "      <td>1500.0</td>\n",
       "    </tr>\n",
       "    <tr>\n",
       "      <th>9</th>\n",
       "      <td>Maranhão</td>\n",
       "      <td>723.75</td>\n",
       "      <td>1165.17</td>\n",
       "      <td>Maranhão</td>\n",
       "      <td>480.0</td>\n",
       "      <td>788.0</td>\n",
       "    </tr>\n",
       "    <tr>\n",
       "      <th>10</th>\n",
       "      <td>Mato Grosso</td>\n",
       "      <td>1604.29</td>\n",
       "      <td>2335.35</td>\n",
       "      <td>Mato Grosso</td>\n",
       "      <td>1000.0</td>\n",
       "      <td>1576.0</td>\n",
       "    </tr>\n",
       "    <tr>\n",
       "      <th>11</th>\n",
       "      <td>Mato Grosso do Sul</td>\n",
       "      <td>1519.89</td>\n",
       "      <td>2603.48</td>\n",
       "      <td>Mato Grosso do Sul</td>\n",
       "      <td>988.0</td>\n",
       "      <td>1600.0</td>\n",
       "    </tr>\n",
       "    <tr>\n",
       "      <th>12</th>\n",
       "      <td>Minas Gerais</td>\n",
       "      <td>1489.62</td>\n",
       "      <td>2283.16</td>\n",
       "      <td>Minas Gerais</td>\n",
       "      <td>900.0</td>\n",
       "      <td>1400.0</td>\n",
       "    </tr>\n",
       "    <tr>\n",
       "      <th>13</th>\n",
       "      <td>Paraná</td>\n",
       "      <td>1796.26</td>\n",
       "      <td>2767.43</td>\n",
       "      <td>Paraná</td>\n",
       "      <td>1200.0</td>\n",
       "      <td>1800.0</td>\n",
       "    </tr>\n",
       "    <tr>\n",
       "      <th>14</th>\n",
       "      <td>Paraíba</td>\n",
       "      <td>1119.70</td>\n",
       "      <td>1364.99</td>\n",
       "      <td>Paraíba</td>\n",
       "      <td>788.0</td>\n",
       "      <td>800.0</td>\n",
       "    </tr>\n",
       "    <tr>\n",
       "      <th>15</th>\n",
       "      <td>Pará</td>\n",
       "      <td>1131.88</td>\n",
       "      <td>1509.74</td>\n",
       "      <td>Pará</td>\n",
       "      <td>788.0</td>\n",
       "      <td>980.0</td>\n",
       "    </tr>\n",
       "    <tr>\n",
       "      <th>16</th>\n",
       "      <td>Pernambuco</td>\n",
       "      <td>1252.24</td>\n",
       "      <td>1664.93</td>\n",
       "      <td>Pernambuco</td>\n",
       "      <td>788.0</td>\n",
       "      <td>1000.0</td>\n",
       "    </tr>\n",
       "    <tr>\n",
       "      <th>17</th>\n",
       "      <td>Piauí</td>\n",
       "      <td>899.86</td>\n",
       "      <td>1146.71</td>\n",
       "      <td>Piauí</td>\n",
       "      <td>600.0</td>\n",
       "      <td>788.0</td>\n",
       "    </tr>\n",
       "    <tr>\n",
       "      <th>18</th>\n",
       "      <td>Rio Grande do Norte</td>\n",
       "      <td>1080.68</td>\n",
       "      <td>1459.05</td>\n",
       "      <td>Rio Grande do Norte</td>\n",
       "      <td>788.0</td>\n",
       "      <td>820.0</td>\n",
       "    </tr>\n",
       "    <tr>\n",
       "      <th>19</th>\n",
       "      <td>Rio Grande do Sul</td>\n",
       "      <td>1960.85</td>\n",
       "      <td>2488.39</td>\n",
       "      <td>Rio Grande do Sul</td>\n",
       "      <td>1200.0</td>\n",
       "      <td>1600.0</td>\n",
       "    </tr>\n",
       "    <tr>\n",
       "      <th>20</th>\n",
       "      <td>Rio de Janeiro</td>\n",
       "      <td>1971.53</td>\n",
       "      <td>2777.55</td>\n",
       "      <td>Rio de Janeiro</td>\n",
       "      <td>1040.5</td>\n",
       "      <td>1510.0</td>\n",
       "    </tr>\n",
       "    <tr>\n",
       "      <th>21</th>\n",
       "      <td>Rondônia</td>\n",
       "      <td>1414.85</td>\n",
       "      <td>1921.21</td>\n",
       "      <td>Rondônia</td>\n",
       "      <td>1000.0</td>\n",
       "      <td>1300.0</td>\n",
       "    </tr>\n",
       "    <tr>\n",
       "      <th>22</th>\n",
       "      <td>Roraima</td>\n",
       "      <td>1608.11</td>\n",
       "      <td>1875.79</td>\n",
       "      <td>Roraima</td>\n",
       "      <td>875.0</td>\n",
       "      <td>1125.0</td>\n",
       "    </tr>\n",
       "    <tr>\n",
       "      <th>23</th>\n",
       "      <td>Santa Catarina</td>\n",
       "      <td>1792.11</td>\n",
       "      <td>2688.30</td>\n",
       "      <td>Santa Catarina</td>\n",
       "      <td>1283.5</td>\n",
       "      <td>2000.0</td>\n",
       "    </tr>\n",
       "    <tr>\n",
       "      <th>24</th>\n",
       "      <td>Sergipe</td>\n",
       "      <td>877.15</td>\n",
       "      <td>1205.57</td>\n",
       "      <td>Sergipe</td>\n",
       "      <td>665.0</td>\n",
       "      <td>800.0</td>\n",
       "    </tr>\n",
       "    <tr>\n",
       "      <th>25</th>\n",
       "      <td>São Paulo</td>\n",
       "      <td>1950.18</td>\n",
       "      <td>2947.74</td>\n",
       "      <td>São Paulo</td>\n",
       "      <td>1200.0</td>\n",
       "      <td>1820.0</td>\n",
       "    </tr>\n",
       "    <tr>\n",
       "      <th>26</th>\n",
       "      <td>Tocantins</td>\n",
       "      <td>1381.80</td>\n",
       "      <td>1912.51</td>\n",
       "      <td>Tocantins</td>\n",
       "      <td>788.0</td>\n",
       "      <td>1100.0</td>\n",
       "    </tr>\n",
       "  </tbody>\n",
       "</table>\n",
       "</div>"
      ],
      "text/plain": [
       "Sexo                   UF  Feminino  Masculino                   UF  Feminino  \\\n",
       "0                    Acre   1128.62    1635.34                 Acre     788.0   \n",
       "1                 Alagoas   1105.47    1157.75              Alagoas     788.0   \n",
       "2                   Amapá   1736.16    1930.40                Amapá     920.0   \n",
       "3                Amazonas   1235.83    1539.99             Amazonas     800.0   \n",
       "4                   Bahia   1175.02    1557.50                Bahia     788.0   \n",
       "5                   Ceará   1085.80    1341.62                Ceará     788.0   \n",
       "6        Distrito Federal   3269.88    4863.37     Distrito Federal    1500.0   \n",
       "7          Espírito Santo   1752.71    2129.32       Espírito Santo     927.0   \n",
       "8                   Goiás   1339.38    2222.63                Goiás     900.0   \n",
       "9                Maranhão    723.75    1165.17             Maranhão     480.0   \n",
       "10            Mato Grosso   1604.29    2335.35          Mato Grosso    1000.0   \n",
       "11     Mato Grosso do Sul   1519.89    2603.48   Mato Grosso do Sul     988.0   \n",
       "12           Minas Gerais   1489.62    2283.16         Minas Gerais     900.0   \n",
       "13                 Paraná   1796.26    2767.43               Paraná    1200.0   \n",
       "14                Paraíba   1119.70    1364.99              Paraíba     788.0   \n",
       "15                   Pará   1131.88    1509.74                 Pará     788.0   \n",
       "16             Pernambuco   1252.24    1664.93           Pernambuco     788.0   \n",
       "17                  Piauí    899.86    1146.71                Piauí     600.0   \n",
       "18    Rio Grande do Norte   1080.68    1459.05  Rio Grande do Norte     788.0   \n",
       "19      Rio Grande do Sul   1960.85    2488.39    Rio Grande do Sul    1200.0   \n",
       "20         Rio de Janeiro   1971.53    2777.55       Rio de Janeiro    1040.5   \n",
       "21               Rondônia   1414.85    1921.21             Rondônia    1000.0   \n",
       "22                Roraima   1608.11    1875.79              Roraima     875.0   \n",
       "23         Santa Catarina   1792.11    2688.30       Santa Catarina    1283.5   \n",
       "24                Sergipe    877.15    1205.57              Sergipe     665.0   \n",
       "25              São Paulo   1950.18    2947.74            São Paulo    1200.0   \n",
       "26              Tocantins   1381.80    1912.51            Tocantins     788.0   \n",
       "\n",
       "Sexo  Masculino  \n",
       "0        1000.0  \n",
       "1         788.0  \n",
       "2        1337.5  \n",
       "3        1000.0  \n",
       "4         900.0  \n",
       "5         800.0  \n",
       "6        2500.0  \n",
       "7        1500.0  \n",
       "8        1500.0  \n",
       "9         788.0  \n",
       "10       1576.0  \n",
       "11       1600.0  \n",
       "12       1400.0  \n",
       "13       1800.0  \n",
       "14        800.0  \n",
       "15        980.0  \n",
       "16       1000.0  \n",
       "17        788.0  \n",
       "18        820.0  \n",
       "19       1600.0  \n",
       "20       1510.0  \n",
       "21       1300.0  \n",
       "22       1125.0  \n",
       "23       2000.0  \n",
       "24        800.0  \n",
       "25       1820.0  \n",
       "26       1100.0  "
      ]
     },
     "execution_count": 211,
     "metadata": {},
     "output_type": "execute_result"
    }
   ],
   "source": [
    "pd.concat([media_renda_sexo, mediana_renda_sexo], axis=1)\n"
   ]
  },
  {
   "cell_type": "code",
   "execution_count": 212,
   "metadata": {},
   "outputs": [
    {
     "data": {
      "text/html": [
       "<div>\n",
       "<style scoped>\n",
       "    .dataframe tbody tr th:only-of-type {\n",
       "        vertical-align: middle;\n",
       "    }\n",
       "\n",
       "    .dataframe tbody tr th {\n",
       "        vertical-align: top;\n",
       "    }\n",
       "\n",
       "    .dataframe thead th {\n",
       "        text-align: right;\n",
       "    }\n",
       "</style>\n",
       "<table border=\"1\" class=\"dataframe\">\n",
       "  <thead>\n",
       "    <tr style=\"text-align: right;\">\n",
       "      <th></th>\n",
       "      <th>Feminino_media</th>\n",
       "      <th>Masculino_media</th>\n",
       "      <th>Feminino_mediana</th>\n",
       "      <th>Masculino_mediana</th>\n",
       "      <th>Feminino</th>\n",
       "      <th>Masculino</th>\n",
       "    </tr>\n",
       "    <tr>\n",
       "      <th>UF</th>\n",
       "      <th></th>\n",
       "      <th></th>\n",
       "      <th></th>\n",
       "      <th></th>\n",
       "      <th></th>\n",
       "      <th></th>\n",
       "    </tr>\n",
       "  </thead>\n",
       "  <tbody>\n",
       "    <tr>\n",
       "      <th>Acre</th>\n",
       "      <td>1128.62</td>\n",
       "      <td>1635.34</td>\n",
       "      <td>788.0</td>\n",
       "      <td>1000.0</td>\n",
       "      <td>15000</td>\n",
       "      <td>30000</td>\n",
       "    </tr>\n",
       "    <tr>\n",
       "      <th>Alagoas</th>\n",
       "      <td>1105.47</td>\n",
       "      <td>1157.75</td>\n",
       "      <td>788.0</td>\n",
       "      <td>788.0</td>\n",
       "      <td>11000</td>\n",
       "      <td>10000</td>\n",
       "    </tr>\n",
       "    <tr>\n",
       "      <th>Amapá</th>\n",
       "      <td>1736.16</td>\n",
       "      <td>1930.40</td>\n",
       "      <td>920.0</td>\n",
       "      <td>1337.5</td>\n",
       "      <td>15580</td>\n",
       "      <td>15000</td>\n",
       "    </tr>\n",
       "    <tr>\n",
       "      <th>Amazonas</th>\n",
       "      <td>1235.83</td>\n",
       "      <td>1539.99</td>\n",
       "      <td>800.0</td>\n",
       "      <td>1000.0</td>\n",
       "      <td>15000</td>\n",
       "      <td>22000</td>\n",
       "    </tr>\n",
       "    <tr>\n",
       "      <th>Bahia</th>\n",
       "      <td>1175.02</td>\n",
       "      <td>1557.50</td>\n",
       "      <td>788.0</td>\n",
       "      <td>900.0</td>\n",
       "      <td>30000</td>\n",
       "      <td>200000</td>\n",
       "    </tr>\n",
       "    <tr>\n",
       "      <th>Ceará</th>\n",
       "      <td>1085.80</td>\n",
       "      <td>1341.62</td>\n",
       "      <td>788.0</td>\n",
       "      <td>800.0</td>\n",
       "      <td>24000</td>\n",
       "      <td>25000</td>\n",
       "    </tr>\n",
       "    <tr>\n",
       "      <th>Distrito Federal</th>\n",
       "      <td>3269.88</td>\n",
       "      <td>4863.37</td>\n",
       "      <td>1500.0</td>\n",
       "      <td>2500.0</td>\n",
       "      <td>30000</td>\n",
       "      <td>100000</td>\n",
       "    </tr>\n",
       "    <tr>\n",
       "      <th>Espírito Santo</th>\n",
       "      <td>1752.71</td>\n",
       "      <td>2129.32</td>\n",
       "      <td>927.0</td>\n",
       "      <td>1500.0</td>\n",
       "      <td>100000</td>\n",
       "      <td>40000</td>\n",
       "    </tr>\n",
       "    <tr>\n",
       "      <th>Goiás</th>\n",
       "      <td>1339.38</td>\n",
       "      <td>2222.63</td>\n",
       "      <td>900.0</td>\n",
       "      <td>1500.0</td>\n",
       "      <td>26000</td>\n",
       "      <td>30000</td>\n",
       "    </tr>\n",
       "    <tr>\n",
       "      <th>Maranhão</th>\n",
       "      <td>723.75</td>\n",
       "      <td>1165.17</td>\n",
       "      <td>480.0</td>\n",
       "      <td>788.0</td>\n",
       "      <td>8500</td>\n",
       "      <td>30000</td>\n",
       "    </tr>\n",
       "    <tr>\n",
       "      <th>Mato Grosso</th>\n",
       "      <td>1604.29</td>\n",
       "      <td>2335.35</td>\n",
       "      <td>1000.0</td>\n",
       "      <td>1576.0</td>\n",
       "      <td>20000</td>\n",
       "      <td>35000</td>\n",
       "    </tr>\n",
       "    <tr>\n",
       "      <th>Mato Grosso do Sul</th>\n",
       "      <td>1519.89</td>\n",
       "      <td>2603.48</td>\n",
       "      <td>988.0</td>\n",
       "      <td>1600.0</td>\n",
       "      <td>25000</td>\n",
       "      <td>42000</td>\n",
       "    </tr>\n",
       "    <tr>\n",
       "      <th>Minas Gerais</th>\n",
       "      <td>1489.62</td>\n",
       "      <td>2283.16</td>\n",
       "      <td>900.0</td>\n",
       "      <td>1400.0</td>\n",
       "      <td>30000</td>\n",
       "      <td>100000</td>\n",
       "    </tr>\n",
       "    <tr>\n",
       "      <th>Paraná</th>\n",
       "      <td>1796.26</td>\n",
       "      <td>2767.43</td>\n",
       "      <td>1200.0</td>\n",
       "      <td>1800.0</td>\n",
       "      <td>25000</td>\n",
       "      <td>200000</td>\n",
       "    </tr>\n",
       "    <tr>\n",
       "      <th>Paraíba</th>\n",
       "      <td>1119.70</td>\n",
       "      <td>1364.99</td>\n",
       "      <td>788.0</td>\n",
       "      <td>800.0</td>\n",
       "      <td>12200</td>\n",
       "      <td>30000</td>\n",
       "    </tr>\n",
       "    <tr>\n",
       "      <th>Pará</th>\n",
       "      <td>1131.88</td>\n",
       "      <td>1509.74</td>\n",
       "      <td>788.0</td>\n",
       "      <td>980.0</td>\n",
       "      <td>16000</td>\n",
       "      <td>50000</td>\n",
       "    </tr>\n",
       "    <tr>\n",
       "      <th>Pernambuco</th>\n",
       "      <td>1252.24</td>\n",
       "      <td>1664.93</td>\n",
       "      <td>788.0</td>\n",
       "      <td>1000.0</td>\n",
       "      <td>30000</td>\n",
       "      <td>50000</td>\n",
       "    </tr>\n",
       "    <tr>\n",
       "      <th>Piauí</th>\n",
       "      <td>899.86</td>\n",
       "      <td>1146.71</td>\n",
       "      <td>600.0</td>\n",
       "      <td>788.0</td>\n",
       "      <td>30000</td>\n",
       "      <td>40000</td>\n",
       "    </tr>\n",
       "    <tr>\n",
       "      <th>Rio Grande do Norte</th>\n",
       "      <td>1080.68</td>\n",
       "      <td>1459.05</td>\n",
       "      <td>788.0</td>\n",
       "      <td>820.0</td>\n",
       "      <td>12000</td>\n",
       "      <td>15500</td>\n",
       "    </tr>\n",
       "    <tr>\n",
       "      <th>Rio Grande do Sul</th>\n",
       "      <td>1960.85</td>\n",
       "      <td>2488.39</td>\n",
       "      <td>1200.0</td>\n",
       "      <td>1600.0</td>\n",
       "      <td>25000</td>\n",
       "      <td>35000</td>\n",
       "    </tr>\n",
       "    <tr>\n",
       "      <th>Rio de Janeiro</th>\n",
       "      <td>1971.53</td>\n",
       "      <td>2777.55</td>\n",
       "      <td>1040.5</td>\n",
       "      <td>1510.0</td>\n",
       "      <td>120000</td>\n",
       "      <td>200000</td>\n",
       "    </tr>\n",
       "    <tr>\n",
       "      <th>Rondônia</th>\n",
       "      <td>1414.85</td>\n",
       "      <td>1921.21</td>\n",
       "      <td>1000.0</td>\n",
       "      <td>1300.0</td>\n",
       "      <td>12500</td>\n",
       "      <td>50000</td>\n",
       "    </tr>\n",
       "    <tr>\n",
       "      <th>Roraima</th>\n",
       "      <td>1608.11</td>\n",
       "      <td>1875.79</td>\n",
       "      <td>875.0</td>\n",
       "      <td>1125.0</td>\n",
       "      <td>18000</td>\n",
       "      <td>20000</td>\n",
       "    </tr>\n",
       "    <tr>\n",
       "      <th>Santa Catarina</th>\n",
       "      <td>1792.11</td>\n",
       "      <td>2688.30</td>\n",
       "      <td>1283.5</td>\n",
       "      <td>2000.0</td>\n",
       "      <td>13000</td>\n",
       "      <td>80000</td>\n",
       "    </tr>\n",
       "    <tr>\n",
       "      <th>Sergipe</th>\n",
       "      <td>877.15</td>\n",
       "      <td>1205.57</td>\n",
       "      <td>665.0</td>\n",
       "      <td>800.0</td>\n",
       "      <td>10000</td>\n",
       "      <td>16000</td>\n",
       "    </tr>\n",
       "    <tr>\n",
       "      <th>São Paulo</th>\n",
       "      <td>1950.18</td>\n",
       "      <td>2947.74</td>\n",
       "      <td>1200.0</td>\n",
       "      <td>1820.0</td>\n",
       "      <td>50000</td>\n",
       "      <td>80000</td>\n",
       "    </tr>\n",
       "    <tr>\n",
       "      <th>Tocantins</th>\n",
       "      <td>1381.80</td>\n",
       "      <td>1912.51</td>\n",
       "      <td>788.0</td>\n",
       "      <td>1100.0</td>\n",
       "      <td>9000</td>\n",
       "      <td>60000</td>\n",
       "    </tr>\n",
       "  </tbody>\n",
       "</table>\n",
       "</div>"
      ],
      "text/plain": [
       "                     Feminino_media  Masculino_media  Feminino_mediana  \\\n",
       "UF                                                                       \n",
       "Acre                        1128.62          1635.34             788.0   \n",
       "Alagoas                     1105.47          1157.75             788.0   \n",
       "Amapá                       1736.16          1930.40             920.0   \n",
       "Amazonas                    1235.83          1539.99             800.0   \n",
       "Bahia                       1175.02          1557.50             788.0   \n",
       "Ceará                       1085.80          1341.62             788.0   \n",
       "Distrito Federal            3269.88          4863.37            1500.0   \n",
       "Espírito Santo              1752.71          2129.32             927.0   \n",
       "Goiás                       1339.38          2222.63             900.0   \n",
       "Maranhão                     723.75          1165.17             480.0   \n",
       "Mato Grosso                 1604.29          2335.35            1000.0   \n",
       "Mato Grosso do Sul          1519.89          2603.48             988.0   \n",
       "Minas Gerais                1489.62          2283.16             900.0   \n",
       "Paraná                      1796.26          2767.43            1200.0   \n",
       "Paraíba                     1119.70          1364.99             788.0   \n",
       "Pará                        1131.88          1509.74             788.0   \n",
       "Pernambuco                  1252.24          1664.93             788.0   \n",
       "Piauí                        899.86          1146.71             600.0   \n",
       "Rio Grande do Norte         1080.68          1459.05             788.0   \n",
       "Rio Grande do Sul           1960.85          2488.39            1200.0   \n",
       "Rio de Janeiro              1971.53          2777.55            1040.5   \n",
       "Rondônia                    1414.85          1921.21            1000.0   \n",
       "Roraima                     1608.11          1875.79             875.0   \n",
       "Santa Catarina              1792.11          2688.30            1283.5   \n",
       "Sergipe                      877.15          1205.57             665.0   \n",
       "São Paulo                   1950.18          2947.74            1200.0   \n",
       "Tocantins                   1381.80          1912.51             788.0   \n",
       "\n",
       "                     Masculino_mediana  Feminino  Masculino  \n",
       "UF                                                           \n",
       "Acre                            1000.0     15000      30000  \n",
       "Alagoas                          788.0     11000      10000  \n",
       "Amapá                           1337.5     15580      15000  \n",
       "Amazonas                        1000.0     15000      22000  \n",
       "Bahia                            900.0     30000     200000  \n",
       "Ceará                            800.0     24000      25000  \n",
       "Distrito Federal                2500.0     30000     100000  \n",
       "Espírito Santo                  1500.0    100000      40000  \n",
       "Goiás                           1500.0     26000      30000  \n",
       "Maranhão                         788.0      8500      30000  \n",
       "Mato Grosso                     1576.0     20000      35000  \n",
       "Mato Grosso do Sul              1600.0     25000      42000  \n",
       "Minas Gerais                    1400.0     30000     100000  \n",
       "Paraná                          1800.0     25000     200000  \n",
       "Paraíba                          800.0     12200      30000  \n",
       "Pará                             980.0     16000      50000  \n",
       "Pernambuco                      1000.0     30000      50000  \n",
       "Piauí                            788.0     30000      40000  \n",
       "Rio Grande do Norte              820.0     12000      15500  \n",
       "Rio Grande do Sul               1600.0     25000      35000  \n",
       "Rio de Janeiro                  1510.0    120000     200000  \n",
       "Rondônia                        1300.0     12500      50000  \n",
       "Roraima                         1125.0     18000      20000  \n",
       "Santa Catarina                  2000.0     13000      80000  \n",
       "Sergipe                          800.0     10000      16000  \n",
       "São Paulo                       1820.0     50000      80000  \n",
       "Tocantins                       1100.0      9000      60000  "
      ]
     },
     "execution_count": 212,
     "metadata": {},
     "output_type": "execute_result"
    }
   ],
   "source": [
    "tendencias_centrais = media_renda_sexo.merge(mediana_renda_sexo, on=\"UF\", how=\"inner\", suffixes=('_media', '_mediana')).merge(max_renda_sexo, on='UF', how='inner', suffixes=('_max', '_alto'))\n",
    "tendencias_centrais.columns.name = None\n",
    "tendencias_centrais.set_index('UF')"
   ]
  },
  {
   "cell_type": "code",
   "execution_count": 213,
   "metadata": {},
   "outputs": [
    {
     "data": {
      "text/html": [
       "<div>\n",
       "<style scoped>\n",
       "    .dataframe tbody tr th:only-of-type {\n",
       "        vertical-align: middle;\n",
       "    }\n",
       "\n",
       "    .dataframe tbody tr th {\n",
       "        vertical-align: top;\n",
       "    }\n",
       "\n",
       "    .dataframe thead th {\n",
       "        text-align: right;\n",
       "    }\n",
       "</style>\n",
       "<table border=\"1\" class=\"dataframe\">\n",
       "  <thead>\n",
       "    <tr style=\"text-align: right;\">\n",
       "      <th></th>\n",
       "      <th>estado</th>\n",
       "      <th>renda_media_feminina</th>\n",
       "      <th>renda_media_masculina</th>\n",
       "      <th>renda_mediana_feminina</th>\n",
       "      <th>renda_mediana_masculina</th>\n",
       "      <th>renda_maxima_feminina</th>\n",
       "      <th>renda_maxima_masculina</th>\n",
       "    </tr>\n",
       "  </thead>\n",
       "  <tbody>\n",
       "    <tr>\n",
       "      <th>0</th>\n",
       "      <td>Acre</td>\n",
       "      <td>1128.62</td>\n",
       "      <td>1635.34</td>\n",
       "      <td>788.0</td>\n",
       "      <td>1000.0</td>\n",
       "      <td>15000</td>\n",
       "      <td>30000</td>\n",
       "    </tr>\n",
       "    <tr>\n",
       "      <th>1</th>\n",
       "      <td>Alagoas</td>\n",
       "      <td>1105.47</td>\n",
       "      <td>1157.75</td>\n",
       "      <td>788.0</td>\n",
       "      <td>788.0</td>\n",
       "      <td>11000</td>\n",
       "      <td>10000</td>\n",
       "    </tr>\n",
       "    <tr>\n",
       "      <th>2</th>\n",
       "      <td>Amapá</td>\n",
       "      <td>1736.16</td>\n",
       "      <td>1930.40</td>\n",
       "      <td>920.0</td>\n",
       "      <td>1337.5</td>\n",
       "      <td>15580</td>\n",
       "      <td>15000</td>\n",
       "    </tr>\n",
       "    <tr>\n",
       "      <th>3</th>\n",
       "      <td>Amazonas</td>\n",
       "      <td>1235.83</td>\n",
       "      <td>1539.99</td>\n",
       "      <td>800.0</td>\n",
       "      <td>1000.0</td>\n",
       "      <td>15000</td>\n",
       "      <td>22000</td>\n",
       "    </tr>\n",
       "    <tr>\n",
       "      <th>4</th>\n",
       "      <td>Bahia</td>\n",
       "      <td>1175.02</td>\n",
       "      <td>1557.50</td>\n",
       "      <td>788.0</td>\n",
       "      <td>900.0</td>\n",
       "      <td>30000</td>\n",
       "      <td>200000</td>\n",
       "    </tr>\n",
       "  </tbody>\n",
       "</table>\n",
       "</div>"
      ],
      "text/plain": [
       "     estado  renda_media_feminina  renda_media_masculina  \\\n",
       "0      Acre               1128.62                1635.34   \n",
       "1   Alagoas               1105.47                1157.75   \n",
       "2     Amapá               1736.16                1930.40   \n",
       "3  Amazonas               1235.83                1539.99   \n",
       "4     Bahia               1175.02                1557.50   \n",
       "\n",
       "   renda_mediana_feminina  renda_mediana_masculina  renda_maxima_feminina  \\\n",
       "0                   788.0                   1000.0                  15000   \n",
       "1                   788.0                    788.0                  11000   \n",
       "2                   920.0                   1337.5                  15580   \n",
       "3                   800.0                   1000.0                  15000   \n",
       "4                   788.0                    900.0                  30000   \n",
       "\n",
       "   renda_maxima_masculina  \n",
       "0                   30000  \n",
       "1                   10000  \n",
       "2                   15000  \n",
       "3                   22000  \n",
       "4                  200000  "
      ]
     },
     "execution_count": 213,
     "metadata": {},
     "output_type": "execute_result"
    }
   ],
   "source": [
    "old_columns = tendencias_centrais.columns.tolist()\n",
    "new_columns = ['estado', 'renda_media_feminina','renda_media_masculina', 'renda_mediana_feminina', 'renda_mediana_masculina', 'renda_maxima_feminina', 'renda_maxima_masculina' ]\n",
    "tendencias_centrais.rename(columns=dict(zip(old_columns, new_columns)), inplace=True)\n",
    "\n",
    "tendencias_centrais.head()"
   ]
  },
  {
   "cell_type": "code",
   "execution_count": 214,
   "metadata": {},
   "outputs": [
    {
     "data": {
      "text/html": [
       "<div>\n",
       "<style scoped>\n",
       "    .dataframe tbody tr th:only-of-type {\n",
       "        vertical-align: middle;\n",
       "    }\n",
       "\n",
       "    .dataframe tbody tr th {\n",
       "        vertical-align: top;\n",
       "    }\n",
       "\n",
       "    .dataframe thead th {\n",
       "        text-align: right;\n",
       "    }\n",
       "</style>\n",
       "<table border=\"1\" class=\"dataframe\">\n",
       "  <thead>\n",
       "    <tr style=\"text-align: right;\">\n",
       "      <th></th>\n",
       "      <th>estado</th>\n",
       "      <th>renda_media_feminina</th>\n",
       "      <th>renda_mediana_feminina</th>\n",
       "      <th>renda_maxima_feminina</th>\n",
       "    </tr>\n",
       "  </thead>\n",
       "  <tbody>\n",
       "    <tr>\n",
       "      <th>0</th>\n",
       "      <td>Acre</td>\n",
       "      <td>1128.62</td>\n",
       "      <td>788.0</td>\n",
       "      <td>15000</td>\n",
       "    </tr>\n",
       "    <tr>\n",
       "      <th>1</th>\n",
       "      <td>Alagoas</td>\n",
       "      <td>1105.47</td>\n",
       "      <td>788.0</td>\n",
       "      <td>11000</td>\n",
       "    </tr>\n",
       "    <tr>\n",
       "      <th>2</th>\n",
       "      <td>Amapá</td>\n",
       "      <td>1736.16</td>\n",
       "      <td>920.0</td>\n",
       "      <td>15580</td>\n",
       "    </tr>\n",
       "    <tr>\n",
       "      <th>3</th>\n",
       "      <td>Amazonas</td>\n",
       "      <td>1235.83</td>\n",
       "      <td>800.0</td>\n",
       "      <td>15000</td>\n",
       "    </tr>\n",
       "    <tr>\n",
       "      <th>4</th>\n",
       "      <td>Bahia</td>\n",
       "      <td>1175.02</td>\n",
       "      <td>788.0</td>\n",
       "      <td>30000</td>\n",
       "    </tr>\n",
       "    <tr>\n",
       "      <th>5</th>\n",
       "      <td>Ceará</td>\n",
       "      <td>1085.80</td>\n",
       "      <td>788.0</td>\n",
       "      <td>24000</td>\n",
       "    </tr>\n",
       "    <tr>\n",
       "      <th>6</th>\n",
       "      <td>Distrito Federal</td>\n",
       "      <td>3269.88</td>\n",
       "      <td>1500.0</td>\n",
       "      <td>30000</td>\n",
       "    </tr>\n",
       "    <tr>\n",
       "      <th>7</th>\n",
       "      <td>Espírito Santo</td>\n",
       "      <td>1752.71</td>\n",
       "      <td>927.0</td>\n",
       "      <td>100000</td>\n",
       "    </tr>\n",
       "    <tr>\n",
       "      <th>8</th>\n",
       "      <td>Goiás</td>\n",
       "      <td>1339.38</td>\n",
       "      <td>900.0</td>\n",
       "      <td>26000</td>\n",
       "    </tr>\n",
       "    <tr>\n",
       "      <th>9</th>\n",
       "      <td>Maranhão</td>\n",
       "      <td>723.75</td>\n",
       "      <td>480.0</td>\n",
       "      <td>8500</td>\n",
       "    </tr>\n",
       "    <tr>\n",
       "      <th>10</th>\n",
       "      <td>Mato Grosso</td>\n",
       "      <td>1604.29</td>\n",
       "      <td>1000.0</td>\n",
       "      <td>20000</td>\n",
       "    </tr>\n",
       "    <tr>\n",
       "      <th>11</th>\n",
       "      <td>Mato Grosso do Sul</td>\n",
       "      <td>1519.89</td>\n",
       "      <td>988.0</td>\n",
       "      <td>25000</td>\n",
       "    </tr>\n",
       "    <tr>\n",
       "      <th>12</th>\n",
       "      <td>Minas Gerais</td>\n",
       "      <td>1489.62</td>\n",
       "      <td>900.0</td>\n",
       "      <td>30000</td>\n",
       "    </tr>\n",
       "    <tr>\n",
       "      <th>13</th>\n",
       "      <td>Paraná</td>\n",
       "      <td>1796.26</td>\n",
       "      <td>1200.0</td>\n",
       "      <td>25000</td>\n",
       "    </tr>\n",
       "    <tr>\n",
       "      <th>14</th>\n",
       "      <td>Paraíba</td>\n",
       "      <td>1119.70</td>\n",
       "      <td>788.0</td>\n",
       "      <td>12200</td>\n",
       "    </tr>\n",
       "    <tr>\n",
       "      <th>15</th>\n",
       "      <td>Pará</td>\n",
       "      <td>1131.88</td>\n",
       "      <td>788.0</td>\n",
       "      <td>16000</td>\n",
       "    </tr>\n",
       "    <tr>\n",
       "      <th>16</th>\n",
       "      <td>Pernambuco</td>\n",
       "      <td>1252.24</td>\n",
       "      <td>788.0</td>\n",
       "      <td>30000</td>\n",
       "    </tr>\n",
       "    <tr>\n",
       "      <th>17</th>\n",
       "      <td>Piauí</td>\n",
       "      <td>899.86</td>\n",
       "      <td>600.0</td>\n",
       "      <td>30000</td>\n",
       "    </tr>\n",
       "    <tr>\n",
       "      <th>18</th>\n",
       "      <td>Rio Grande do Norte</td>\n",
       "      <td>1080.68</td>\n",
       "      <td>788.0</td>\n",
       "      <td>12000</td>\n",
       "    </tr>\n",
       "    <tr>\n",
       "      <th>19</th>\n",
       "      <td>Rio Grande do Sul</td>\n",
       "      <td>1960.85</td>\n",
       "      <td>1200.0</td>\n",
       "      <td>25000</td>\n",
       "    </tr>\n",
       "    <tr>\n",
       "      <th>20</th>\n",
       "      <td>Rio de Janeiro</td>\n",
       "      <td>1971.53</td>\n",
       "      <td>1040.5</td>\n",
       "      <td>120000</td>\n",
       "    </tr>\n",
       "    <tr>\n",
       "      <th>21</th>\n",
       "      <td>Rondônia</td>\n",
       "      <td>1414.85</td>\n",
       "      <td>1000.0</td>\n",
       "      <td>12500</td>\n",
       "    </tr>\n",
       "    <tr>\n",
       "      <th>22</th>\n",
       "      <td>Roraima</td>\n",
       "      <td>1608.11</td>\n",
       "      <td>875.0</td>\n",
       "      <td>18000</td>\n",
       "    </tr>\n",
       "    <tr>\n",
       "      <th>23</th>\n",
       "      <td>Santa Catarina</td>\n",
       "      <td>1792.11</td>\n",
       "      <td>1283.5</td>\n",
       "      <td>13000</td>\n",
       "    </tr>\n",
       "    <tr>\n",
       "      <th>24</th>\n",
       "      <td>Sergipe</td>\n",
       "      <td>877.15</td>\n",
       "      <td>665.0</td>\n",
       "      <td>10000</td>\n",
       "    </tr>\n",
       "    <tr>\n",
       "      <th>25</th>\n",
       "      <td>São Paulo</td>\n",
       "      <td>1950.18</td>\n",
       "      <td>1200.0</td>\n",
       "      <td>50000</td>\n",
       "    </tr>\n",
       "    <tr>\n",
       "      <th>26</th>\n",
       "      <td>Tocantins</td>\n",
       "      <td>1381.80</td>\n",
       "      <td>788.0</td>\n",
       "      <td>9000</td>\n",
       "    </tr>\n",
       "  </tbody>\n",
       "</table>\n",
       "</div>"
      ],
      "text/plain": [
       "                 estado  renda_media_feminina  renda_mediana_feminina  \\\n",
       "0                  Acre               1128.62                   788.0   \n",
       "1               Alagoas               1105.47                   788.0   \n",
       "2                 Amapá               1736.16                   920.0   \n",
       "3              Amazonas               1235.83                   800.0   \n",
       "4                 Bahia               1175.02                   788.0   \n",
       "5                 Ceará               1085.80                   788.0   \n",
       "6      Distrito Federal               3269.88                  1500.0   \n",
       "7        Espírito Santo               1752.71                   927.0   \n",
       "8                 Goiás               1339.38                   900.0   \n",
       "9              Maranhão                723.75                   480.0   \n",
       "10          Mato Grosso               1604.29                  1000.0   \n",
       "11   Mato Grosso do Sul               1519.89                   988.0   \n",
       "12         Minas Gerais               1489.62                   900.0   \n",
       "13               Paraná               1796.26                  1200.0   \n",
       "14              Paraíba               1119.70                   788.0   \n",
       "15                 Pará               1131.88                   788.0   \n",
       "16           Pernambuco               1252.24                   788.0   \n",
       "17                Piauí                899.86                   600.0   \n",
       "18  Rio Grande do Norte               1080.68                   788.0   \n",
       "19    Rio Grande do Sul               1960.85                  1200.0   \n",
       "20       Rio de Janeiro               1971.53                  1040.5   \n",
       "21             Rondônia               1414.85                  1000.0   \n",
       "22              Roraima               1608.11                   875.0   \n",
       "23       Santa Catarina               1792.11                  1283.5   \n",
       "24              Sergipe                877.15                   665.0   \n",
       "25            São Paulo               1950.18                  1200.0   \n",
       "26            Tocantins               1381.80                   788.0   \n",
       "\n",
       "    renda_maxima_feminina  \n",
       "0                   15000  \n",
       "1                   11000  \n",
       "2                   15580  \n",
       "3                   15000  \n",
       "4                   30000  \n",
       "5                   24000  \n",
       "6                   30000  \n",
       "7                  100000  \n",
       "8                   26000  \n",
       "9                    8500  \n",
       "10                  20000  \n",
       "11                  25000  \n",
       "12                  30000  \n",
       "13                  25000  \n",
       "14                  12200  \n",
       "15                  16000  \n",
       "16                  30000  \n",
       "17                  30000  \n",
       "18                  12000  \n",
       "19                  25000  \n",
       "20                 120000  \n",
       "21                  12500  \n",
       "22                  18000  \n",
       "23                  13000  \n",
       "24                  10000  \n",
       "25                  50000  \n",
       "26                   9000  "
      ]
     },
     "execution_count": 214,
     "metadata": {},
     "output_type": "execute_result"
    }
   ],
   "source": [
    "homem = tendencias_centrais.columns.tolist()[::2]\n",
    "mulher = tendencias_centrais.columns[[0,1, 3, 5]].tolist()\n",
    "tendencias_centrais[mulher]"
   ]
  },
  {
   "cell_type": "code",
   "execution_count": 215,
   "metadata": {},
   "outputs": [
    {
     "data": {
      "text/html": [
       "<div>\n",
       "<style scoped>\n",
       "    .dataframe tbody tr th:only-of-type {\n",
       "        vertical-align: middle;\n",
       "    }\n",
       "\n",
       "    .dataframe tbody tr th {\n",
       "        vertical-align: top;\n",
       "    }\n",
       "\n",
       "    .dataframe thead th {\n",
       "        text-align: right;\n",
       "    }\n",
       "</style>\n",
       "<table border=\"1\" class=\"dataframe\">\n",
       "  <thead>\n",
       "    <tr style=\"text-align: right;\">\n",
       "      <th></th>\n",
       "      <th>estado</th>\n",
       "      <th>renda_media_masculina</th>\n",
       "      <th>renda_mediana_masculina</th>\n",
       "      <th>renda_maxima_masculina</th>\n",
       "    </tr>\n",
       "  </thead>\n",
       "  <tbody>\n",
       "    <tr>\n",
       "      <th>0</th>\n",
       "      <td>Acre</td>\n",
       "      <td>1635.34</td>\n",
       "      <td>1000.0</td>\n",
       "      <td>30000</td>\n",
       "    </tr>\n",
       "    <tr>\n",
       "      <th>1</th>\n",
       "      <td>Alagoas</td>\n",
       "      <td>1157.75</td>\n",
       "      <td>788.0</td>\n",
       "      <td>10000</td>\n",
       "    </tr>\n",
       "    <tr>\n",
       "      <th>2</th>\n",
       "      <td>Amapá</td>\n",
       "      <td>1930.40</td>\n",
       "      <td>1337.5</td>\n",
       "      <td>15000</td>\n",
       "    </tr>\n",
       "    <tr>\n",
       "      <th>3</th>\n",
       "      <td>Amazonas</td>\n",
       "      <td>1539.99</td>\n",
       "      <td>1000.0</td>\n",
       "      <td>22000</td>\n",
       "    </tr>\n",
       "    <tr>\n",
       "      <th>4</th>\n",
       "      <td>Bahia</td>\n",
       "      <td>1557.50</td>\n",
       "      <td>900.0</td>\n",
       "      <td>200000</td>\n",
       "    </tr>\n",
       "    <tr>\n",
       "      <th>5</th>\n",
       "      <td>Ceará</td>\n",
       "      <td>1341.62</td>\n",
       "      <td>800.0</td>\n",
       "      <td>25000</td>\n",
       "    </tr>\n",
       "    <tr>\n",
       "      <th>6</th>\n",
       "      <td>Distrito Federal</td>\n",
       "      <td>4863.37</td>\n",
       "      <td>2500.0</td>\n",
       "      <td>100000</td>\n",
       "    </tr>\n",
       "    <tr>\n",
       "      <th>7</th>\n",
       "      <td>Espírito Santo</td>\n",
       "      <td>2129.32</td>\n",
       "      <td>1500.0</td>\n",
       "      <td>40000</td>\n",
       "    </tr>\n",
       "    <tr>\n",
       "      <th>8</th>\n",
       "      <td>Goiás</td>\n",
       "      <td>2222.63</td>\n",
       "      <td>1500.0</td>\n",
       "      <td>30000</td>\n",
       "    </tr>\n",
       "    <tr>\n",
       "      <th>9</th>\n",
       "      <td>Maranhão</td>\n",
       "      <td>1165.17</td>\n",
       "      <td>788.0</td>\n",
       "      <td>30000</td>\n",
       "    </tr>\n",
       "    <tr>\n",
       "      <th>10</th>\n",
       "      <td>Mato Grosso</td>\n",
       "      <td>2335.35</td>\n",
       "      <td>1576.0</td>\n",
       "      <td>35000</td>\n",
       "    </tr>\n",
       "    <tr>\n",
       "      <th>11</th>\n",
       "      <td>Mato Grosso do Sul</td>\n",
       "      <td>2603.48</td>\n",
       "      <td>1600.0</td>\n",
       "      <td>42000</td>\n",
       "    </tr>\n",
       "    <tr>\n",
       "      <th>12</th>\n",
       "      <td>Minas Gerais</td>\n",
       "      <td>2283.16</td>\n",
       "      <td>1400.0</td>\n",
       "      <td>100000</td>\n",
       "    </tr>\n",
       "    <tr>\n",
       "      <th>13</th>\n",
       "      <td>Paraná</td>\n",
       "      <td>2767.43</td>\n",
       "      <td>1800.0</td>\n",
       "      <td>200000</td>\n",
       "    </tr>\n",
       "    <tr>\n",
       "      <th>14</th>\n",
       "      <td>Paraíba</td>\n",
       "      <td>1364.99</td>\n",
       "      <td>800.0</td>\n",
       "      <td>30000</td>\n",
       "    </tr>\n",
       "    <tr>\n",
       "      <th>15</th>\n",
       "      <td>Pará</td>\n",
       "      <td>1509.74</td>\n",
       "      <td>980.0</td>\n",
       "      <td>50000</td>\n",
       "    </tr>\n",
       "    <tr>\n",
       "      <th>16</th>\n",
       "      <td>Pernambuco</td>\n",
       "      <td>1664.93</td>\n",
       "      <td>1000.0</td>\n",
       "      <td>50000</td>\n",
       "    </tr>\n",
       "    <tr>\n",
       "      <th>17</th>\n",
       "      <td>Piauí</td>\n",
       "      <td>1146.71</td>\n",
       "      <td>788.0</td>\n",
       "      <td>40000</td>\n",
       "    </tr>\n",
       "    <tr>\n",
       "      <th>18</th>\n",
       "      <td>Rio Grande do Norte</td>\n",
       "      <td>1459.05</td>\n",
       "      <td>820.0</td>\n",
       "      <td>15500</td>\n",
       "    </tr>\n",
       "    <tr>\n",
       "      <th>19</th>\n",
       "      <td>Rio Grande do Sul</td>\n",
       "      <td>2488.39</td>\n",
       "      <td>1600.0</td>\n",
       "      <td>35000</td>\n",
       "    </tr>\n",
       "    <tr>\n",
       "      <th>20</th>\n",
       "      <td>Rio de Janeiro</td>\n",
       "      <td>2777.55</td>\n",
       "      <td>1510.0</td>\n",
       "      <td>200000</td>\n",
       "    </tr>\n",
       "    <tr>\n",
       "      <th>21</th>\n",
       "      <td>Rondônia</td>\n",
       "      <td>1921.21</td>\n",
       "      <td>1300.0</td>\n",
       "      <td>50000</td>\n",
       "    </tr>\n",
       "    <tr>\n",
       "      <th>22</th>\n",
       "      <td>Roraima</td>\n",
       "      <td>1875.79</td>\n",
       "      <td>1125.0</td>\n",
       "      <td>20000</td>\n",
       "    </tr>\n",
       "    <tr>\n",
       "      <th>23</th>\n",
       "      <td>Santa Catarina</td>\n",
       "      <td>2688.30</td>\n",
       "      <td>2000.0</td>\n",
       "      <td>80000</td>\n",
       "    </tr>\n",
       "    <tr>\n",
       "      <th>24</th>\n",
       "      <td>Sergipe</td>\n",
       "      <td>1205.57</td>\n",
       "      <td>800.0</td>\n",
       "      <td>16000</td>\n",
       "    </tr>\n",
       "    <tr>\n",
       "      <th>25</th>\n",
       "      <td>São Paulo</td>\n",
       "      <td>2947.74</td>\n",
       "      <td>1820.0</td>\n",
       "      <td>80000</td>\n",
       "    </tr>\n",
       "    <tr>\n",
       "      <th>26</th>\n",
       "      <td>Tocantins</td>\n",
       "      <td>1912.51</td>\n",
       "      <td>1100.0</td>\n",
       "      <td>60000</td>\n",
       "    </tr>\n",
       "  </tbody>\n",
       "</table>\n",
       "</div>"
      ],
      "text/plain": [
       "                 estado  renda_media_masculina  renda_mediana_masculina  \\\n",
       "0                  Acre                1635.34                   1000.0   \n",
       "1               Alagoas                1157.75                    788.0   \n",
       "2                 Amapá                1930.40                   1337.5   \n",
       "3              Amazonas                1539.99                   1000.0   \n",
       "4                 Bahia                1557.50                    900.0   \n",
       "5                 Ceará                1341.62                    800.0   \n",
       "6      Distrito Federal                4863.37                   2500.0   \n",
       "7        Espírito Santo                2129.32                   1500.0   \n",
       "8                 Goiás                2222.63                   1500.0   \n",
       "9              Maranhão                1165.17                    788.0   \n",
       "10          Mato Grosso                2335.35                   1576.0   \n",
       "11   Mato Grosso do Sul                2603.48                   1600.0   \n",
       "12         Minas Gerais                2283.16                   1400.0   \n",
       "13               Paraná                2767.43                   1800.0   \n",
       "14              Paraíba                1364.99                    800.0   \n",
       "15                 Pará                1509.74                    980.0   \n",
       "16           Pernambuco                1664.93                   1000.0   \n",
       "17                Piauí                1146.71                    788.0   \n",
       "18  Rio Grande do Norte                1459.05                    820.0   \n",
       "19    Rio Grande do Sul                2488.39                   1600.0   \n",
       "20       Rio de Janeiro                2777.55                   1510.0   \n",
       "21             Rondônia                1921.21                   1300.0   \n",
       "22              Roraima                1875.79                   1125.0   \n",
       "23       Santa Catarina                2688.30                   2000.0   \n",
       "24              Sergipe                1205.57                    800.0   \n",
       "25            São Paulo                2947.74                   1820.0   \n",
       "26            Tocantins                1912.51                   1100.0   \n",
       "\n",
       "    renda_maxima_masculina  \n",
       "0                    30000  \n",
       "1                    10000  \n",
       "2                    15000  \n",
       "3                    22000  \n",
       "4                   200000  \n",
       "5                    25000  \n",
       "6                   100000  \n",
       "7                    40000  \n",
       "8                    30000  \n",
       "9                    30000  \n",
       "10                   35000  \n",
       "11                   42000  \n",
       "12                  100000  \n",
       "13                  200000  \n",
       "14                   30000  \n",
       "15                   50000  \n",
       "16                   50000  \n",
       "17                   40000  \n",
       "18                   15500  \n",
       "19                   35000  \n",
       "20                  200000  \n",
       "21                   50000  \n",
       "22                   20000  \n",
       "23                   80000  \n",
       "24                   16000  \n",
       "25                   80000  \n",
       "26                   60000  "
      ]
     },
     "execution_count": 215,
     "metadata": {},
     "output_type": "execute_result"
    }
   ],
   "source": [
    "tendencias_centrais[homem]"
   ]
  },
  {
   "cell_type": "code",
   "execution_count": null,
   "metadata": {},
   "outputs": [],
   "source": []
  },
  {
   "cell_type": "markdown",
   "metadata": {
    "id": "4d19wJraKcQX"
   },
   "source": [
    "> #### Conclusões\n",
    "Em alguns estados, os valores máximo de renda, principalmente masculina, é bem elevado, distocendo muito a média para aquele estado, o que pode ser visto ao se calcular a mediana."
   ]
  },
  {
   "cell_type": "markdown",
   "metadata": {
    "id": "Jk7hNSEKC6Bf"
   },
   "source": [
    "#### **Construa 2 histogramas com curva de densidade com os valores das colunas `Altura` e `Idade` de todas as pessoas responsáveis e compare as curvas obtidas com as suas  MTCs**"
   ]
  },
  {
   "cell_type": "markdown",
   "metadata": {
    "id": "zE321QEALLSH"
   },
   "source": [
    "##### **Altura**"
   ]
  },
  {
   "cell_type": "code",
   "execution_count": 216,
   "metadata": {
    "id": "Rq519uIhXttR"
   },
   "outputs": [
    {
     "data": {
      "image/png": "[encoded data removed]",
      "text/plain": [
       "<Figure size 640x480 with 1 Axes>"
      ]
     },
     "metadata": {},
     "output_type": "display_data"
    }
   ],
   "source": [
    "sns.histplot(bins=21, data=dados, x='Altura', kde=True, kde_kws={'bw_adjust':2})\n",
    "plt.show()"
   ]
  },
  {
   "cell_type": "code",
   "execution_count": 217,
   "metadata": {
    "id": "bc55wq1ZXttR"
   },
   "outputs": [
    {
     "data": {
      "text/plain": [
       "{'media': 1.6995084591358667, 'mediana': 1.7, 'moda': 1.7}"
      ]
     },
     "execution_count": 217,
     "metadata": {},
     "output_type": "execute_result"
    }
   ],
   "source": [
    "resumo_altura = {\n",
    "    'media': dados.Altura.mean().item(),\n",
    "    'mediana': dados.Altura.median().item(),\n",
    "    'moda': dados.Altura.mode().item()\n",
    "}\n",
    "resumo_altura"
   ]
  },
  {
   "cell_type": "markdown",
   "metadata": {
    "id": "B5ZUa7OF-ror"
   },
   "source": [
    "> #### Conclusões\n",
    "\n",
    "Os valores de media, mediana e moda para coluna altura tem valores semelhantes, caracterizando uma curva de densidade simétrica."
   ]
  },
  {
   "cell_type": "markdown",
   "metadata": {
    "id": "whm6etapM6Ni"
   },
   "source": [
    "##### **Idade**"
   ]
  },
  {
   "cell_type": "code",
   "execution_count": 218,
   "metadata": {
    "id": "lY6T5WxfXttS"
   },
   "outputs": [
    {
     "data": {
      "image/png": "[encoded data removed]",
      "text/plain": [
       "<Figure size 640x480 with 1 Axes>"
      ]
     },
     "metadata": {},
     "output_type": "display_data"
    }
   ],
   "source": [
    "sns.histplot(bins=21, data=dados, x='Idade', kde=True, kde_kws={'bw_adjust':2})\n",
    "plt.show()"
   ]
  },
  {
   "cell_type": "code",
   "execution_count": 219,
   "metadata": {
    "id": "i2wdO4uqXttS"
   },
   "outputs": [
    {
     "data": {
      "text/plain": [
       "{'media': np.float64(44.07142113482561),\n",
       " 'mediana': np.float64(43.0),\n",
       " 'moda': 0    40\n",
       " Name: Idade, dtype: int64}"
      ]
     },
     "execution_count": 219,
     "metadata": {},
     "output_type": "execute_result"
    }
   ],
   "source": [
    "resumo_idade = {\n",
    "    'media': dados.Idade.mean(),\n",
    "    'mediana': dados.Idade.median(),\n",
    "    'moda': dados.Idade.mode()\n",
    "}\n",
    "resumo_idade"
   ]
  },
  {
   "cell_type": "markdown",
   "metadata": {
    "id": "8E3XCvRYM9Qz"
   },
   "source": [
    "> #### Conclusões\n",
    "\n",
    "Já para coluna Idade, embora os valores sejam também, bem parecidos, nota-se um leve assimetria no gráfico de densidade para direita."
   ]
  },
  {
   "cell_type": "markdown",
   "metadata": {
    "id": "i_X1NcH9_T-u"
   },
   "source": [
    "## **Aula 04 - Investigando os dados dos colaboradores**"
   ]
  },
  {
   "cell_type": "markdown",
   "metadata": {
    "id": "hd7f_bUIi8ty"
   },
   "source": [
    "### **Mão na Massa - Analisando as rendas e suas divisões**"
   ]
  },
  {
   "cell_type": "markdown",
   "metadata": {
    "id": "_PehOjjeVL1Y"
   },
   "source": [
    "Nesta etapa do treinamento, vamos analisar os dados das pessoas responsáveis pelo domicílio de acordo com os dados da PNAD de 2015, por meio das medidas separatrizes. Responda às perguntas abaixo e reflita sobre os achados.\n"
   ]
  },
  {
   "cell_type": "markdown",
   "metadata": {
    "id": "NENRGQVdY3fq"
   },
   "source": [
    "#### **Calcule o número de classes para `Renda` até R$15.000 utilizando a regra de Sturges**"
   ]
  },
  {
   "cell_type": "markdown",
   "metadata": {
    "id": "cBeURnT-1mvR"
   },
   "source": [
    "$$k = 1 + \\frac {10}{3}\\log_{10}n$$\n",
    "\n",
    "onde,\n",
    "\n",
    "$k$ = número de classes\n",
    "\n",
    "$n$ = número de observações.\n"
   ]
  },
  {
   "cell_type": "code",
   "execution_count": 220,
   "metadata": {
    "id": "TmDnTrpCXttT"
   },
   "outputs": [
    {
     "data": {
      "text/html": [
       "<div>\n",
       "<style scoped>\n",
       "    .dataframe tbody tr th:only-of-type {\n",
       "        vertical-align: middle;\n",
       "    }\n",
       "\n",
       "    .dataframe tbody tr th {\n",
       "        vertical-align: top;\n",
       "    }\n",
       "\n",
       "    .dataframe thead th {\n",
       "        text-align: right;\n",
       "    }\n",
       "</style>\n",
       "<table border=\"1\" class=\"dataframe\">\n",
       "  <thead>\n",
       "    <tr style=\"text-align: right;\">\n",
       "      <th></th>\n",
       "      <th>UF</th>\n",
       "      <th>Sexo</th>\n",
       "      <th>Idade</th>\n",
       "      <th>Cor</th>\n",
       "      <th>Anos.de.Estudo</th>\n",
       "      <th>Renda</th>\n",
       "      <th>Altura</th>\n",
       "    </tr>\n",
       "  </thead>\n",
       "  <tbody>\n",
       "    <tr>\n",
       "      <th>0</th>\n",
       "      <td>Rondônia</td>\n",
       "      <td>Masculino</td>\n",
       "      <td>23</td>\n",
       "      <td>Parda</td>\n",
       "      <td>11 anos</td>\n",
       "      <td>800</td>\n",
       "      <td>1.60</td>\n",
       "    </tr>\n",
       "    <tr>\n",
       "      <th>1</th>\n",
       "      <td>Rondônia</td>\n",
       "      <td>Feminino</td>\n",
       "      <td>23</td>\n",
       "      <td>Branca</td>\n",
       "      <td>11 anos</td>\n",
       "      <td>1150</td>\n",
       "      <td>1.74</td>\n",
       "    </tr>\n",
       "    <tr>\n",
       "      <th>2</th>\n",
       "      <td>Rondônia</td>\n",
       "      <td>Feminino</td>\n",
       "      <td>35</td>\n",
       "      <td>Parda</td>\n",
       "      <td>14 anos</td>\n",
       "      <td>880</td>\n",
       "      <td>1.76</td>\n",
       "    </tr>\n",
       "    <tr>\n",
       "      <th>3</th>\n",
       "      <td>Rondônia</td>\n",
       "      <td>Masculino</td>\n",
       "      <td>46</td>\n",
       "      <td>Branca</td>\n",
       "      <td>5 anos</td>\n",
       "      <td>3500</td>\n",
       "      <td>1.78</td>\n",
       "    </tr>\n",
       "    <tr>\n",
       "      <th>4</th>\n",
       "      <td>Rondônia</td>\n",
       "      <td>Feminino</td>\n",
       "      <td>47</td>\n",
       "      <td>Parda</td>\n",
       "      <td>8 anos</td>\n",
       "      <td>150</td>\n",
       "      <td>1.69</td>\n",
       "    </tr>\n",
       "  </tbody>\n",
       "</table>\n",
       "</div>"
      ],
      "text/plain": [
       "         UF       Sexo  Idade     Cor Anos.de.Estudo  Renda  Altura\n",
       "0  Rondônia  Masculino     23   Parda        11 anos    800    1.60\n",
       "1  Rondônia   Feminino     23  Branca        11 anos   1150    1.74\n",
       "2  Rondônia   Feminino     35   Parda        14 anos    880    1.76\n",
       "3  Rondônia  Masculino     46  Branca         5 anos   3500    1.78\n",
       "4  Rondônia   Feminino     47   Parda         8 anos    150    1.69"
      ]
     },
     "execution_count": 220,
     "metadata": {},
     "output_type": "execute_result"
    }
   ],
   "source": [
    "import math\n",
    "\n",
    "renda_until_15k = dados.query('Renda <= 15e3')\n",
    "renda_until_15k.head()"
   ]
  },
  {
   "cell_type": "code",
   "execution_count": 221,
   "metadata": {},
   "outputs": [
    {
     "data": {
      "text/plain": [
       "76219"
      ]
     },
     "execution_count": 221,
     "metadata": {},
     "output_type": "execute_result"
    }
   ],
   "source": [
    "quantidade_renda_until_15k = len(renda_until_15k)\n",
    "quantidade_renda_until_15k"
   ]
  },
  {
   "cell_type": "code",
   "execution_count": 222,
   "metadata": {
    "id": "EXGfDn8hXttT"
   },
   "outputs": [
    {
     "data": {
      "text/plain": [
       "17"
      ]
     },
     "execution_count": 222,
     "metadata": {},
     "output_type": "execute_result"
    }
   ],
   "source": [
    "k = int(1 + (10/3) * math.log10(quantidade_renda_until_15k))\n",
    "k\n"
   ]
  },
  {
   "cell_type": "code",
   "execution_count": 223,
   "metadata": {
    "id": "5LMK0dCDXttU"
   },
   "outputs": [
    {
     "data": {
      "text/html": [
       "<div>\n",
       "<style scoped>\n",
       "    .dataframe tbody tr th:only-of-type {\n",
       "        vertical-align: middle;\n",
       "    }\n",
       "\n",
       "    .dataframe tbody tr th {\n",
       "        vertical-align: top;\n",
       "    }\n",
       "\n",
       "    .dataframe thead th {\n",
       "        text-align: right;\n",
       "    }\n",
       "</style>\n",
       "<table border=\"1\" class=\"dataframe\">\n",
       "  <thead>\n",
       "    <tr style=\"text-align: right;\">\n",
       "      <th></th>\n",
       "      <th>UF</th>\n",
       "      <th>Sexo</th>\n",
       "      <th>Idade</th>\n",
       "      <th>Cor</th>\n",
       "      <th>Anos.de.Estudo</th>\n",
       "      <th>Renda</th>\n",
       "      <th>Altura</th>\n",
       "      <th>faixa_salarial</th>\n",
       "    </tr>\n",
       "  </thead>\n",
       "  <tbody>\n",
       "    <tr>\n",
       "      <th>0</th>\n",
       "      <td>Rondônia</td>\n",
       "      <td>Masculino</td>\n",
       "      <td>23</td>\n",
       "      <td>Parda</td>\n",
       "      <td>11 anos</td>\n",
       "      <td>800</td>\n",
       "      <td>1.60</td>\n",
       "      <td>(-200.001, 11764.706]</td>\n",
       "    </tr>\n",
       "    <tr>\n",
       "      <th>1</th>\n",
       "      <td>Rondônia</td>\n",
       "      <td>Feminino</td>\n",
       "      <td>23</td>\n",
       "      <td>Branca</td>\n",
       "      <td>11 anos</td>\n",
       "      <td>1150</td>\n",
       "      <td>1.74</td>\n",
       "      <td>(-200.001, 11764.706]</td>\n",
       "    </tr>\n",
       "    <tr>\n",
       "      <th>2</th>\n",
       "      <td>Rondônia</td>\n",
       "      <td>Feminino</td>\n",
       "      <td>35</td>\n",
       "      <td>Parda</td>\n",
       "      <td>14 anos</td>\n",
       "      <td>880</td>\n",
       "      <td>1.76</td>\n",
       "      <td>(-200.001, 11764.706]</td>\n",
       "    </tr>\n",
       "    <tr>\n",
       "      <th>3</th>\n",
       "      <td>Rondônia</td>\n",
       "      <td>Masculino</td>\n",
       "      <td>46</td>\n",
       "      <td>Branca</td>\n",
       "      <td>5 anos</td>\n",
       "      <td>3500</td>\n",
       "      <td>1.78</td>\n",
       "      <td>(-200.001, 11764.706]</td>\n",
       "    </tr>\n",
       "    <tr>\n",
       "      <th>4</th>\n",
       "      <td>Rondônia</td>\n",
       "      <td>Feminino</td>\n",
       "      <td>47</td>\n",
       "      <td>Parda</td>\n",
       "      <td>8 anos</td>\n",
       "      <td>150</td>\n",
       "      <td>1.69</td>\n",
       "      <td>(-200.001, 11764.706]</td>\n",
       "    </tr>\n",
       "  </tbody>\n",
       "</table>\n",
       "</div>"
      ],
      "text/plain": [
       "         UF       Sexo  Idade     Cor Anos.de.Estudo  Renda  Altura  \\\n",
       "0  Rondônia  Masculino     23   Parda        11 anos    800    1.60   \n",
       "1  Rondônia   Feminino     23  Branca        11 anos   1150    1.74   \n",
       "2  Rondônia   Feminino     35   Parda        14 anos    880    1.76   \n",
       "3  Rondônia  Masculino     46  Branca         5 anos   3500    1.78   \n",
       "4  Rondônia   Feminino     47   Parda         8 anos    150    1.69   \n",
       "\n",
       "          faixa_salarial  \n",
       "0  (-200.001, 11764.706]  \n",
       "1  (-200.001, 11764.706]  \n",
       "2  (-200.001, 11764.706]  \n",
       "3  (-200.001, 11764.706]  \n",
       "4  (-200.001, 11764.706]  "
      ]
     },
     "execution_count": 223,
     "metadata": {},
     "output_type": "execute_result"
    }
   ],
   "source": [
    "# Copiar o dataframe para não alterar o principal\n",
    "dados_classifica_renda = dados.copy()\n",
    "\n",
    "dados_classifica_renda['faixa_salarial'] = pd.cut(dados_classifica_renda['Renda'], bins=k, include_lowest=True)\n",
    "dados_classifica_renda.head()"
   ]
  },
  {
   "cell_type": "code",
   "execution_count": 224,
   "metadata": {
    "id": "_hGEfSObXttU"
   },
   "outputs": [
    {
     "data": {
      "text/plain": [
       "faixa_salarial\n",
       "(-200.001, 11764.706]       75594\n",
       "(11764.706, 23529.412]       1022\n",
       "(23529.412, 35294.118]        169\n",
       "(35294.118, 47058.824]         19\n",
       "(47058.824, 58823.529]         16\n",
       "(94117.647, 105882.353]         6\n",
       "(58823.529, 70588.235]          5\n",
       "(70588.235, 82352.941]          4\n",
       "(188235.294, 200000.0]          3\n",
       "(82352.941, 94117.647]          1\n",
       "(117647.059, 129411.765]        1\n",
       "(129411.765, 141176.471]        0\n",
       "(105882.353, 117647.059]        0\n",
       "(141176.471, 152941.176]        0\n",
       "(152941.176, 164705.882]        0\n",
       "(164705.882, 176470.588]        0\n",
       "(176470.588, 188235.294]        0\n",
       "Name: count, dtype: int64"
      ]
     },
     "execution_count": 224,
     "metadata": {},
     "output_type": "execute_result"
    }
   ],
   "source": [
    "dados_classifica_renda['faixa_salarial'].value_counts()"
   ]
  },
  {
   "cell_type": "code",
   "execution_count": 225,
   "metadata": {
    "id": "sy21NWJuXttU"
   },
   "outputs": [
    {
     "data": {
      "text/html": [
       "<div>\n",
       "<style scoped>\n",
       "    .dataframe tbody tr th:only-of-type {\n",
       "        vertical-align: middle;\n",
       "    }\n",
       "\n",
       "    .dataframe tbody tr th {\n",
       "        vertical-align: top;\n",
       "    }\n",
       "\n",
       "    .dataframe thead th {\n",
       "        text-align: right;\n",
       "    }\n",
       "</style>\n",
       "<table border=\"1\" class=\"dataframe\">\n",
       "  <thead>\n",
       "    <tr style=\"text-align: right;\">\n",
       "      <th></th>\n",
       "      <th>UF</th>\n",
       "      <th>Sexo</th>\n",
       "      <th>Idade</th>\n",
       "      <th>Cor</th>\n",
       "      <th>Anos.de.Estudo</th>\n",
       "      <th>Renda</th>\n",
       "      <th>Altura</th>\n",
       "      <th>faixa_salarial</th>\n",
       "    </tr>\n",
       "  </thead>\n",
       "  <tbody>\n",
       "    <tr>\n",
       "      <th>28110</th>\n",
       "      <td>Bahia</td>\n",
       "      <td>Masculino</td>\n",
       "      <td>51</td>\n",
       "      <td>Branca</td>\n",
       "      <td>11 anos</td>\n",
       "      <td>200000</td>\n",
       "      <td>1.59</td>\n",
       "      <td>(188235.294, 200000.0]</td>\n",
       "    </tr>\n",
       "    <tr>\n",
       "      <th>43693</th>\n",
       "      <td>Rio de Janeiro</td>\n",
       "      <td>Masculino</td>\n",
       "      <td>79</td>\n",
       "      <td>Branca</td>\n",
       "      <td>15 anos ou mais</td>\n",
       "      <td>200000</td>\n",
       "      <td>1.68</td>\n",
       "      <td>(188235.294, 200000.0]</td>\n",
       "    </tr>\n",
       "    <tr>\n",
       "      <th>56141</th>\n",
       "      <td>Paraná</td>\n",
       "      <td>Masculino</td>\n",
       "      <td>42</td>\n",
       "      <td>Branca</td>\n",
       "      <td>15 anos ou mais</td>\n",
       "      <td>200000</td>\n",
       "      <td>1.58</td>\n",
       "      <td>(188235.294, 200000.0]</td>\n",
       "    </tr>\n",
       "  </tbody>\n",
       "</table>\n",
       "</div>"
      ],
      "text/plain": [
       "                   UF       Sexo  Idade     Cor   Anos.de.Estudo   Renda  \\\n",
       "28110           Bahia  Masculino     51  Branca          11 anos  200000   \n",
       "43693  Rio de Janeiro  Masculino     79  Branca  15 anos ou mais  200000   \n",
       "56141          Paraná  Masculino     42  Branca  15 anos ou mais  200000   \n",
       "\n",
       "       Altura          faixa_salarial  \n",
       "28110    1.59  (188235.294, 200000.0]  \n",
       "43693    1.68  (188235.294, 200000.0]  \n",
       "56141    1.58  (188235.294, 200000.0]  "
      ]
     },
     "execution_count": 225,
     "metadata": {},
     "output_type": "execute_result"
    }
   ],
   "source": [
    "dados_classifica_renda[dados_classifica_renda.Renda == dados_classifica_renda.Renda.max()]"
   ]
  },
  {
   "cell_type": "markdown",
   "metadata": {
    "id": "jOLZSNmHY3fv"
   },
   "source": [
    "#### **Crie o histograma da `Renda` das pessoas responsáveis até R$15.000 seguindo o número de classes calculado anteriormente**"
   ]
  },
  {
   "cell_type": "markdown",
   "metadata": {
    "id": "ycnq6L-I24cO"
   },
   "source": [
    "> **Observação:** Ao rodar o código para dividir os dados em faixas é possível que você observe o limite inferior da 1ª faixa com um valor negativo. Isto porque a *Regra de Sturges* define o intervalo mínimo da 1ª classe pela seguinte fórmula: $min(Renda) - (max(Renda) - min(Renda)) * 0.001$.\n",
    "\n"
   ]
  },
  {
   "cell_type": "code",
   "execution_count": 226,
   "metadata": {},
   "outputs": [
    {
     "data": {
      "text/plain": [
       "faixa_salarial\n",
       "(-200.001, 11764.706]       0.983784\n",
       "(11764.706, 23529.412]      0.013300\n",
       "(23529.412, 35294.118]      0.002199\n",
       "(35294.118, 47058.824]      0.000247\n",
       "(47058.824, 58823.529]      0.000208\n",
       "(94117.647, 105882.353]     0.000078\n",
       "(58823.529, 70588.235]      0.000065\n",
       "(70588.235, 82352.941]      0.000052\n",
       "(188235.294, 200000.0]      0.000039\n",
       "(82352.941, 94117.647]      0.000013\n",
       "(117647.059, 129411.765]    0.000013\n",
       "(129411.765, 141176.471]    0.000000\n",
       "(105882.353, 117647.059]    0.000000\n",
       "(141176.471, 152941.176]    0.000000\n",
       "(152941.176, 164705.882]    0.000000\n",
       "(164705.882, 176470.588]    0.000000\n",
       "(176470.588, 188235.294]    0.000000\n",
       "Name: proportion, dtype: float64"
      ]
     },
     "execution_count": 226,
     "metadata": {},
     "output_type": "execute_result"
    }
   ],
   "source": [
    "dados_classifica_renda.faixa_salarial.value_counts(normalize=True)"
   ]
  },
  {
   "cell_type": "code",
   "execution_count": 227,
   "metadata": {},
   "outputs": [
    {
     "data": {
      "text/html": [
       "<div>\n",
       "<style scoped>\n",
       "    .dataframe tbody tr th:only-of-type {\n",
       "        vertical-align: middle;\n",
       "    }\n",
       "\n",
       "    .dataframe tbody tr th {\n",
       "        vertical-align: top;\n",
       "    }\n",
       "\n",
       "    .dataframe thead th {\n",
       "        text-align: right;\n",
       "    }\n",
       "</style>\n",
       "<table border=\"1\" class=\"dataframe\">\n",
       "  <thead>\n",
       "    <tr style=\"text-align: right;\">\n",
       "      <th></th>\n",
       "      <th>faixa_salarial</th>\n",
       "      <th>frequencia</th>\n",
       "      <th>porcentagem %</th>\n",
       "    </tr>\n",
       "  </thead>\n",
       "  <tbody>\n",
       "    <tr>\n",
       "      <th>0</th>\n",
       "      <td>(-200.001, 11764.706]</td>\n",
       "      <td>75594</td>\n",
       "      <td>0.983784</td>\n",
       "    </tr>\n",
       "    <tr>\n",
       "      <th>1</th>\n",
       "      <td>(11764.706, 23529.412]</td>\n",
       "      <td>1022</td>\n",
       "      <td>0.983784</td>\n",
       "    </tr>\n",
       "    <tr>\n",
       "      <th>2</th>\n",
       "      <td>(23529.412, 35294.118]</td>\n",
       "      <td>169</td>\n",
       "      <td>0.983784</td>\n",
       "    </tr>\n",
       "    <tr>\n",
       "      <th>3</th>\n",
       "      <td>(35294.118, 47058.824]</td>\n",
       "      <td>19</td>\n",
       "      <td>0.983784</td>\n",
       "    </tr>\n",
       "    <tr>\n",
       "      <th>4</th>\n",
       "      <td>(47058.824, 58823.529]</td>\n",
       "      <td>16</td>\n",
       "      <td>0.983784</td>\n",
       "    </tr>\n",
       "    <tr>\n",
       "      <th>5</th>\n",
       "      <td>(94117.647, 105882.353]</td>\n",
       "      <td>6</td>\n",
       "      <td>0.983784</td>\n",
       "    </tr>\n",
       "    <tr>\n",
       "      <th>6</th>\n",
       "      <td>(58823.529, 70588.235]</td>\n",
       "      <td>5</td>\n",
       "      <td>0.983784</td>\n",
       "    </tr>\n",
       "    <tr>\n",
       "      <th>7</th>\n",
       "      <td>(70588.235, 82352.941]</td>\n",
       "      <td>4</td>\n",
       "      <td>0.983784</td>\n",
       "    </tr>\n",
       "    <tr>\n",
       "      <th>8</th>\n",
       "      <td>(188235.294, 200000.0]</td>\n",
       "      <td>3</td>\n",
       "      <td>0.983784</td>\n",
       "    </tr>\n",
       "    <tr>\n",
       "      <th>9</th>\n",
       "      <td>(82352.941, 94117.647]</td>\n",
       "      <td>1</td>\n",
       "      <td>0.983784</td>\n",
       "    </tr>\n",
       "    <tr>\n",
       "      <th>10</th>\n",
       "      <td>(117647.059, 129411.765]</td>\n",
       "      <td>1</td>\n",
       "      <td>0.983784</td>\n",
       "    </tr>\n",
       "    <tr>\n",
       "      <th>11</th>\n",
       "      <td>(129411.765, 141176.471]</td>\n",
       "      <td>0</td>\n",
       "      <td>0.983784</td>\n",
       "    </tr>\n",
       "    <tr>\n",
       "      <th>12</th>\n",
       "      <td>(105882.353, 117647.059]</td>\n",
       "      <td>0</td>\n",
       "      <td>0.983784</td>\n",
       "    </tr>\n",
       "    <tr>\n",
       "      <th>13</th>\n",
       "      <td>(141176.471, 152941.176]</td>\n",
       "      <td>0</td>\n",
       "      <td>0.983784</td>\n",
       "    </tr>\n",
       "    <tr>\n",
       "      <th>14</th>\n",
       "      <td>(152941.176, 164705.882]</td>\n",
       "      <td>0</td>\n",
       "      <td>0.983784</td>\n",
       "    </tr>\n",
       "    <tr>\n",
       "      <th>15</th>\n",
       "      <td>(164705.882, 176470.588]</td>\n",
       "      <td>0</td>\n",
       "      <td>0.983784</td>\n",
       "    </tr>\n",
       "    <tr>\n",
       "      <th>16</th>\n",
       "      <td>(176470.588, 188235.294]</td>\n",
       "      <td>0</td>\n",
       "      <td>0.983784</td>\n",
       "    </tr>\n",
       "  </tbody>\n",
       "</table>\n",
       "</div>"
      ],
      "text/plain": [
       "              faixa_salarial  frequencia  porcentagem %\n",
       "0      (-200.001, 11764.706]       75594       0.983784\n",
       "1     (11764.706, 23529.412]        1022       0.983784\n",
       "2     (23529.412, 35294.118]         169       0.983784\n",
       "3     (35294.118, 47058.824]          19       0.983784\n",
       "4     (47058.824, 58823.529]          16       0.983784\n",
       "5    (94117.647, 105882.353]           6       0.983784\n",
       "6     (58823.529, 70588.235]           5       0.983784\n",
       "7     (70588.235, 82352.941]           4       0.983784\n",
       "8     (188235.294, 200000.0]           3       0.983784\n",
       "9     (82352.941, 94117.647]           1       0.983784\n",
       "10  (117647.059, 129411.765]           1       0.983784\n",
       "11  (129411.765, 141176.471]           0       0.983784\n",
       "12  (105882.353, 117647.059]           0       0.983784\n",
       "13  (141176.471, 152941.176]           0       0.983784\n",
       "14  (152941.176, 164705.882]           0       0.983784\n",
       "15  (164705.882, 176470.588]           0       0.983784\n",
       "16  (176470.588, 188235.294]           0       0.983784"
      ]
     },
     "execution_count": 227,
     "metadata": {},
     "output_type": "execute_result"
    }
   ],
   "source": [
    "dados_frequencia_renda = dados_classifica_renda.faixa_salarial.value_counts().reset_index(name='frequencia')\n",
    "dados_frequencia_renda['porcentagem %'] = dados_classifica_renda.faixa_salarial.value_counts(normalize=True)#.mul(100).round(2)\n",
    "dados_frequencia_renda"
   ]
  },
  {
   "cell_type": "code",
   "execution_count": 228,
   "metadata": {
    "id": "wkl2gz47XttU"
   },
   "outputs": [
    {
     "ename": "SyntaxError",
     "evalue": "invalid syntax (1346793054.py, line 1)",
     "output_type": "error",
     "traceback": [
      "  \u001b[36mCell\u001b[39m\u001b[36m \u001b[39m\u001b[32mIn[228]\u001b[39m\u001b[32m, line 1\u001b[39m\n\u001b[31m    \u001b[39m\u001b[31msns.histplot(data=dados_classifica_renda, x=)\u001b[39m\n                                                ^\n\u001b[31mSyntaxError\u001b[39m\u001b[31m:\u001b[39m invalid syntax\n"
     ]
    }
   ],
   "source": [
    "sns.histplot(data=dados_classifica_renda, x=)"
   ]
  },
  {
   "cell_type": "code",
   "execution_count": null,
   "metadata": {
    "id": "P2yIL7HvXttU"
   },
   "outputs": [],
   "source": []
  },
  {
   "cell_type": "code",
   "execution_count": null,
   "metadata": {
    "id": "OqVelsvIXttV"
   },
   "outputs": [],
   "source": []
  },
  {
   "cell_type": "markdown",
   "metadata": {
    "id": "MRRzLUVVY3fz"
   },
   "source": [
    "> #### Conclusões\n",
    "\n",
    "Escreva suas conclusões aqui..."
   ]
  },
  {
   "cell_type": "markdown",
   "metadata": {
    "id": "CY3P_t7CiUmK"
   },
   "source": [
    "#### **Responda as seguintes questões sobre o nosso dataset completo utilizando os conceitos que estudamos até aqui:**"
   ]
  },
  {
   "cell_type": "markdown",
   "metadata": {
    "id": "1eRC8Ko0B-8u"
   },
   "source": [
    "##### **1. Qual o percentual de pessoas responsáveis que ganhava até um salário mínimo em 2015 (R$ 788,00)?**\n",
    "\n"
   ]
  },
  {
   "cell_type": "code",
   "execution_count": null,
   "metadata": {
    "id": "R7iobsP9XttV"
   },
   "outputs": [],
   "source": []
  },
  {
   "cell_type": "markdown",
   "metadata": {
    "id": "DG8AZfpRY3f3"
   },
   "source": [
    "##### **2. Qual a renda máxima de 95% das pessoas responsáveis na pesquisa?**\n"
   ]
  },
  {
   "cell_type": "code",
   "execution_count": null,
   "metadata": {
    "id": "YawjpiflXttW"
   },
   "outputs": [],
   "source": []
  },
  {
   "cell_type": "markdown",
   "metadata": {
    "id": "uPqMZkacY3f5"
   },
   "source": [
    "##### **3.   Qual a renda mínima dos 1% mais bem pagos da pesquisa?**"
   ]
  },
  {
   "cell_type": "code",
   "execution_count": null,
   "metadata": {
    "id": "B3Zeil0eXttW"
   },
   "outputs": [],
   "source": []
  },
  {
   "cell_type": "markdown",
   "metadata": {
    "id": "J8R5TK2_Y3f1"
   },
   "source": [
    "##### **4. Qual a renda máxima de 25%, 50% e 75% das pessoas responsáveis que receberam até R$ 6.000 de rendimento mensal? Construa o boxplot e traga o resumo desses dados.**\n"
   ]
  },
  {
   "cell_type": "code",
   "execution_count": null,
   "metadata": {
    "id": "j4-anz8SXttW"
   },
   "outputs": [],
   "source": []
  },
  {
   "cell_type": "code",
   "execution_count": null,
   "metadata": {
    "id": "VbzETKR2XttW"
   },
   "outputs": [],
   "source": []
  },
  {
   "cell_type": "code",
   "execution_count": null,
   "metadata": {
    "id": "KiN6NB7NXttW"
   },
   "outputs": [],
   "source": []
  },
  {
   "cell_type": "markdown",
   "metadata": {
    "id": "OEVJhNXlY3f6"
   },
   "source": [
    "> #### Conclusões\n",
    "\n",
    "Escreva suas conclusões aqui..."
   ]
  },
  {
   "cell_type": "markdown",
   "metadata": {
    "id": "ZGVF4ZrrY3f7"
   },
   "source": [
    "#### **Construa o boxplot da `Renda` até o percentil 95% (`renda_6k`) das pessoas responsáveis por `Cat.Sexo` e `Cat.Cor`. Interprete o resultado.**"
   ]
  },
  {
   "cell_type": "markdown",
   "metadata": {
    "id": "hmcRkp8GHsT3"
   },
   "source": [
    "**Dica:** Para incluir uma 3ª variável na construção de um boxplot, utilize o parâmetro `hue` da seguinte maneira: `(x = Renda, y = Cat.Cor, hue = Cat.Sexo)`."
   ]
  },
  {
   "cell_type": "code",
   "execution_count": null,
   "metadata": {
    "id": "WBOTVg-lXttX"
   },
   "outputs": [],
   "source": []
  },
  {
   "cell_type": "markdown",
   "metadata": {
    "id": "u5QwAmCdlsW_"
   },
   "source": [
    "#### **Qual a idade limite para 20% da população? Construa o histograma acumulado com curva de densidade, definindo a idade limite e quantas pessoas se encaixam nessa porcentagem.**"
   ]
  },
  {
   "cell_type": "markdown",
   "metadata": {
    "id": "xtzRs-kPJnoX"
   },
   "source": [
    "**Dica:** Para ler os últimos valores de um DataFrame utilize a função `tail()`.\n",
    "\n",
    "Exemplo: `df.tail(3)` lê os ultimos 3 registros do DataFrame `df`."
   ]
  },
  {
   "cell_type": "code",
   "execution_count": null,
   "metadata": {
    "id": "TyQV3zwIXttY"
   },
   "outputs": [],
   "source": []
  },
  {
   "cell_type": "code",
   "execution_count": null,
   "metadata": {
    "id": "Zm_zltjkXttY"
   },
   "outputs": [],
   "source": []
  },
  {
   "cell_type": "code",
   "execution_count": null,
   "metadata": {
    "id": "h9OcEyx5XttY"
   },
   "outputs": [],
   "source": []
  },
  {
   "cell_type": "code",
   "execution_count": null,
   "metadata": {
    "id": "0ss0U2TKXttY"
   },
   "outputs": [],
   "source": []
  },
  {
   "cell_type": "code",
   "execution_count": null,
   "metadata": {
    "id": "c-8l5oecXttZ"
   },
   "outputs": [],
   "source": []
  },
  {
   "cell_type": "code",
   "execution_count": null,
   "metadata": {
    "id": "k84MfaZrXttZ"
   },
   "outputs": [],
   "source": []
  },
  {
   "cell_type": "code",
   "execution_count": null,
   "metadata": {
    "id": "-IATmc0gXttZ"
   },
   "outputs": [],
   "source": []
  },
  {
   "cell_type": "markdown",
   "metadata": {
    "id": "4D6YPAnvY3f-"
   },
   "source": [
    "> #### Conclusões\n",
    "\n",
    "Escreva suas conclusões aqui..."
   ]
  },
  {
   "cell_type": "markdown",
   "metadata": {
    "id": "8oiQ6DsahpRv"
   },
   "source": [
    "## **Aula 05 - Analisando a variação dos dados**"
   ]
  },
  {
   "cell_type": "markdown",
   "metadata": {
    "id": "41X1NLZpi9Z_"
   },
   "source": [
    "### **Mão na Massa - Analisando a variação da Renda das pessoas responsáveis**"
   ]
  },
  {
   "cell_type": "markdown",
   "metadata": {
    "id": "iBC8rHu8MJw5"
   },
   "source": [
    "Nesta última etapa do treinamento, vamos analisar os dados de renda das pessoas responsáveis pelo domicílio de acordo com os dados da PNAD de 2015, calculando a variação desta para determinadas características da amostra. Responda às perguntas abaixo e reflita sobre os achados.\n"
   ]
  },
  {
   "cell_type": "markdown",
   "metadata": {
    "id": "_M9dh9-Bnnak"
   },
   "source": [
    "#### **Responda as seguintes questões sobre o nosso dataset utilizando os conceitos que estudamos até aqui:**"
   ]
  },
  {
   "cell_type": "markdown",
   "metadata": {
    "id": "s3M82GT_nnal"
   },
   "source": [
    "##### **1.   Qual o desvio médio absoluto, a variância e desvio padrão da renda das pessoas responsáveis na pesquisa?**\n",
    "\n",
    "\n",
    "\n"
   ]
  },
  {
   "cell_type": "code",
   "execution_count": null,
   "metadata": {
    "id": "WTyxha0KXttd"
   },
   "outputs": [],
   "source": []
  },
  {
   "cell_type": "markdown",
   "metadata": {
    "id": "6F0H8I-MdhB9"
   },
   "source": [
    "##### **2. Construa uma tabela com a média, mediana e desvio padrão para a renda das pessoas em relação aos Anos de Estudo. O que podemos interpretar com esses dados?**"
   ]
  },
  {
   "cell_type": "code",
   "execution_count": null,
   "metadata": {
    "id": "fHD3A9zjXtte"
   },
   "outputs": [],
   "source": []
  },
  {
   "cell_type": "markdown",
   "metadata": {
    "id": "BUI1Zps3eseQ"
   },
   "source": [
    "> #### Conclusões\n",
    "\n",
    "Escreva suas conclusões aqui..."
   ]
  },
  {
   "cell_type": "markdown",
   "metadata": {
    "id": "upuAC7ZuddUd"
   },
   "source": [
    "##### **3.   Construa uma tabela com a média, mediana e desvio padrão para a renda das pessoas do sexo biológico masculino e feminino até R$ 15.000. O que podemos interpretar com esses dados?**"
   ]
  },
  {
   "cell_type": "code",
   "execution_count": null,
   "metadata": {
    "id": "_APol7btXttf"
   },
   "outputs": [],
   "source": []
  },
  {
   "cell_type": "markdown",
   "metadata": {
    "id": "4EcHVWU3etkV"
   },
   "source": [
    "> #### Conclusões\n",
    "\n",
    "Escreva suas conclusões aqui..."
   ]
  },
  {
   "cell_type": "markdown",
   "metadata": {
    "id": "Z-zoKBPRnnal"
   },
   "source": [
    "#### **Construa um boxplot da `Renda` dos estados da Região Centro-Oeste até R$ 10.000 segundo o `Cat.Sexo`. Para interpretar o resultado construa 3 tabelas com cada uma das estatísticas descritivas (média, mediana e desvio padrão).**"
   ]
  },
  {
   "cell_type": "code",
   "execution_count": null,
   "metadata": {
    "id": "sOQE8rbkXttf"
   },
   "outputs": [],
   "source": []
  },
  {
   "cell_type": "code",
   "execution_count": null,
   "metadata": {
    "id": "-RXYntHRXttf"
   },
   "outputs": [],
   "source": []
  },
  {
   "cell_type": "markdown",
   "metadata": {
    "id": "RSyeOjU3oA6t"
   },
   "source": [
    "##### **Média**"
   ]
  },
  {
   "cell_type": "code",
   "execution_count": null,
   "metadata": {
    "id": "BgCrJDFtXttg"
   },
   "outputs": [],
   "source": []
  },
  {
   "cell_type": "markdown",
   "metadata": {
    "id": "-IAhXYjDoDjU"
   },
   "source": [
    "##### **Mediana**"
   ]
  },
  {
   "cell_type": "code",
   "execution_count": null,
   "metadata": {
    "id": "A1-P7p3yXttg"
   },
   "outputs": [],
   "source": []
  },
  {
   "cell_type": "markdown",
   "metadata": {
    "id": "TaiN5Uk9oG1D"
   },
   "source": [
    "##### **Desvio Padrão**"
   ]
  },
  {
   "cell_type": "code",
   "execution_count": null,
   "metadata": {
    "id": "fG2n4hMPXttg"
   },
   "outputs": [],
   "source": []
  },
  {
   "cell_type": "markdown",
   "metadata": {
    "id": "Yvhlg_qWewNB"
   },
   "source": [
    "> #### Conclusões\n",
    "\n",
    "Escreva suas conclusões aqui..."
   ]
  }
 ],
 "metadata": {
  "colab": {
   "collapsed_sections": [
    "pTpoxoY7-roj"
   ],
   "provenance": []
  },
  "kernelspec": {
   "display_name": ".venv",
   "language": "python",
   "name": "python3"
  },
  "language_info": {
   "codemirror_mode": {
    "name": "ipython",
    "version": 3
   },
   "file_extension": ".py",
   "mimetype": "text/x-python",
   "name": "python",
   "nbconvert_exporter": "python",
   "pygments_lexer": "ipython3",
   "version": "3.11.2"
  },
  "orig_nbformat": 4
 },
 "nbformat": 4,
 "nbformat_minor": 0
}
