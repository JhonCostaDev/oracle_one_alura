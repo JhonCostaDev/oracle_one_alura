{
 "cells": [
  {
   "cell_type": "markdown",
   "metadata": {
    "id": "qxah03ikONCD"
   },
   "source": [
    "# **Sobre o notebook**\n",
    "\n",
    "Aproveite esse espaço para as atividades do curso de **Estatística com Python: resumindo e analisando dados** da Alura. Aqui você pode escrever e testar os códigos dos diversos exercícios do **Mão na Massa** envolvendo os aprendizados de cada aula.\n",
    "\n",
    "Utilizando os conhecimentos adquiridos ao longo do curso, você precisará realizar uma **análise descritiva** básica de um conjunto de dados retirados da **Pesquisa Nacional por Amostra de Domicílios - 2015** do IBGE.\n",
    "\n",
    "Nele, você irá avaliar os tipos dos dados e suas distribuições, calcular as medidas de tendência central, medidas separatrizes e de dispersão dos dados e construirá visuais como histogramas, boxplot, entre outras para responder às perguntas.\n",
    "\n",
    "Este notebook foi construído com espaços para adicionar as células dos desafios propostos no curso, com eles você tem espaço para construir e executar suas soluções.\n",
    "\n",
    "\n",
    "\n"
   ]
  },
  {
   "cell_type": "markdown",
   "metadata": {
    "id": "ouMWQS5PkxIr"
   },
   "source": [
    "## **Dataset do Projeto**"
   ]
  },
  {
   "cell_type": "markdown",
   "metadata": {
    "id": "eeErXl4El6tC"
   },
   "source": [
    "O conjunto de dados que será explorado aqui é uma adaptação dos dados da **Pesquisa Nacional por Amostra de Domicílios - PNAD**. Ela investiga anualmente, de forma permanente, características gerais da população, de educação, trabalho, rendimento e habitação e outras, com periodicidade variável, de acordo com as necessidades de informação para o país, como as características sobre migração, fecundidade, nupcialidade, saúde, segurança alimentar, entre outros temas.\n",
    "\n",
    "O levantamento dessas estatísticas constitui, ao longo dos 49 anos de realização da pesquisa, um importante instrumento para formulação, validação e avaliação de políticas orientadas para o desenvolvimento socioeconômico e a melhoria das condições de vida no Brasil."
   ]
  },
  {
   "cell_type": "markdown",
   "metadata": {
    "id": "_vpi0QThnfJ6"
   },
   "source": [
    "### **Fonte dos Dados**\n",
    "\n",
    "https://www.ibge.gov.br/estatisticas/sociais/populacao/9127-pesquisa-nacional-por-amostra-de-domicilios.html?edicao=9128"
   ]
  },
  {
   "cell_type": "markdown",
   "metadata": {
    "id": "zrMeV3e5rQxd"
   },
   "source": [
    "### **Variáveis do dataset**\n",
    "\n",
    "> ### UF\n",
    "> ***\n",
    "\n",
    "Unidade federativa da pessoa responsável\n",
    "\n",
    "> ### Sexo\n",
    "> ***\n",
    "\n",
    "Sexo biológico da pessoa responsável\n",
    "\n",
    "<br>\n",
    "\n",
    "|Código|Descrição|\n",
    "|---|---|\n",
    "|0|Masculino|\n",
    "|1|Feminino|\n",
    "\n",
    "> ### Idade\n",
    "> ***\n",
    "\n",
    "Idade da pessoa responsável na data de referência em anos.\n",
    "\n",
    "> ### Cor\n",
    "> ***\n",
    "\n",
    "Cor ou raça da pessoa responsável com base na autodeclaração\n",
    "\n",
    "<br>\n",
    "\n",
    "|Código|Descrição|\n",
    "|---|---|\n",
    "|0|Indígena|\n",
    "|2|Branca|\n",
    "|4|Preta|\n",
    "|6|Amarela|\n",
    "|8|Parda|\n",
    "\n",
    "> ### Anos de Estudo\n",
    "> ***\n",
    "\n",
    "Anos de estudo da pessoa responsável\n",
    "\n",
    "<br>\n",
    "\n",
    "|Código|Descrição|\n",
    "|---|---|\n",
    "|1|Sem instrução e menos de 1 ano|\n",
    "|2|1 ano|\n",
    "|3|2 anos|\n",
    "|4|3 anos|\n",
    "|5|4 anos|\n",
    "|6|5 anos|\n",
    "|7|6 anos|\n",
    "|8|7 anos|\n",
    "|9|8 anos|\n",
    "|10|9 anos|\n",
    "|11|10 anos|\n",
    "|12|11 anos|\n",
    "|13|12 anos|\n",
    "|14|13 anos|\n",
    "|15|14 anos|\n",
    "|16|15 anos ou mais|\n",
    "|17|Não determinados|\n",
    "\n",
    "> ### Renda\n",
    "> ***\n",
    "\n",
    "Rendimento mensal do trabalho principal da pessoa responsável para 10 anos ou mais de idade.\n",
    "\n",
    "> ### Altura (elaboração própria - dado sintético)\n",
    "> ***\n",
    "\n",
    "Altura da pessoa responsável em metros."
   ]
  },
  {
   "cell_type": "markdown",
   "metadata": {
    "id": "sIlkOh1BvGsM"
   },
   "source": [
    "#### <font color='red'>Observação</font>\n",
    "***\n",
    "> Os seguintes tratamentos foram realizados nos dados originais:\n",
    "> 1. Foram eliminados os registros onde a **Renda** era inválida (999 999 999 999);\n",
    "> 2. Foram eliminados os registros onde a **Renda** era missing;\n",
    "> 3. Foram considerados somente os registros das **Pessoas de Referência** de cada domicílio (responsável pelo domicílio)."
   ]
  },
  {
   "cell_type": "markdown",
   "metadata": {
    "id": "IA3M1eso_L2Z"
   },
   "source": [
    "## **Aula 01 - Entendendo os dados**"
   ]
  },
  {
   "cell_type": "markdown",
   "metadata": {
    "id": "AmpR_VE4CImQ"
   },
   "source": [
    "### **Mão na Massa - Explorando novos dados**\n",
    "\n",
    "\n"
   ]
  },
  {
   "cell_type": "markdown",
   "metadata": {
    "id": "k2YfI6iDYmo4"
   },
   "source": [
    "Você está treinando para ser uma pessoa cientista de dados e recebeu a demanda de investigar os dados da PNAD de 2015. A fim de testar as suas habilidades de análise de dados e os conceitos da estatística descritiva, responda às perguntas ao longo do notebook compartilhado."
   ]
  },
  {
   "cell_type": "markdown",
   "metadata": {
    "id": "QDUU7jVGiMiZ"
   },
   "source": [
    "#### **Importando os pacotes e configurando o ambiente**"
   ]
  },
  {
   "cell_type": "code",
   "execution_count": 1,
   "metadata": {
    "id": "ZruvypSoO6oP"
   },
   "outputs": [],
   "source": [
    "# Importando os pacotes do projeto\n",
    "import pandas as pd\n",
    "import numpy as np\n",
    "import seaborn as sns\n",
    "import matplotlib.pyplot as plt"
   ]
  },
  {
   "cell_type": "markdown",
   "metadata": {
    "id": "MqXopokVzjV8"
   },
   "source": [
    "#### **Importe o dataset e armazene o conteúdo em um DataFrame**"
   ]
  },
  {
   "cell_type": "markdown",
   "metadata": {
    "id": "pr2UTRm70Tsq"
   },
   "source": [
    "**Dica:** Passe a url para a função que lê um arquivo do tipo `.csv`"
   ]
  },
  {
   "cell_type": "code",
   "execution_count": 56,
   "metadata": {
    "id": "cndAfPzKzjBs"
   },
   "outputs": [],
   "source": [
    "url = \"https://raw.githubusercontent.com/alura-cursos/Estatisticas-Python-frequencias-medidas/refs/heads/main/dados/dados_desafio.csv\"\n",
    "dados = pd.read_csv(url)"
   ]
  },
  {
   "cell_type": "markdown",
   "metadata": {
    "id": "CKddW-tNzuP1"
   },
   "source": [
    "#### **Visualize o conteúdo do DataFrame e leia as infos sobre os dados (linhas, colunas, tipos)**"
   ]
  },
  {
   "cell_type": "markdown",
   "metadata": {
    "id": "exRQ_Tuf0jrD"
   },
   "source": [
    "**Dica:** Para observar as infos dos dados, utilize a função `info`"
   ]
  },
  {
   "cell_type": "code",
   "execution_count": 57,
   "metadata": {
    "id": "OLc-_Q4oXttA"
   },
   "outputs": [
    {
     "name": "stdout",
     "output_type": "stream",
     "text": [
      "<class 'pandas.core.frame.DataFrame'>\n",
      "RangeIndex: 76840 entries, 0 to 76839\n",
      "Data columns (total 7 columns):\n",
      " #   Column          Non-Null Count  Dtype  \n",
      "---  ------          --------------  -----  \n",
      " 0   UF              76840 non-null  object \n",
      " 1   Sexo            76840 non-null  int64  \n",
      " 2   Idade           76840 non-null  int64  \n",
      " 3   Cor             76840 non-null  int64  \n",
      " 4   Anos.de.Estudo  76840 non-null  int64  \n",
      " 5   Renda           76840 non-null  int64  \n",
      " 6   Altura          76840 non-null  float64\n",
      "dtypes: float64(1), int64(5), object(1)\n",
      "memory usage: 4.1+ MB\n"
     ]
    }
   ],
   "source": [
    "# Info geral do dataset\n",
    "dados.info()"
   ]
  },
  {
   "cell_type": "code",
   "execution_count": 58,
   "metadata": {
    "id": "NVm1btZMXttA"
   },
   "outputs": [
    {
     "data": {
      "text/plain": [
       "Index(['UF', 'Sexo', 'Idade', 'Cor', 'Anos.de.Estudo', 'Renda', 'Altura'], dtype='object')"
      ]
     },
     "execution_count": 58,
     "metadata": {},
     "output_type": "execute_result"
    }
   ],
   "source": [
    "dados.columns"
   ]
  },
  {
   "cell_type": "code",
   "execution_count": 59,
   "metadata": {},
   "outputs": [
    {
     "data": {
      "text/plain": [
       "UF                  27\n",
       "Sexo                 2\n",
       "Idade               84\n",
       "Cor                  5\n",
       "Anos.de.Estudo      17\n",
       "Renda             1606\n",
       "Altura              67\n",
       "dtype: int64"
      ]
     },
     "execution_count": 59,
     "metadata": {},
     "output_type": "execute_result"
    }
   ],
   "source": [
    "# Valores unicos por coluna\n",
    "dados.nunique()"
   ]
  },
  {
   "cell_type": "markdown",
   "metadata": {
    "id": "RAmtjJFi0-ni"
   },
   "source": [
    "#### **Explore brevemente a variável `UF` e investigue quantos dados possuímos para cada estado**"
   ]
  },
  {
   "cell_type": "markdown",
   "metadata": {
    "id": "FeK6odCN9O1m"
   },
   "source": [
    "**Dica:** Para explorar, utilize as funções `unique`, `value_counts`, `reset_index` e `barplot`\n",
    "\n"
   ]
  },
  {
   "cell_type": "code",
   "execution_count": 60,
   "metadata": {},
   "outputs": [
    {
     "data": {
      "text/html": [
       "<div>\n",
       "<style scoped>\n",
       "    .dataframe tbody tr th:only-of-type {\n",
       "        vertical-align: middle;\n",
       "    }\n",
       "\n",
       "    .dataframe tbody tr th {\n",
       "        vertical-align: top;\n",
       "    }\n",
       "\n",
       "    .dataframe thead th {\n",
       "        text-align: right;\n",
       "    }\n",
       "</style>\n",
       "<table border=\"1\" class=\"dataframe\">\n",
       "  <thead>\n",
       "    <tr style=\"text-align: right;\">\n",
       "      <th></th>\n",
       "      <th>estado</th>\n",
       "      <th>genero</th>\n",
       "      <th>idade</th>\n",
       "      <th>etnia</th>\n",
       "      <th>anos_estudos</th>\n",
       "      <th>renda</th>\n",
       "      <th>altura</th>\n",
       "    </tr>\n",
       "  </thead>\n",
       "  <tbody>\n",
       "    <tr>\n",
       "      <th>0</th>\n",
       "      <td>Rondônia</td>\n",
       "      <td>0</td>\n",
       "      <td>23</td>\n",
       "      <td>8</td>\n",
       "      <td>12</td>\n",
       "      <td>800</td>\n",
       "      <td>1.60</td>\n",
       "    </tr>\n",
       "    <tr>\n",
       "      <th>1</th>\n",
       "      <td>Rondônia</td>\n",
       "      <td>1</td>\n",
       "      <td>23</td>\n",
       "      <td>2</td>\n",
       "      <td>12</td>\n",
       "      <td>1150</td>\n",
       "      <td>1.74</td>\n",
       "    </tr>\n",
       "    <tr>\n",
       "      <th>2</th>\n",
       "      <td>Rondônia</td>\n",
       "      <td>1</td>\n",
       "      <td>35</td>\n",
       "      <td>8</td>\n",
       "      <td>15</td>\n",
       "      <td>880</td>\n",
       "      <td>1.76</td>\n",
       "    </tr>\n",
       "    <tr>\n",
       "      <th>3</th>\n",
       "      <td>Rondônia</td>\n",
       "      <td>0</td>\n",
       "      <td>46</td>\n",
       "      <td>2</td>\n",
       "      <td>6</td>\n",
       "      <td>3500</td>\n",
       "      <td>1.78</td>\n",
       "    </tr>\n",
       "    <tr>\n",
       "      <th>4</th>\n",
       "      <td>Rondônia</td>\n",
       "      <td>1</td>\n",
       "      <td>47</td>\n",
       "      <td>8</td>\n",
       "      <td>9</td>\n",
       "      <td>150</td>\n",
       "      <td>1.69</td>\n",
       "    </tr>\n",
       "  </tbody>\n",
       "</table>\n",
       "</div>"
      ],
      "text/plain": [
       "     estado  genero  idade  etnia  anos_estudos  renda  altura\n",
       "0  Rondônia       0     23      8            12    800    1.60\n",
       "1  Rondônia       1     23      2            12   1150    1.74\n",
       "2  Rondônia       1     35      8            15    880    1.76\n",
       "3  Rondônia       0     46      2             6   3500    1.78\n",
       "4  Rondônia       1     47      8             9    150    1.69"
      ]
     },
     "execution_count": 60,
     "metadata": {},
     "output_type": "execute_result"
    }
   ],
   "source": [
    "# Renomeando as colunas para facilitar a manipulação\n",
    "old_columns = dados.columns\n",
    "new_columns = ['estado', 'genero', 'idade', 'etnia', 'anos_estudos', 'renda', 'altura']\n",
    "\n",
    "dados.rename(columns=dict(zip(old_columns, new_columns)), inplace=True)\n",
    "dados.head()"
   ]
  },
  {
   "cell_type": "code",
   "execution_count": 61,
   "metadata": {},
   "outputs": [
    {
     "data": {
      "image/png": "[encoded data removed]",
      "text/plain": [
       "<Figure size 1000x600 with 1 Axes>"
      ]
     },
     "metadata": {},
     "output_type": "display_data"
    }
   ],
   "source": [
    "# Dados por estado\n",
    "dados_estado = dados.estado.value_counts().sort_values(ascending=True).reset_index(name='quantidade')\n",
    "\n",
    "sns.set_style(\"darkgrid\")\n",
    "\n",
    "plt.figure(figsize=(10, 6))\n",
    "ax = sns.barplot(data=dados_estado, x='quantidade', y='estado',hue='estado', palette='Purples')\n",
    "\n",
    "for container in ax.containers:\n",
    "    ax.bar_label(container=container, fmt='%.0f', label_type='edge', padding=3)\n",
    "\n",
    "ax.set_title(\"Quantidade de Dados por Estado da Federação\", fontdict={'fontsize': 18, 'color':'darkblue', 'fontweight': 'bold'})\n",
    "ax.set_xlabel(\"Quantidade\")\n",
    "ax.set_ylabel(\"Estado da federação\")\n",
    "\n",
    "plt.show()\n"
   ]
  },
  {
   "cell_type": "code",
   "execution_count": null,
   "metadata": {
    "id": "7thCb1O1XttB"
   },
   "outputs": [],
   "source": []
  },
  {
   "cell_type": "code",
   "execution_count": null,
   "metadata": {
    "id": "-M7-GwhVXttB"
   },
   "outputs": [],
   "source": []
  },
  {
   "cell_type": "markdown",
   "metadata": {
    "id": "8fTFk94y-ZUK"
   },
   "source": [
    "#### **Transforme as variáveis `Sexo`, `Cor` e `Anos.de.Estudo` em Categorical e observe o resultado**"
   ]
  },
  {
   "cell_type": "markdown",
   "metadata": {
    "id": "UUIelOM4-s9J"
   },
   "source": [
    "**Dica 1:** Para te auxiliar neste processo, a célula abaixo traz os vetores com os valores de cada coluna na ordem desejada.\n",
    "\n",
    "**Dica 2:** Utilize a tabela no início do documento para fazer a relação dos valores atuais para os desejados."
   ]
  },
  {
   "cell_type": "code",
   "execution_count": 62,
   "metadata": {
    "id": "P2QOn38uXttB"
   },
   "outputs": [],
   "source": [
    "# Definindo as variáveis\n",
    "sexo = {0: 'Masculino', 1: 'Feminino'}\n",
    "\n",
    "cor = {0:'Indígena', 2:'Branca', 4:'Preta', 6:'Amarela', 8:'Parda'}\n",
    "\n",
    "anos_de_estudo = {1:'Sem instrução e menos de 1 ano', 2:'1 ano', 3:'2 anos', 4:'3 anos', 5:'4 anos', 6:'5 anos',\n",
    "    7:'6 anos', 8:'7 anos', 9:'8 anos', 10:'9 anos', 11:'10 anos', 12:'11 anos', 13:'12 anos',14:'13 anos',\n",
    "    15:'14 anos', 16:'15 anos ou mais', 17:'Não determinados'\n",
    "}"
   ]
  },
  {
   "cell_type": "markdown",
   "metadata": {
    "id": "oNXrD7nYbu9L"
   },
   "source": [
    "##### Sexo"
   ]
  },
  {
   "cell_type": "code",
   "execution_count": 63,
   "metadata": {
    "id": "IoLIMTCyXttC"
   },
   "outputs": [
    {
     "data": {
      "text/plain": [
       "genero\n",
       "Masculino    53250\n",
       "Feminino     23590\n",
       "Name: count, dtype: int64"
      ]
     },
     "execution_count": 63,
     "metadata": {},
     "output_type": "execute_result"
    }
   ],
   "source": [
    "dados.genero = dados.genero.map(sexo)\n",
    "dados.genero = dados.genero.astype('category')\n",
    "dados.genero.value_counts()"
   ]
  },
  {
   "cell_type": "code",
   "execution_count": 64,
   "metadata": {
    "id": "Dl4hvWsDXttC"
   },
   "outputs": [
    {
     "data": {
      "text/plain": [
       "CategoricalDtype(categories=['Feminino', 'Masculino'], ordered=False, categories_dtype=object)"
      ]
     },
     "execution_count": 64,
     "metadata": {},
     "output_type": "execute_result"
    }
   ],
   "source": [
    "dados.genero.dtype"
   ]
  },
  {
   "cell_type": "code",
   "execution_count": 91,
   "metadata": {
    "id": "xzR96CjyXttC"
   },
   "outputs": [
    {
     "data": {
      "image/png": "[encoded data removed]",
      "text/plain": [
       "<Figure size 1000x600 with 1 Axes>"
      ]
     },
     "metadata": {},
     "output_type": "display_data"
    }
   ],
   "source": [
    "# Proporcao\n",
    "proporcao_chefe_familia = dados.genero.value_counts(normalize=True).mul(100).round(2)\n",
    "cores = ['#89CFF0', '#E8A2D9']\n",
    "plt.figure(figsize=(10, 6), facecolor=\"#c9c9c5ef\")\n",
    "plt.pie(proporcao_chefe_familia, labels=proporcao_chefe_familia.keys(), autopct='%1.1f%%', startangle=90, explode=[0, 0.1], colors=cores, wedgeprops={'edgecolor': 'black', 'linewidth': 1})\n",
    "\n",
    "plt.title(\"Distribuição de Homens e Mulheres na Pesquisa\",fontdict={'fontsize': 18, 'color':'darkblue', 'fontweight': 'bold'})\n",
    "plt.show()"
   ]
  },
  {
   "cell_type": "code",
   "execution_count": null,
   "metadata": {
    "id": "Y7VCyOZXXttC"
   },
   "outputs": [
    {
     "data": {
      "text/plain": [
       "['Masculino', 'Feminino']"
      ]
     },
     "execution_count": 74,
     "metadata": {},
     "output_type": "execute_result"
    }
   ],
   "source": []
  },
  {
   "cell_type": "markdown",
   "metadata": {
    "id": "qrrZ2J9kcCFl"
   },
   "source": [
    "##### Cor"
   ]
  },
  {
   "cell_type": "code",
   "execution_count": 93,
   "metadata": {
    "id": "_py-S1n4XttC"
   },
   "outputs": [
    {
     "data": {
      "text/plain": [
       "etnia\n",
       "Parda       35925\n",
       "Branca      31815\n",
       "Preta        8391\n",
       "Indígena      357\n",
       "Amarela       352\n",
       "Name: count, dtype: int64"
      ]
     },
     "execution_count": 93,
     "metadata": {},
     "output_type": "execute_result"
    }
   ],
   "source": [
    "dados.etnia = dados.etnia.map(cor)\n",
    "dados.etnia.value_counts()"
   ]
  },
  {
   "cell_type": "code",
   "execution_count": 111,
   "metadata": {
    "id": "aaICZDtuXttC"
   },
   "outputs": [
    {
     "data": {
      "image/png": "[encoded data removed]",
      "text/plain": [
       "<Figure size 640x480 with 1 Axes>"
      ]
     },
     "metadata": {},
     "output_type": "display_data"
    }
   ],
   "source": [
    "div_etnica = dados.etnia.value_counts(normalize=True).mul(100).round(2).reset_index(name='porcentagem')\n",
    "\n",
    "cores_etnia = {\n",
    "    'Parda': '#C68642',\n",
    "    'Branca': \"#C9C4C4\",\n",
    "    'Preta': '#1C1C1C',\n",
    "    'Indígena': '#A0522D',\n",
    "    'Amarela': '#FFD700'\n",
    "}\n",
    "ax = sns.barplot(data=div_etnica, x='etnia', y='porcentagem',hue='etnia', palette=cores_etnia)\n",
    "\n",
    "for container in ax.containers:\n",
    "    ax.bar_label(container=container, fmt='%.2f', label_type='edge', padding=3)\n",
    "\n",
    "ax.set_title(\"Divisão Étnica da Pesquisa\")\n",
    "ax.set_ylabel(\"Porcentagem %\")\n",
    "ax.set_xlabel(\"Étnia\")\n",
    "plt.show()"
   ]
  },
  {
   "cell_type": "markdown",
   "metadata": {
    "id": "ssIG-8t6cE5r"
   },
   "source": [
    "##### Anos de Estudo"
   ]
  },
  {
   "cell_type": "code",
   "execution_count": null,
   "metadata": {
    "id": "qow6gO1oXttD"
   },
   "outputs": [],
   "source": [
    "# Crio uma lista com os valores ordenados\n",
    "valores_ordenados = sorted(dados.anos_estudos.unique())\n",
    "\n",
    "# Passando os dados para o pd.Categorical\n",
    "dados.anos_estudos = pd.Categorical(\n",
    "    dados.anos_estudos,\n",
    "    categories=valores_ordenados,\n",
    "    ordered=True\n",
    ")"
   ]
  },
  {
   "cell_type": "code",
   "execution_count": 120,
   "metadata": {
    "id": "xLxEV5HYXttD"
   },
   "outputs": [],
   "source": [
    "dados.anos_estudos= dados.anos_estudos.map(anos_de_estudo)"
   ]
  },
  {
   "cell_type": "code",
   "execution_count": 131,
   "metadata": {
    "id": "i4C4N9F4XttH"
   },
   "outputs": [
    {
     "data": {
      "image/png": "[encoded data removed]",
      "text/plain": [
       "<Figure size 640x480 with 1 Axes>"
      ]
     },
     "metadata": {},
     "output_type": "display_data"
    }
   ],
   "source": [
    "div_anos_estudos = dados.anos_estudos.value_counts(normalize=True).mul(100).round(2).reset_index(name='porcentagem')\n",
    "\n",
    "ax = sns.barplot(data=div_anos_estudos, x='porcentagem', y='anos_estudos',hue='anos_estudos')\n",
    "\n",
    "for container in ax.containers:\n",
    "    ax.bar_label(container=container, fmt='%.2f', label_type='edge', padding=3)\n",
    "\n",
    "ax.set_title(\"Proporção dos anos de estudos\")\n",
    "ax.set_xlabel(\"Porcentagem %\")\n",
    "ax.set_ylabel(\"Anos Estudados\")\n",
    "plt.show()"
   ]
  },
  {
   "cell_type": "markdown",
   "metadata": {
    "id": "kZO79aSSgp7w"
   },
   "source": [
    "#### **Apresente em texto a menor e maior `Renda` da base de dados**"
   ]
  },
  {
   "cell_type": "markdown",
   "metadata": {
    "id": "L3vbQxRRiMF0"
   },
   "source": [
    "**Dica:** A renda é uma medida discreta. Utilizamos f-strings para formatar a string de forma mais legível e eficiente, substituindo diretamente as variáveis dentro da string"
   ]
  },
  {
   "cell_type": "code",
   "execution_count": 138,
   "metadata": {
    "id": "E93TUzf0XttI"
   },
   "outputs": [
    {
     "name": "stdout",
     "output_type": "stream",
     "text": [
      "A renda mínima da pesquisa foi: 0.00 enquanto a renda máxima foi: 200,000.00\n"
     ]
    }
   ],
   "source": [
    "renda_min = dados.renda.min()\n",
    "renda_max = dados.renda.max()\n",
    "\n",
    "\n",
    "print(f\"A renda mínima da pesquisa foi: {renda_min:,.2f} enquanto a renda máxima foi: {renda_max:,.2f}\")\n"
   ]
  },
  {
   "cell_type": "markdown",
   "metadata": {
    "id": "ix1N_JAH_T1C"
   },
   "source": [
    "## **Aula 02 - Identificando o perfil do público**"
   ]
  },
  {
   "cell_type": "markdown",
   "metadata": {
    "id": "J_4eNIp7i6Rh"
   },
   "source": [
    "### **Mão na Massa - Analisando o perfil das pessoas responsáveis**"
   ]
  },
  {
   "cell_type": "markdown",
   "metadata": {
    "id": "0rBGP9HaAQJj"
   },
   "source": [
    "Vamos prosseguir no treinamento, agora identificando o perfil das pessoas responsáveis pelo domicílio de acordo com os dados da PNAD de 2015. Responda às perguntas abaixo e reflita sobre os achados."
   ]
  },
  {
   "cell_type": "markdown",
   "metadata": {
    "id": "IMiAX2onkchv"
   },
   "source": [
    "#### **Construa uma tabela de frequências das pessoas responsáveis pelo domicílio por `Cat.Sexo`. Adicione também uma coluna com esse valor em porcentagem.**"
   ]
  },
  {
   "cell_type": "code",
   "execution_count": 145,
   "metadata": {
    "id": "wFMEzZ_qXttI"
   },
   "outputs": [
    {
     "data": {
      "text/html": [
       "<div>\n",
       "<style scoped>\n",
       "    .dataframe tbody tr th:only-of-type {\n",
       "        vertical-align: middle;\n",
       "    }\n",
       "\n",
       "    .dataframe tbody tr th {\n",
       "        vertical-align: top;\n",
       "    }\n",
       "\n",
       "    .dataframe thead th {\n",
       "        text-align: right;\n",
       "    }\n",
       "</style>\n",
       "<table border=\"1\" class=\"dataframe\">\n",
       "  <thead>\n",
       "    <tr style=\"text-align: right;\">\n",
       "      <th></th>\n",
       "      <th>genero</th>\n",
       "      <th>frequencia_abs</th>\n",
       "      <th>frequencia_relativa %</th>\n",
       "    </tr>\n",
       "  </thead>\n",
       "  <tbody>\n",
       "    <tr>\n",
       "      <th>0</th>\n",
       "      <td>Masculino</td>\n",
       "      <td>53250</td>\n",
       "      <td>69.3</td>\n",
       "    </tr>\n",
       "    <tr>\n",
       "      <th>1</th>\n",
       "      <td>Feminino</td>\n",
       "      <td>23590</td>\n",
       "      <td>30.7</td>\n",
       "    </tr>\n",
       "  </tbody>\n",
       "</table>\n",
       "</div>"
      ],
      "text/plain": [
       "      genero  frequencia_abs  frequencia_relativa %\n",
       "0  Masculino           53250                   69.3\n",
       "1   Feminino           23590                   30.7"
      ]
     },
     "execution_count": 145,
     "metadata": {},
     "output_type": "execute_result"
    }
   ],
   "source": [
    "tab_frequencias_genero = dados.genero.value_counts().reset_index(name='frequencia_abs')\n",
    "tab_frequencias_genero['frequencia_relativa %'] = round(tab_frequencias_genero.frequencia_abs/tab_frequencias_genero.frequencia_abs.sum()*100, 2)\n",
    "\n",
    "tab_frequencias_genero"
   ]
  },
  {
   "cell_type": "code",
   "execution_count": null,
   "metadata": {
    "id": "K6DkUjl0XttJ"
   },
   "outputs": [],
   "source": []
  },
  {
   "cell_type": "markdown",
   "metadata": {
    "id": "oN452vflnRlO"
   },
   "source": [
    "#### **Construa uma tabela de frequências absolutas e outra de relativas cruzando as variáveis `Cat.Sexo` e `Cat.Cor` das pessoas responsáveis pelo domicílio.**"
   ]
  },
  {
   "cell_type": "code",
   "execution_count": null,
   "metadata": {
    "id": "7i2AkjumXttL"
   },
   "outputs": [],
   "source": []
  },
  {
   "cell_type": "code",
   "execution_count": null,
   "metadata": {
    "id": "GrtfAeCBXttL"
   },
   "outputs": [],
   "source": []
  },
  {
   "cell_type": "code",
   "execution_count": null,
   "metadata": {
    "id": "HHlU5IybXttL"
   },
   "outputs": [],
   "source": []
  },
  {
   "cell_type": "markdown",
   "metadata": {
    "id": "gxFG42FfwpN1"
   },
   "source": [
    "> #### Conclusões\n",
    "\n",
    "Escreva suas conclusões aqui..."
   ]
  },
  {
   "cell_type": "markdown",
   "metadata": {
    "id": "Opcp5rprwrlX"
   },
   "source": [
    "#### **Construa uma tabela cruzada para calcular a `Renda` média das pessoas responsáveis pelo domicílio em relação ao `Cat.Sexo` e `Cat.Cor`.**"
   ]
  },
  {
   "cell_type": "code",
   "execution_count": null,
   "metadata": {
    "id": "V1kWR01jXttM"
   },
   "outputs": [],
   "source": []
  },
  {
   "cell_type": "markdown",
   "metadata": {
    "id": "d5Iwt1EKwNfp"
   },
   "source": [
    "> #### Conclusões\n",
    "\n",
    "Escreva suas conclusões aqui..."
   ]
  },
  {
   "cell_type": "markdown",
   "metadata": {
    "id": "1uTAdILB_T6m"
   },
   "source": [
    "## **Aula 03 - Analisando a tendência dos dados**"
   ]
  },
  {
   "cell_type": "markdown",
   "metadata": {
    "id": "vJ0a5l-Di79U"
   },
   "source": [
    "### **Mão na Massa - Analisando a renda das pessoas responsáveis**"
   ]
  },
  {
   "cell_type": "markdown",
   "metadata": {
    "id": "xAZjitTs-roh"
   },
   "source": [
    "Nesta etapa do treinamento, vamos analisar mais dados das pessoas responsáveis pelo domicílio de acordo com os dados da PNAD de 2015, focando na renda e na variável que criamos com as suas alturas. Responda às perguntas abaixo e reflita sobre os achados."
   ]
  },
  {
   "cell_type": "markdown",
   "metadata": {
    "id": "pTpoxoY7-roj"
   },
   "source": [
    "#### **Calcule as medidas de tendência central (média, mediana e moda) para a variável `Renda`**"
   ]
  },
  {
   "cell_type": "code",
   "execution_count": null,
   "metadata": {
    "id": "bl8w7WoKXttN"
   },
   "outputs": [],
   "source": []
  },
  {
   "cell_type": "code",
   "execution_count": null,
   "metadata": {
    "id": "szcR7gjBXttN"
   },
   "outputs": [],
   "source": []
  },
  {
   "cell_type": "code",
   "execution_count": null,
   "metadata": {
    "id": "v3T4O-ckXttN"
   },
   "outputs": [],
   "source": []
  },
  {
   "cell_type": "code",
   "execution_count": null,
   "metadata": {
    "id": "7dfubW93XttO"
   },
   "outputs": [],
   "source": []
  },
  {
   "cell_type": "markdown",
   "metadata": {
    "id": "ICXWPxBCB9F3"
   },
   "source": [
    "#### **Crie um gráfico de barras do Top 5 estados pela médias de `Renda`**"
   ]
  },
  {
   "cell_type": "markdown",
   "metadata": {
    "id": "Fn0HRjQTFcqc"
   },
   "source": [
    "**Dica:** Para conseguir apresentar apenas os Top 5 estados utilize a função `head()` passando como variável quantos valores deseja apresentar."
   ]
  },
  {
   "cell_type": "code",
   "execution_count": null,
   "metadata": {
    "id": "fMCt_o-yXttO"
   },
   "outputs": [],
   "source": []
  },
  {
   "cell_type": "code",
   "execution_count": null,
   "metadata": {
    "id": "m09IJri9XttO"
   },
   "outputs": [],
   "source": []
  },
  {
   "cell_type": "code",
   "execution_count": null,
   "metadata": {
    "id": "RGDhPHhUXttO"
   },
   "outputs": [],
   "source": []
  },
  {
   "cell_type": "markdown",
   "metadata": {
    "id": "-3RjEjJrKa0J"
   },
   "source": [
    "> #### Conclusões\n",
    "\n",
    "Escreva suas conclusões aqui..."
   ]
  },
  {
   "cell_type": "markdown",
   "metadata": {
    "id": "7wYIJXkt-roo"
   },
   "source": [
    "#### **Construa 3 tabelas cruzadas calculando a média, mediana e valores máximos de `Renda` relacionando as pessoas responsáveis por estado da Região Sudeste (`UF`) e por `Cat.Sexo`**"
   ]
  },
  {
   "cell_type": "code",
   "execution_count": null,
   "metadata": {
    "id": "1H0p2Cr_XttP"
   },
   "outputs": [],
   "source": []
  },
  {
   "cell_type": "markdown",
   "metadata": {
    "id": "FtNN9kkiKfK4"
   },
   "source": [
    "##### **Média**"
   ]
  },
  {
   "cell_type": "code",
   "execution_count": null,
   "metadata": {
    "id": "68tKsDfKXttP"
   },
   "outputs": [],
   "source": []
  },
  {
   "cell_type": "markdown",
   "metadata": {
    "id": "I_HNBCdWKjyX"
   },
   "source": [
    "##### **Mediana**"
   ]
  },
  {
   "cell_type": "code",
   "execution_count": null,
   "metadata": {
    "id": "4Nn7xbxXXttQ"
   },
   "outputs": [],
   "source": []
  },
  {
   "cell_type": "markdown",
   "metadata": {
    "id": "m4bFpespKk2Y"
   },
   "source": [
    "##### **Renda Máxima**"
   ]
  },
  {
   "cell_type": "code",
   "execution_count": null,
   "metadata": {
    "id": "vC9JWpSbXttR"
   },
   "outputs": [],
   "source": []
  },
  {
   "cell_type": "markdown",
   "metadata": {
    "id": "4d19wJraKcQX"
   },
   "source": [
    "> #### Conclusões\n",
    "\n",
    "Escreva suas conclusões aqui..."
   ]
  },
  {
   "cell_type": "markdown",
   "metadata": {
    "id": "Jk7hNSEKC6Bf"
   },
   "source": [
    "#### **Construa 2 histogramas com curva de densidade com os valores das colunas `Altura` e `Idade` de todas as pessoas responsáveis e compare as curvas obtidas com as suas  MTCs**"
   ]
  },
  {
   "cell_type": "markdown",
   "metadata": {
    "id": "zE321QEALLSH"
   },
   "source": [
    "##### **Altura**"
   ]
  },
  {
   "cell_type": "code",
   "execution_count": null,
   "metadata": {
    "id": "Rq519uIhXttR"
   },
   "outputs": [],
   "source": []
  },
  {
   "cell_type": "code",
   "execution_count": null,
   "metadata": {
    "id": "bc55wq1ZXttR"
   },
   "outputs": [],
   "source": []
  },
  {
   "cell_type": "markdown",
   "metadata": {
    "id": "B5ZUa7OF-ror"
   },
   "source": [
    "> #### Conclusões\n",
    "\n",
    "Escreva suas conclusões aqui..."
   ]
  },
  {
   "cell_type": "markdown",
   "metadata": {
    "id": "whm6etapM6Ni"
   },
   "source": [
    "##### **Idade**"
   ]
  },
  {
   "cell_type": "code",
   "execution_count": null,
   "metadata": {
    "id": "lY6T5WxfXttS"
   },
   "outputs": [],
   "source": []
  },
  {
   "cell_type": "code",
   "execution_count": null,
   "metadata": {
    "id": "i2wdO4uqXttS"
   },
   "outputs": [],
   "source": []
  },
  {
   "cell_type": "markdown",
   "metadata": {
    "id": "8E3XCvRYM9Qz"
   },
   "source": [
    "> #### Conclusões\n",
    "\n",
    "Escreva suas conclusões aqui..."
   ]
  },
  {
   "cell_type": "markdown",
   "metadata": {
    "id": "i_X1NcH9_T-u"
   },
   "source": [
    "## **Aula 04 - Investigando os dados dos colaboradores**"
   ]
  },
  {
   "cell_type": "markdown",
   "metadata": {
    "id": "hd7f_bUIi8ty"
   },
   "source": [
    "### **Mão na Massa - Analisando as rendas e suas divisões**"
   ]
  },
  {
   "cell_type": "markdown",
   "metadata": {
    "id": "_PehOjjeVL1Y"
   },
   "source": [
    "Nesta etapa do treinamento, vamos analisar os dados das pessoas responsáveis pelo domicílio de acordo com os dados da PNAD de 2015, por meio das medidas separatrizes. Responda às perguntas abaixo e reflita sobre os achados.\n"
   ]
  },
  {
   "cell_type": "markdown",
   "metadata": {
    "id": "NENRGQVdY3fq"
   },
   "source": [
    "#### **Calcule o número de classes para `Renda` até R$15.000 utilizando a regra de Sturges**"
   ]
  },
  {
   "cell_type": "markdown",
   "metadata": {
    "id": "cBeURnT-1mvR"
   },
   "source": [
    "$$k = 1 + \\frac {10}{3}\\log_{10}n$$\n",
    "\n",
    "onde,\n",
    "\n",
    "$k$ = número de classes\n",
    "\n",
    "$n$ = número de observações.\n"
   ]
  },
  {
   "cell_type": "code",
   "execution_count": null,
   "metadata": {
    "id": "TmDnTrpCXttT"
   },
   "outputs": [],
   "source": []
  },
  {
   "cell_type": "code",
   "execution_count": null,
   "metadata": {
    "id": "EXGfDn8hXttT"
   },
   "outputs": [],
   "source": []
  },
  {
   "cell_type": "code",
   "execution_count": null,
   "metadata": {
    "id": "5LMK0dCDXttU"
   },
   "outputs": [],
   "source": []
  },
  {
   "cell_type": "code",
   "execution_count": null,
   "metadata": {
    "id": "_hGEfSObXttU"
   },
   "outputs": [],
   "source": []
  },
  {
   "cell_type": "code",
   "execution_count": null,
   "metadata": {
    "id": "sy21NWJuXttU"
   },
   "outputs": [],
   "source": []
  },
  {
   "cell_type": "markdown",
   "metadata": {
    "id": "jOLZSNmHY3fv"
   },
   "source": [
    "#### **Crie o histograma da `Renda` das pessoas responsáveis até R$15.000 seguindo o número de classes calculado anteriormente**"
   ]
  },
  {
   "cell_type": "markdown",
   "metadata": {
    "id": "ycnq6L-I24cO"
   },
   "source": [
    "> **Observação:** Ao rodar o código para dividir os dados em faixas é possível que você observe o limite inferior da 1ª faixa com um valor negativo. Isto porque a *Regra de Sturges* define o intervalo mínimo da 1ª classe pela seguinte fórmula: $min(Renda) - (max(Renda) - min(Renda)) * 0.001$.\n",
    "\n"
   ]
  },
  {
   "cell_type": "code",
   "execution_count": null,
   "metadata": {
    "id": "wkl2gz47XttU"
   },
   "outputs": [],
   "source": []
  },
  {
   "cell_type": "code",
   "execution_count": null,
   "metadata": {
    "id": "P2yIL7HvXttU"
   },
   "outputs": [],
   "source": []
  },
  {
   "cell_type": "code",
   "execution_count": null,
   "metadata": {
    "id": "OqVelsvIXttV"
   },
   "outputs": [],
   "source": []
  },
  {
   "cell_type": "markdown",
   "metadata": {
    "id": "MRRzLUVVY3fz"
   },
   "source": [
    "> #### Conclusões\n",
    "\n",
    "Escreva suas conclusões aqui..."
   ]
  },
  {
   "cell_type": "markdown",
   "metadata": {
    "id": "CY3P_t7CiUmK"
   },
   "source": [
    "#### **Responda as seguintes questões sobre o nosso dataset completo utilizando os conceitos que estudamos até aqui:**"
   ]
  },
  {
   "cell_type": "markdown",
   "metadata": {
    "id": "1eRC8Ko0B-8u"
   },
   "source": [
    "##### **1. Qual o percentual de pessoas responsáveis que ganhava até um salário mínimo em 2015 (R$ 788,00)?**\n",
    "\n"
   ]
  },
  {
   "cell_type": "code",
   "execution_count": null,
   "metadata": {
    "id": "R7iobsP9XttV"
   },
   "outputs": [],
   "source": []
  },
  {
   "cell_type": "markdown",
   "metadata": {
    "id": "DG8AZfpRY3f3"
   },
   "source": [
    "##### **2. Qual a renda máxima de 95% das pessoas responsáveis na pesquisa?**\n"
   ]
  },
  {
   "cell_type": "code",
   "execution_count": null,
   "metadata": {
    "id": "YawjpiflXttW"
   },
   "outputs": [],
   "source": []
  },
  {
   "cell_type": "markdown",
   "metadata": {
    "id": "uPqMZkacY3f5"
   },
   "source": [
    "##### **3.   Qual a renda mínima dos 1% mais bem pagos da pesquisa?**"
   ]
  },
  {
   "cell_type": "code",
   "execution_count": null,
   "metadata": {
    "id": "B3Zeil0eXttW"
   },
   "outputs": [],
   "source": []
  },
  {
   "cell_type": "markdown",
   "metadata": {
    "id": "J8R5TK2_Y3f1"
   },
   "source": [
    "##### **4. Qual a renda máxima de 25%, 50% e 75% das pessoas responsáveis que receberam até R$ 6.000 de rendimento mensal? Construa o boxplot e traga o resumo desses dados.**\n"
   ]
  },
  {
   "cell_type": "code",
   "execution_count": null,
   "metadata": {
    "id": "j4-anz8SXttW"
   },
   "outputs": [],
   "source": []
  },
  {
   "cell_type": "code",
   "execution_count": null,
   "metadata": {
    "id": "VbzETKR2XttW"
   },
   "outputs": [],
   "source": []
  },
  {
   "cell_type": "code",
   "execution_count": null,
   "metadata": {
    "id": "KiN6NB7NXttW"
   },
   "outputs": [],
   "source": []
  },
  {
   "cell_type": "markdown",
   "metadata": {
    "id": "OEVJhNXlY3f6"
   },
   "source": [
    "> #### Conclusões\n",
    "\n",
    "Escreva suas conclusões aqui..."
   ]
  },
  {
   "cell_type": "markdown",
   "metadata": {
    "id": "ZGVF4ZrrY3f7"
   },
   "source": [
    "#### **Construa o boxplot da `Renda` até o percentil 95% (`renda_6k`) das pessoas responsáveis por `Cat.Sexo` e `Cat.Cor`. Interprete o resultado.**"
   ]
  },
  {
   "cell_type": "markdown",
   "metadata": {
    "id": "hmcRkp8GHsT3"
   },
   "source": [
    "**Dica:** Para incluir uma 3ª variável na construção de um boxplot, utilize o parâmetro `hue` da seguinte maneira: `(x = Renda, y = Cat.Cor, hue = Cat.Sexo)`."
   ]
  },
  {
   "cell_type": "code",
   "execution_count": null,
   "metadata": {
    "id": "WBOTVg-lXttX"
   },
   "outputs": [],
   "source": []
  },
  {
   "cell_type": "markdown",
   "metadata": {
    "id": "u5QwAmCdlsW_"
   },
   "source": [
    "#### **Qual a idade limite para 20% da população? Construa o histograma acumulado com curva de densidade, definindo a idade limite e quantas pessoas se encaixam nessa porcentagem.**"
   ]
  },
  {
   "cell_type": "markdown",
   "metadata": {
    "id": "xtzRs-kPJnoX"
   },
   "source": [
    "**Dica:** Para ler os últimos valores de um DataFrame utilize a função `tail()`.\n",
    "\n",
    "Exemplo: `df.tail(3)` lê os ultimos 3 registros do DataFrame `df`."
   ]
  },
  {
   "cell_type": "code",
   "execution_count": null,
   "metadata": {
    "id": "TyQV3zwIXttY"
   },
   "outputs": [],
   "source": []
  },
  {
   "cell_type": "code",
   "execution_count": null,
   "metadata": {
    "id": "Zm_zltjkXttY"
   },
   "outputs": [],
   "source": []
  },
  {
   "cell_type": "code",
   "execution_count": null,
   "metadata": {
    "id": "h9OcEyx5XttY"
   },
   "outputs": [],
   "source": []
  },
  {
   "cell_type": "code",
   "execution_count": null,
   "metadata": {
    "id": "0ss0U2TKXttY"
   },
   "outputs": [],
   "source": []
  },
  {
   "cell_type": "code",
   "execution_count": null,
   "metadata": {
    "id": "c-8l5oecXttZ"
   },
   "outputs": [],
   "source": []
  },
  {
   "cell_type": "code",
   "execution_count": null,
   "metadata": {
    "id": "k84MfaZrXttZ"
   },
   "outputs": [],
   "source": []
  },
  {
   "cell_type": "code",
   "execution_count": null,
   "metadata": {
    "id": "-IATmc0gXttZ"
   },
   "outputs": [],
   "source": []
  },
  {
   "cell_type": "markdown",
   "metadata": {
    "id": "4D6YPAnvY3f-"
   },
   "source": [
    "> #### Conclusões\n",
    "\n",
    "Escreva suas conclusões aqui..."
   ]
  },
  {
   "cell_type": "markdown",
   "metadata": {
    "id": "8oiQ6DsahpRv"
   },
   "source": [
    "## **Aula 05 - Analisando a variação dos dados**"
   ]
  },
  {
   "cell_type": "markdown",
   "metadata": {
    "id": "41X1NLZpi9Z_"
   },
   "source": [
    "### **Mão na Massa - Analisando a variação da Renda das pessoas responsáveis**"
   ]
  },
  {
   "cell_type": "markdown",
   "metadata": {
    "id": "iBC8rHu8MJw5"
   },
   "source": [
    "Nesta última etapa do treinamento, vamos analisar os dados de renda das pessoas responsáveis pelo domicílio de acordo com os dados da PNAD de 2015, calculando a variação desta para determinadas características da amostra. Responda às perguntas abaixo e reflita sobre os achados.\n"
   ]
  },
  {
   "cell_type": "markdown",
   "metadata": {
    "id": "_M9dh9-Bnnak"
   },
   "source": [
    "#### **Responda as seguintes questões sobre o nosso dataset utilizando os conceitos que estudamos até aqui:**"
   ]
  },
  {
   "cell_type": "markdown",
   "metadata": {
    "id": "s3M82GT_nnal"
   },
   "source": [
    "##### **1.   Qual o desvio médio absoluto, a variância e desvio padrão da renda das pessoas responsáveis na pesquisa?**\n",
    "\n",
    "\n",
    "\n"
   ]
  },
  {
   "cell_type": "code",
   "execution_count": null,
   "metadata": {
    "id": "WTyxha0KXttd"
   },
   "outputs": [],
   "source": []
  },
  {
   "cell_type": "markdown",
   "metadata": {
    "id": "6F0H8I-MdhB9"
   },
   "source": [
    "##### **2. Construa uma tabela com a média, mediana e desvio padrão para a renda das pessoas em relação aos Anos de Estudo. O que podemos interpretar com esses dados?**"
   ]
  },
  {
   "cell_type": "code",
   "execution_count": null,
   "metadata": {
    "id": "fHD3A9zjXtte"
   },
   "outputs": [],
   "source": []
  },
  {
   "cell_type": "markdown",
   "metadata": {
    "id": "BUI1Zps3eseQ"
   },
   "source": [
    "> #### Conclusões\n",
    "\n",
    "Escreva suas conclusões aqui..."
   ]
  },
  {
   "cell_type": "markdown",
   "metadata": {
    "id": "upuAC7ZuddUd"
   },
   "source": [
    "##### **3.   Construa uma tabela com a média, mediana e desvio padrão para a renda das pessoas do sexo biológico masculino e feminino até R$ 15.000. O que podemos interpretar com esses dados?**"
   ]
  },
  {
   "cell_type": "code",
   "execution_count": null,
   "metadata": {
    "id": "_APol7btXttf"
   },
   "outputs": [],
   "source": []
  },
  {
   "cell_type": "markdown",
   "metadata": {
    "id": "4EcHVWU3etkV"
   },
   "source": [
    "> #### Conclusões\n",
    "\n",
    "Escreva suas conclusões aqui..."
   ]
  },
  {
   "cell_type": "markdown",
   "metadata": {
    "id": "Z-zoKBPRnnal"
   },
   "source": [
    "#### **Construa um boxplot da `Renda` dos estados da Região Centro-Oeste até R$ 10.000 segundo o `Cat.Sexo`. Para interpretar o resultado construa 3 tabelas com cada uma das estatísticas descritivas (média, mediana e desvio padrão).**"
   ]
  },
  {
   "cell_type": "code",
   "execution_count": null,
   "metadata": {
    "id": "sOQE8rbkXttf"
   },
   "outputs": [],
   "source": []
  },
  {
   "cell_type": "code",
   "execution_count": null,
   "metadata": {
    "id": "-RXYntHRXttf"
   },
   "outputs": [],
   "source": []
  },
  {
   "cell_type": "markdown",
   "metadata": {
    "id": "RSyeOjU3oA6t"
   },
   "source": [
    "##### **Média**"
   ]
  },
  {
   "cell_type": "code",
   "execution_count": null,
   "metadata": {
    "id": "BgCrJDFtXttg"
   },
   "outputs": [],
   "source": []
  },
  {
   "cell_type": "markdown",
   "metadata": {
    "id": "-IAhXYjDoDjU"
   },
   "source": [
    "##### **Mediana**"
   ]
  },
  {
   "cell_type": "code",
   "execution_count": null,
   "metadata": {
    "id": "A1-P7p3yXttg"
   },
   "outputs": [],
   "source": []
  },
  {
   "cell_type": "markdown",
   "metadata": {
    "id": "TaiN5Uk9oG1D"
   },
   "source": [
    "##### **Desvio Padrão**"
   ]
  },
  {
   "cell_type": "code",
   "execution_count": null,
   "metadata": {
    "id": "fG2n4hMPXttg"
   },
   "outputs": [],
   "source": []
  },
  {
   "cell_type": "markdown",
   "metadata": {
    "id": "Yvhlg_qWewNB"
   },
   "source": [
    "> #### Conclusões\n",
    "\n",
    "Escreva suas conclusões aqui..."
   ]
  }
 ],
 "metadata": {
  "colab": {
   "collapsed_sections": [
    "pTpoxoY7-roj"
   ],
   "provenance": []
  },
  "kernelspec": {
   "display_name": ".venv",
   "language": "python",
   "name": "python3"
  },
  "language_info": {
   "codemirror_mode": {
    "name": "ipython",
    "version": 3
   },
   "file_extension": ".py",
   "mimetype": "text/x-python",
   "name": "python",
   "nbconvert_exporter": "python",
   "pygments_lexer": "ipython3",
   "version": "3.11.2"
  },
  "orig_nbformat": 4
 },
 "nbformat": 4,
 "nbformat_minor": 0
}
