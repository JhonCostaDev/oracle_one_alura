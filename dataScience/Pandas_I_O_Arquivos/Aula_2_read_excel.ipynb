{
 "cells": [
  {
   "cell_type": "code",
   "execution_count": 1,
   "id": "90727e9f",
   "metadata": {},
   "outputs": [],
   "source": [
    "import pandas as pd"
   ]
  },
  {
   "cell_type": "code",
   "execution_count": 2,
   "id": "40e2e131",
   "metadata": {},
   "outputs": [],
   "source": [
    "url = 'https://github.com/alura-cursos/Pandas/blob/main/emissoes_CO2.xlsx?raw=True'"
   ]
  },
  {
   "cell_type": "code",
   "execution_count": 5,
   "id": "40af5443",
   "metadata": {},
   "outputs": [
    {
     "name": "stdout",
     "output_type": "stream",
     "text": [
      "<class 'pandas.core.frame.DataFrame'>\n",
      "RangeIndex: 63104 entries, 0 to 63103\n",
      "Data columns (total 11 columns):\n",
      " #   Column              Non-Null Count  Dtype  \n",
      "---  ------              --------------  -----  \n",
      " 0   País                63104 non-null  object \n",
      " 1   ISO 3166-1 alpha-3  61472 non-null  object \n",
      " 2   Ano                 63104 non-null  int64  \n",
      " 3   Total               62904 non-null  float64\n",
      " 4   Carvão              21744 non-null  float64\n",
      " 5   Oléo                21717 non-null  float64\n",
      " 6   Gás                 21618 non-null  float64\n",
      " 7   Cimento             20814 non-null  float64\n",
      " 8   Queima              21550 non-null  float64\n",
      " 9   Outro               1620 non-null   float64\n",
      " 10  Per Capita          18974 non-null  float64\n",
      "dtypes: float64(8), int64(1), object(2)\n",
      "memory usage: 5.3+ MB\n"
     ]
    }
   ],
   "source": [
    "data = pd.read_excel(url)\n",
    "data.info()"
   ]
  },
  {
   "cell_type": "code",
   "execution_count": null,
   "id": "fd96d8c1",
   "metadata": {},
   "outputs": [
    {
     "data": {
      "text/plain": [
       "['emissoes_C02', 'emissoes_percapita', 'fontes']"
      ]
     },
     "execution_count": 8,
     "metadata": {},
     "output_type": "execute_result"
    }
   ],
   "source": [
    "# Descobrir sheets adicionais, quando uma arquivo de planilha tem mais de uma folha(guia), ao fazer a leitura padrao, o pandas busca apenas a primeira folha (sheet), sendo necessaria a passagem de parametros para a funcao read_excel, para acessar as outras sheets.\n",
    "\n",
    "pd.ExcelFile(url).sheet_names"
   ]
  },
  {
   "cell_type": "markdown",
   "id": "b8f0fdad",
   "metadata": {},
   "source": [
    "## Formatos suportados pela função read_excel()\n",
    "\n",
    "O Microsoft Excel é uma das ferramentas de planilha mais utilizadas no mundo, sendo amplamente utilizado para armazenar e analisar dados em formato de tabela. No vídeo anterior, demonstramos como a função read_excel pode ser utilizada para ler um arquivo Excel no formato xlsx. No entanto, essa função é capaz de ler arquivos em outros formatos, como: xls, xlsm, xlsb, odf, ods e odt.\n",
    "\n",
    "Vamos entender um pouco mais sobre esses diferentes tipos de arquivos?\n",
    "\n",
    "* xls\n",
    "O xls é um formato de arquivo do Excel mais antigo e usado até a versão de 2003.\n",
    "\n",
    "* xlsx\n",
    "Já o xlsx é o formato de arquivo padrão do Excel a partir da versão 2007. Esse formato é baseado em XML (Extensible Markup Language - Linguagem de marcação extensível) e é amplamente suportado por outras ferramentas de planilha eletrônica, incluindo o Google Planilhas.\n",
    "\n",
    "Atenção: Se surgiram algumas dúvidas com o termo XML, não se preocupe! Mais adiante teremos uma aula sobre esse tema. Nela você entenderá o que é esse formato, na medida em que lê e escreve em XML.\n",
    "\n",
    "* xlsm\n",
    "Há também o xlsm, uma extensão de arquivo usada pelo Excel para armazenar planilhas que contêm as macros. Estas são sequências de comandos ou instruções que podem ser executadas automaticamente para realizar tarefas específicas na planilha.\n",
    "\n",
    "Então, o formato xlsm permite que as macros sejam salvas juntamente com a planilha, para que possam ser executadas sempre que a planilha for aberta.\n",
    "\n",
    "* xlsb\n",
    "Por fim, temos o formato xlsb, uma extensão de arquivo usada pelo Excel para armazenar planilhas em formato binário. A codificação binária permite que as planilhas sejam abertas e salvas com mais rapidez do que aquelas no formato xlsx.\n",
    "\n",
    "Já os formatos odf, ods e odt são arquivos abertos, livres e universais que podem ser usados por qualquer software, ou seja, foram criados para serem independentes de plataformas, isso significa que podem ser usados em sistemas operacionais diferentes, como Windows, Linux e Mac OS.\n",
    "\n",
    "Além disso, são independentes de aplicativos e podem ser usados em vários programas diferentes, incluindo o OpenOffice, o LibreOffice, o Google Docs e o Microsoft Office. Esse padrão de arquivos foi criado e é mantido pela OASIS (Organization for the Advancement of Structured Information Standards), uma organização internacional criada para desenvolver e promover padrões digitais para uso na Internet.\n"
   ]
  },
  {
   "cell_type": "markdown",
   "id": "cb9eff53",
   "metadata": {},
   "source": [
    "### Parâmetros da função read_excel"
   ]
  },
  {
   "cell_type": "code",
   "execution_count": 9,
   "id": "e1860ad0",
   "metadata": {},
   "outputs": [],
   "source": [
    "percapita = pd.read_excel(url, sheet_name='emissoes_percapita')"
   ]
  },
  {
   "cell_type": "code",
   "execution_count": 10,
   "id": "a46a6426",
   "metadata": {},
   "outputs": [
    {
     "name": "stdout",
     "output_type": "stream",
     "text": [
      "<class 'pandas.core.frame.DataFrame'>\n",
      "RangeIndex: 63104 entries, 0 to 63103\n",
      "Data columns (total 10 columns):\n",
      " #   Column              Non-Null Count  Dtype  \n",
      "---  ------              --------------  -----  \n",
      " 0   País                63104 non-null  object \n",
      " 1   ISO 3166-1 alpha-3  61472 non-null  object \n",
      " 2   Ano                 63104 non-null  int64  \n",
      " 3   Total               18972 non-null  float64\n",
      " 4   Carvão              17138 non-null  float64\n",
      " 5   Óleo                17039 non-null  float64\n",
      " 6   Gás                 17012 non-null  float64\n",
      " 7   Cimento             15448 non-null  float64\n",
      " 8   Queima              16944 non-null  float64\n",
      " 9   Outro               1620 non-null   float64\n",
      "dtypes: float64(7), int64(1), object(2)\n",
      "memory usage: 4.8+ MB\n"
     ]
    }
   ],
   "source": [
    "percapita.info()"
   ]
  },
  {
   "cell_type": "code",
   "execution_count": 12,
   "id": "6239fc78",
   "metadata": {},
   "outputs": [
    {
     "name": "stdout",
     "output_type": "stream",
     "text": [
      "<class 'pandas.core.frame.DataFrame'>\n",
      "RangeIndex: 63104 entries, 0 to 63103\n",
      "Data columns (total 11 columns):\n",
      " #   Column              Non-Null Count  Dtype \n",
      "---  ------              --------------  ----- \n",
      " 0   País                63104 non-null  object\n",
      " 1   ISO 3166-1 alpha-3  61472 non-null  object\n",
      " 2   Ano                 63104 non-null  int64 \n",
      " 3   Total               63104 non-null  object\n",
      " 4   Carvão              63104 non-null  object\n",
      " 5   Oléo                63104 non-null  object\n",
      " 6   Gás                 63104 non-null  object\n",
      " 7   Cimento             63104 non-null  object\n",
      " 8   Queima              63104 non-null  object\n",
      " 9   Outro               63104 non-null  object\n",
      " 10  Per Capita          63104 non-null  object\n",
      "dtypes: int64(1), object(10)\n",
      "memory usage: 5.3+ MB\n"
     ]
    }
   ],
   "source": [
    "fontes = pd.read_excel(url, sheet_name='fontes')\n",
    "fontes.info()"
   ]
  },
  {
   "cell_type": "code",
   "execution_count": 13,
   "id": "3b9c6b8b",
   "metadata": {},
   "outputs": [
    {
     "name": "stdout",
     "output_type": "stream",
     "text": [
      "<class 'pandas.core.frame.DataFrame'>\n",
      "RangeIndex: 63104 entries, 0 to 63103\n",
      "Data columns (total 4 columns):\n",
      " #   Column              Non-Null Count  Dtype  \n",
      "---  ------              --------------  -----  \n",
      " 0   País                63104 non-null  object \n",
      " 1   ISO 3166-1 alpha-3  61472 non-null  object \n",
      " 2   Ano                 63104 non-null  int64  \n",
      " 3   Total               62904 non-null  float64\n",
      "dtypes: float64(1), int64(1), object(2)\n",
      "memory usage: 1.9+ MB\n"
     ]
    }
   ],
   "source": [
    "intervalo = pd.read_excel(url, sheet_name='emissoes_C02', usecols= 'A:D')\n",
    "intervalo.info()"
   ]
  },
  {
   "cell_type": "markdown",
   "id": "a40667bc",
   "metadata": {},
   "source": [
    "### Parâmetro nrows\n",
    "\n",
    "Outro parâmetro da função **read_excel()** é o nrows, responsável por definir a quantidade a linhas exibidas. Para demonstrá-lo, vamos criar uma variável chamada intervalo_2 e chamar read_excel(). Além da URL, do nome da página e do intervalo de colunas, definiremos a exibição de apenas 10 linhas com nrows=10"
   ]
  },
  {
   "cell_type": "code",
   "execution_count": 15,
   "id": "ace1ccd4",
   "metadata": {},
   "outputs": [
    {
     "name": "stdout",
     "output_type": "stream",
     "text": [
      "<class 'pandas.core.frame.DataFrame'>\n",
      "RangeIndex: 10 entries, 0 to 9\n",
      "Data columns (total 4 columns):\n",
      " #   Column              Non-Null Count  Dtype \n",
      "---  ------              --------------  ----- \n",
      " 0   País                10 non-null     object\n",
      " 1   ISO 3166-1 alpha-3  10 non-null     object\n",
      " 2   Ano                 10 non-null     int64 \n",
      " 3   Total               10 non-null     int64 \n",
      "dtypes: int64(2), object(2)\n",
      "memory usage: 452.0+ bytes\n"
     ]
    }
   ],
   "source": [
    "intervalo_2 = pd.read_excel(url, sheet_name='emissoes_C02', usecols= 'A:D', nrows=10)\n",
    "\n",
    "intervalo_2.info()"
   ]
  },
  {
   "cell_type": "markdown",
   "id": "56a501ca",
   "metadata": {},
   "source": [
    "## Salvando em formato de planilha excel\n",
    "\n"
   ]
  },
  {
   "cell_type": "code",
   "execution_count": 16,
   "id": "20d46589",
   "metadata": {},
   "outputs": [],
   "source": [
    "percapita.to_excel('data/co2_percapita.xlsx', index=False)"
   ]
  },
  {
   "cell_type": "markdown",
   "id": "3f1abb4e",
   "metadata": {},
   "source": [
    "### Lendo dados do Google Planilhas\n",
    "\n",
    "No Google Planilhas, é possível carregar dados no formato Excel e CSV. Uma vez carregados, vamos visualizar as páginas dessa planilha — algo que não tínhamos conseguido fazer no GitHub.\n",
    "\n",
    "Com a planilha aberta no Google Planilhas, temos as seguintes páginas listadas na parte inferior da interface:\n",
    "\n",
    "* emissoes_CO2\n",
    "* emissoes_percapita\n",
    "* fontes\n",
    "\n",
    "\n",
    "### Acessando pelo Google Planilhas\n",
    "\n",
    "No Google Planilhas, é possível obter o link da planilha e compartilhá-lo com outras pessoas. Além disso, podemos usar esse link para acessar a planilha no Colab!\n",
    "\n",
    "Ao clicar no botão \"Compartilhar\" no canto superior direito, será aberta uma caixa de diálogo no centro da tela. No tópico \"Acesso geral\", selecionaremos a opção \"Qualquer pessoa com o link\". Em seguida, clicaremos em \"Copiar link\" no canto inferior esquerdo, depois em \"Concluído\" no canto inferior direito.\n",
    "\n",
    "Toda planilha possui um ID para identificá-la. Este ID está presente nessa URL, entre **/d/ e /edit?usp=sharing**. No caso, o ID da planilha é o seguinte:\n",
    "```bash\n",
    "1lzq0k-41-MbbS63C3Q9i1wPvLkSJt9zhr4Jolt1vEog\n",
    "```\n",
    "\n",
    "Em uma nova célula, criaremos uma variável chamada sheet_id para armazenar esse ID:\n",
    "\n",
    "```python\n",
    "sheet_id = '1lzq0k-41-MbbS63C3Q9i1wPvLkSJt9zhr4Jolt1vEog'\n",
    "```\n",
    "Para acessar a planilha no Colab, precisaremos alterar alguns trechos da URL. Em uma nova célula, criaremos uma variável chamada url, cujo valor inicial será a URL de compartilhamento até o /d/:\n",
    "```python\n",
    "url = https://docs.google.com/spreadsheets/d/\n",
    "```\n",
    "Após /d/, vamos inserir a variável sheet_id entre chaves:\n",
    "```python\n",
    "url = https://docs.google.com/spreadsheets/d/{sheet_id}\n",
    "```\n",
    "Para acessar a variável sheet_id nessa URL, empregaremos uma f-string, uma maneira interessante de formatar strings em Python. Basta envolver a URL entre aspas simples e incluir a letra \"f\" no início:\n",
    "\n",
    "```python\n",
    "url = f'https://docs.google.com/spreadsheets/d/{sheet_id}'\n",
    "```\n",
    "Assim, todos os elementos que aparecem entre chaves serão substituídos pelas variáveis correspondentes. No caso, o trecho {sheet_id} da URL será substituído pela string que armazenamos na variável sheet_id anteriormente. Essa prática torna o código mais simples, melhorando sua escrita e a leitura.\n",
    "\n",
    "A seguir, adicionaremos alguns parâmetros para permitir o acesso à planilha. Vamos colocar uma barra após {sheet_id} e inserir o parâmetro gviz/tq:\n",
    "\n",
    "```python\n",
    "url = f'https://docs.google.com/spreadsheets/d/{sheet_id}/gviz/tq'\n",
    "```\n",
    "O que é esse parâmetro e para que ele serve? Para ter acesso à planilha, é necessário acessar a API de visualização de dados do Google. API significa Application Programming Interface, isto é, uma interface de programação de aplicações. Elas permitem sistemas diferentes se comuniquem.\n",
    "\n",
    "No caso, queremos criar a comunicação entre o Google Colab e o Google Planilhas. O parâmetro gviz/tq permite o acesso à API responsável por essa comunicação.\n",
    "\n",
    "Após gviz/tq, adicionaremos um ponto de interrogação e o parâmetro tqx=out:csv:\n",
    "```python\n",
    "url = f'https://docs.google.com/spreadsheets/d/{sheet_id}/gviz/tq?tqx=out:csv'\n",
    "```\n",
    "Dessa forma, nossos dados serão retornados em formato CSV (que já temos familiaridade, de aulas anteriores). Por fim, incluiremos o símbolo do \"e comercial\" e a palavra sheet:\n",
    "\n",
    "```python\n",
    "url = f'https://docs.google.com/spreadsheets/d/{sheet_id}/gviz/tq?tqx=out:csv&sheet'\n",
    "```\n",
    "Assim, todos os dados da planilha serão retornados, incluindo cabeçalho, linhas e colunas. Nossa URL está pronta! A seguir, vamos verificar se tudo funciona como esperado.\n",
    "\n",
    "Em uma nova célula, criaremos uma variável chamada dados_co2_sheets. Como definimos que o retorno será em formato CSV, chamaremos a função read_csv() da biblioteca Pandas. Como parâmetro, passaremos a variável url:"
   ]
  },
  {
   "cell_type": "code",
   "execution_count": 18,
   "id": "001b00d2",
   "metadata": {},
   "outputs": [],
   "source": [
    "sheet_id = '1lzq0k-41-MbbS63C3Q9i1wPvLkSJt9zhr4Jolt1vEog'\n",
    "\n",
    "url = f'https://docs.google.com/spreadsheets/d/{sheet_id}/gviz/tq?tqx=out:csv&sheet'"
   ]
  },
  {
   "cell_type": "code",
   "execution_count": 19,
   "id": "ce46e55a",
   "metadata": {},
   "outputs": [
    {
     "data": {
      "text/html": [
       "<div>\n",
       "<style scoped>\n",
       "    .dataframe tbody tr th:only-of-type {\n",
       "        vertical-align: middle;\n",
       "    }\n",
       "\n",
       "    .dataframe tbody tr th {\n",
       "        vertical-align: top;\n",
       "    }\n",
       "\n",
       "    .dataframe thead th {\n",
       "        text-align: right;\n",
       "    }\n",
       "</style>\n",
       "<table border=\"1\" class=\"dataframe\">\n",
       "  <thead>\n",
       "    <tr style=\"text-align: right;\">\n",
       "      <th></th>\n",
       "      <th>País</th>\n",
       "      <th>ISO 3166-1 alpha-3</th>\n",
       "      <th>Ano</th>\n",
       "      <th>Total</th>\n",
       "      <th>Carvão</th>\n",
       "      <th>Oléo</th>\n",
       "      <th>Gás</th>\n",
       "      <th>Cimento</th>\n",
       "      <th>Queima</th>\n",
       "      <th>Outro</th>\n",
       "      <th>Per Capita</th>\n",
       "    </tr>\n",
       "  </thead>\n",
       "  <tbody>\n",
       "    <tr>\n",
       "      <th>0</th>\n",
       "      <td>Afeganistão</td>\n",
       "      <td>AFG</td>\n",
       "      <td>1750</td>\n",
       "      <td>0</td>\n",
       "      <td>NaN</td>\n",
       "      <td>NaN</td>\n",
       "      <td>NaN</td>\n",
       "      <td>NaN</td>\n",
       "      <td>NaN</td>\n",
       "      <td>NaN</td>\n",
       "      <td>NaN</td>\n",
       "    </tr>\n",
       "    <tr>\n",
       "      <th>1</th>\n",
       "      <td>Afeganistão</td>\n",
       "      <td>AFG</td>\n",
       "      <td>1751</td>\n",
       "      <td>0</td>\n",
       "      <td>NaN</td>\n",
       "      <td>NaN</td>\n",
       "      <td>NaN</td>\n",
       "      <td>NaN</td>\n",
       "      <td>NaN</td>\n",
       "      <td>NaN</td>\n",
       "      <td>NaN</td>\n",
       "    </tr>\n",
       "    <tr>\n",
       "      <th>2</th>\n",
       "      <td>Afeganistão</td>\n",
       "      <td>AFG</td>\n",
       "      <td>1752</td>\n",
       "      <td>0</td>\n",
       "      <td>NaN</td>\n",
       "      <td>NaN</td>\n",
       "      <td>NaN</td>\n",
       "      <td>NaN</td>\n",
       "      <td>NaN</td>\n",
       "      <td>NaN</td>\n",
       "      <td>NaN</td>\n",
       "    </tr>\n",
       "    <tr>\n",
       "      <th>3</th>\n",
       "      <td>Afeganistão</td>\n",
       "      <td>AFG</td>\n",
       "      <td>1753</td>\n",
       "      <td>0</td>\n",
       "      <td>NaN</td>\n",
       "      <td>NaN</td>\n",
       "      <td>NaN</td>\n",
       "      <td>NaN</td>\n",
       "      <td>NaN</td>\n",
       "      <td>NaN</td>\n",
       "      <td>NaN</td>\n",
       "    </tr>\n",
       "    <tr>\n",
       "      <th>4</th>\n",
       "      <td>Afeganistão</td>\n",
       "      <td>AFG</td>\n",
       "      <td>1754</td>\n",
       "      <td>0</td>\n",
       "      <td>NaN</td>\n",
       "      <td>NaN</td>\n",
       "      <td>NaN</td>\n",
       "      <td>NaN</td>\n",
       "      <td>NaN</td>\n",
       "      <td>NaN</td>\n",
       "      <td>NaN</td>\n",
       "    </tr>\n",
       "  </tbody>\n",
       "</table>\n",
       "</div>"
      ],
      "text/plain": [
       "          País ISO 3166-1 alpha-3   Ano Total Carvão Oléo  Gás Cimento Queima  \\\n",
       "0  Afeganistão                AFG  1750     0    NaN  NaN  NaN     NaN    NaN   \n",
       "1  Afeganistão                AFG  1751     0    NaN  NaN  NaN     NaN    NaN   \n",
       "2  Afeganistão                AFG  1752     0    NaN  NaN  NaN     NaN    NaN   \n",
       "3  Afeganistão                AFG  1753     0    NaN  NaN  NaN     NaN    NaN   \n",
       "4  Afeganistão                AFG  1754     0    NaN  NaN  NaN     NaN    NaN   \n",
       "\n",
       "  Outro Per Capita  \n",
       "0   NaN        NaN  \n",
       "1   NaN        NaN  \n",
       "2   NaN        NaN  \n",
       "3   NaN        NaN  \n",
       "4   NaN        NaN  "
      ]
     },
     "execution_count": 19,
     "metadata": {},
     "output_type": "execute_result"
    }
   ],
   "source": [
    "dados_co2_sheets = pd.read_csv(url)\n",
    "dados_co2_sheets.head()"
   ]
  },
  {
   "cell_type": "code",
   "execution_count": 20,
   "id": "203bdbc0",
   "metadata": {},
   "outputs": [],
   "source": [
    "sheet_id = '1lzq0k-41-MbbS63C3Q9i1wPvLkSJt9zhr4Jolt1vEog'\n",
    "sheet_name = 'emissoes_percapita'\n",
    "url_percapita = f'https://docs.google.com/spreadsheets/d/{sheet_id}/gviz/tq?tqx=out:csv&sheet={sheet_name}'"
   ]
  },
  {
   "cell_type": "code",
   "execution_count": 21,
   "id": "b93b2038",
   "metadata": {},
   "outputs": [
    {
     "data": {
      "text/html": [
       "<div>\n",
       "<style scoped>\n",
       "    .dataframe tbody tr th:only-of-type {\n",
       "        vertical-align: middle;\n",
       "    }\n",
       "\n",
       "    .dataframe tbody tr th {\n",
       "        vertical-align: top;\n",
       "    }\n",
       "\n",
       "    .dataframe thead th {\n",
       "        text-align: right;\n",
       "    }\n",
       "</style>\n",
       "<table border=\"1\" class=\"dataframe\">\n",
       "  <thead>\n",
       "    <tr style=\"text-align: right;\">\n",
       "      <th></th>\n",
       "      <th>País</th>\n",
       "      <th>ISO 3166-1 alpha-3</th>\n",
       "      <th>Ano</th>\n",
       "      <th>Total</th>\n",
       "      <th>Carvão</th>\n",
       "      <th>Óleo</th>\n",
       "      <th>Gás</th>\n",
       "      <th>Cimento</th>\n",
       "      <th>Queima</th>\n",
       "      <th>Outro</th>\n",
       "    </tr>\n",
       "  </thead>\n",
       "  <tbody>\n",
       "    <tr>\n",
       "      <th>0</th>\n",
       "      <td>Afeganistão</td>\n",
       "      <td>AFG</td>\n",
       "      <td>1750</td>\n",
       "      <td>NaN</td>\n",
       "      <td>NaN</td>\n",
       "      <td>NaN</td>\n",
       "      <td>NaN</td>\n",
       "      <td>NaN</td>\n",
       "      <td>NaN</td>\n",
       "      <td>NaN</td>\n",
       "    </tr>\n",
       "    <tr>\n",
       "      <th>1</th>\n",
       "      <td>Afeganistão</td>\n",
       "      <td>AFG</td>\n",
       "      <td>1751</td>\n",
       "      <td>NaN</td>\n",
       "      <td>NaN</td>\n",
       "      <td>NaN</td>\n",
       "      <td>NaN</td>\n",
       "      <td>NaN</td>\n",
       "      <td>NaN</td>\n",
       "      <td>NaN</td>\n",
       "    </tr>\n",
       "    <tr>\n",
       "      <th>2</th>\n",
       "      <td>Afeganistão</td>\n",
       "      <td>AFG</td>\n",
       "      <td>1752</td>\n",
       "      <td>NaN</td>\n",
       "      <td>NaN</td>\n",
       "      <td>NaN</td>\n",
       "      <td>NaN</td>\n",
       "      <td>NaN</td>\n",
       "      <td>NaN</td>\n",
       "      <td>NaN</td>\n",
       "    </tr>\n",
       "    <tr>\n",
       "      <th>3</th>\n",
       "      <td>Afeganistão</td>\n",
       "      <td>AFG</td>\n",
       "      <td>1753</td>\n",
       "      <td>NaN</td>\n",
       "      <td>NaN</td>\n",
       "      <td>NaN</td>\n",
       "      <td>NaN</td>\n",
       "      <td>NaN</td>\n",
       "      <td>NaN</td>\n",
       "      <td>NaN</td>\n",
       "    </tr>\n",
       "    <tr>\n",
       "      <th>4</th>\n",
       "      <td>Afeganistão</td>\n",
       "      <td>AFG</td>\n",
       "      <td>1754</td>\n",
       "      <td>NaN</td>\n",
       "      <td>NaN</td>\n",
       "      <td>NaN</td>\n",
       "      <td>NaN</td>\n",
       "      <td>NaN</td>\n",
       "      <td>NaN</td>\n",
       "      <td>NaN</td>\n",
       "    </tr>\n",
       "  </tbody>\n",
       "</table>\n",
       "</div>"
      ],
      "text/plain": [
       "          País ISO 3166-1 alpha-3   Ano Total Carvão Óleo  Gás Cimento Queima  \\\n",
       "0  Afeganistão                AFG  1750   NaN    NaN  NaN  NaN     NaN    NaN   \n",
       "1  Afeganistão                AFG  1751   NaN    NaN  NaN  NaN     NaN    NaN   \n",
       "2  Afeganistão                AFG  1752   NaN    NaN  NaN  NaN     NaN    NaN   \n",
       "3  Afeganistão                AFG  1753   NaN    NaN  NaN  NaN     NaN    NaN   \n",
       "4  Afeganistão                AFG  1754   NaN    NaN  NaN  NaN     NaN    NaN   \n",
       "\n",
       "   Outro  \n",
       "0    NaN  \n",
       "1    NaN  \n",
       "2    NaN  \n",
       "3    NaN  \n",
       "4    NaN  "
      ]
     },
     "execution_count": 21,
     "metadata": {},
     "output_type": "execute_result"
    }
   ],
   "source": [
    "percapita_sheets = pd.read_csv(url_percapita)\n",
    "percapita_sheets.head()"
   ]
  }
 ],
 "metadata": {
  "kernelspec": {
   "display_name": ".venv",
   "language": "python",
   "name": "python3"
  },
  "language_info": {
   "codemirror_mode": {
    "name": "ipython",
    "version": 3
   },
   "file_extension": ".py",
   "mimetype": "text/x-python",
   "name": "python",
   "nbconvert_exporter": "python",
   "pygments_lexer": "ipython3",
   "version": "3.12.1"
  }
 },
 "nbformat": 4,
 "nbformat_minor": 5
}
